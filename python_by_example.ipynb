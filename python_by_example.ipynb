{
  "nbformat": 4,
  "nbformat_minor": 0,
  "metadata": {
    "date": 1585541039.6046996,
    "filename": "python_by_example.rst",
    "kernelspec": {
      "display_name": "Python",
      "language": "python3",
      "name": "python3"
    },
    "title": "An Introductory Example",
    "colab": {
      "name": "python_by_example.ipynb",
      "provenance": [],
      "include_colab_link": true
    }
  },
  "cells": [
    {
      "cell_type": "markdown",
      "metadata": {
        "id": "view-in-github",
        "colab_type": "text"
      },
      "source": [
        "<a href=\"https://colab.research.google.com/github/VHKA1729/qe/blob/master/python_by_example.ipynb\" target=\"_parent\"><img src=\"https://colab.research.google.com/assets/colab-badge.svg\" alt=\"Open In Colab\"/></a>"
      ]
    },
    {
      "cell_type": "markdown",
      "metadata": {
        "id": "V2pvwDZwdBxS",
        "colab_type": "text"
      },
      "source": [
        "\n",
        "<a id='python-by-example'></a>\n",
        "<div id=\"qe-notebook-header\" align=\"right\" style=\"text-align:right;\">\n",
        "        <a href=\"https://quantecon.org/\" title=\"quantecon.org\">\n",
        "                <img style=\"width:250px;display:inline;\" width=\"250px\" src=\"https://assets.quantecon.org/img/qe-menubar-logo.svg\" alt=\"QuantEcon\">\n",
        "        </a>\n",
        "</div>"
      ]
    },
    {
      "cell_type": "markdown",
      "metadata": {
        "id": "VXiamOKedBxV",
        "colab_type": "text"
      },
      "source": [
        "# An Introductory Example\n",
        "\n",
        "\n",
        "<a id='index-0'></a>"
      ]
    },
    {
      "cell_type": "markdown",
      "metadata": {
        "id": "ccUW6UEHdBxW",
        "colab_type": "text"
      },
      "source": [
        "## Contents\n",
        "\n",
        "- [An Introductory Example](#An-Introductory-Example)  \n",
        "  - [Overview](#Overview)  \n",
        "  - [The Task: Plotting a White Noise Process](#The-Task:-Plotting-a-White-Noise-Process)  \n",
        "  - [Version 1](#Version-1)  \n",
        "  - [Alternative Implementations](#Alternative-Implementations)  \n",
        "  - [Another Application](#Another-Application)  \n",
        "  - [Exercises](#Exercises)  \n",
        "  - [Solutions](#Solutions)  "
      ]
    },
    {
      "cell_type": "markdown",
      "metadata": {
        "id": "F4gDJN89dBxX",
        "colab_type": "text"
      },
      "source": [
        "## Overview\n",
        "\n",
        "We’re now ready to start learning the Python language itself.\n",
        "\n",
        "In this lecture, we will write and then pick apart small Python programs.\n",
        "\n",
        "The objective is to introduce you to basic Python syntax and data structures.\n",
        "\n",
        "Deeper concepts will be covered in later lectures.\n",
        "\n",
        "You should have read the [lecture](https://python-programming.quantecon.org/getting_started.html) on getting started with Python before beginning this one."
      ]
    },
    {
      "cell_type": "markdown",
      "metadata": {
        "id": "RJWB8MwRdBxY",
        "colab_type": "text"
      },
      "source": [
        "## The Task: Plotting a White Noise Process\n",
        "\n",
        "Suppose we want to simulate and plot the white noise\n",
        "process $ \\epsilon_0, \\epsilon_1, \\ldots, \\epsilon_T $, where each draw $ \\epsilon_t $ is independent standard normal.\n",
        "\n",
        "In other words, we want to generate figures that look something like this:\n",
        "\n",
        "<img src=\"https://s3-ap-southeast-2.amazonaws.com/python-programming.quantecon.org/_static/lecture_specific/python_by_example/test_program_1_updated.png\" style=\"\">\n",
        "\n",
        "  \n",
        "(Here $ t $ is on the horizontal axis and $ \\epsilon_t $ is on the\n",
        "vertical axis.)\n",
        "\n",
        "We’ll do this in several different ways, each time learning something more\n",
        "about Python.\n",
        "\n",
        "We run the following command first, which helps ensure that plots appear in the\n",
        "notebook if you run it on your own machine."
      ]
    },
    {
      "cell_type": "code",
      "metadata": {
        "hide-output": false,
        "id": "u8hVsNYZdBxZ",
        "colab_type": "code",
        "colab": {}
      },
      "source": [
        "%matplotlib inline"
      ],
      "execution_count": 0,
      "outputs": []
    },
    {
      "cell_type": "markdown",
      "metadata": {
        "id": "EnGqp-DldBxf",
        "colab_type": "text"
      },
      "source": [
        "## Version 1\n",
        "\n",
        "\n",
        "<a id='ourfirstprog'></a>\n",
        "Here are a few lines of code that perform the task we set"
      ]
    },
    {
      "cell_type": "code",
      "metadata": {
        "hide-output": false,
        "id": "lcyYcHcpdBxh",
        "colab_type": "code",
        "outputId": "c743ef5f-e4a8-461e-da80-38d5ccb24211",
        "colab": {
          "base_uri": "https://localhost:8080/",
          "height": 265
        }
      },
      "source": [
        "import numpy as np\n",
        "import matplotlib.pyplot as plt\n",
        "\n",
        "ϵ_values = np.random.randn(100)\n",
        "plt.plot(ϵ_values)\n",
        "plt.show()"
      ],
      "execution_count": 0,
      "outputs": [
        {
          "output_type": "display_data",
          "data": {
            "image/png": "[encoded data removed]",
            "text/plain": [
              "<Figure size 432x288 with 1 Axes>"
            ]
          },
          "metadata": {
            "tags": []
          }
        }
      ]
    },
    {
      "cell_type": "markdown",
      "metadata": {
        "id": "l2NHuYFidBxk",
        "colab_type": "text"
      },
      "source": [
        "Let’s break this program down and see how it works.\n",
        "\n",
        "\n",
        "<a id='import'></a>"
      ]
    },
    {
      "cell_type": "markdown",
      "metadata": {
        "id": "mFpvhIY1dBxl",
        "colab_type": "text"
      },
      "source": [
        "### Imports\n",
        "\n",
        "The first two lines of the program import functionality from external code\n",
        "libraries.\n",
        "\n",
        "The first line imports [NumPy](https://python-programming.quantecon.org/numpy.html), a favorite Python package for tasks like\n",
        "\n",
        "- working with arrays (vectors and matrices)  \n",
        "- common mathematical functions like `cos` and `sqrt`  \n",
        "- generating random numbers  \n",
        "- linear algebra, etc.  \n",
        "\n",
        "\n",
        "After `import numpy as np` we have access to these attributes via the syntax `np.attribute`.\n",
        "\n",
        "Here’s two more examples"
      ]
    },
    {
      "cell_type": "code",
      "metadata": {
        "hide-output": false,
        "id": "kPJXGpNidBxm",
        "colab_type": "code",
        "colab": {}
      },
      "source": [
        "np.sqrt(4)"
      ],
      "execution_count": 0,
      "outputs": []
    },
    {
      "cell_type": "code",
      "metadata": {
        "hide-output": false,
        "id": "PRYqzbbfdBxq",
        "colab_type": "code",
        "colab": {}
      },
      "source": [
        "np.log(4)"
      ],
      "execution_count": 0,
      "outputs": []
    },
    {
      "cell_type": "markdown",
      "metadata": {
        "id": "ShsYQrqJdBxu",
        "colab_type": "text"
      },
      "source": [
        "We could also use the following syntax:"
      ]
    },
    {
      "cell_type": "code",
      "metadata": {
        "hide-output": false,
        "id": "bmdNnBmvdBxv",
        "colab_type": "code",
        "colab": {}
      },
      "source": [
        "import numpy\n",
        "\n",
        "numpy.sqrt(4)"
      ],
      "execution_count": 0,
      "outputs": []
    },
    {
      "cell_type": "markdown",
      "metadata": {
        "id": "PONWc2dTdBx0",
        "colab_type": "text"
      },
      "source": [
        "But the former method (using the short name `np`) is convenient and more standard."
      ]
    },
    {
      "cell_type": "markdown",
      "metadata": {
        "id": "7Bt6Xq8tdBx2",
        "colab_type": "text"
      },
      "source": [
        "#### Why So Many Imports?\n",
        "\n",
        "Python programs typically require several import statements.\n",
        "\n",
        "The reason is that the core language is deliberately kept small, so that it’s easy to learn and maintain.\n",
        "\n",
        "When you want to do something interesting with Python, you almost always need\n",
        "to import additional functionality."
      ]
    },
    {
      "cell_type": "markdown",
      "metadata": {
        "id": "8a75A3c_dBx3",
        "colab_type": "text"
      },
      "source": [
        "#### Packages\n",
        "\n",
        "\n",
        "<a id='index-1'></a>\n",
        "As stated above, NumPy is a Python *package*.\n",
        "\n",
        "Packages are used by developers to organize code they wish to share.\n",
        "\n",
        "In fact, a package is just a directory containing\n",
        "\n",
        "1. files with Python code — called **modules** in Python speak  \n",
        "1. possibly some compiled code that can be accessed by Python (e.g., functions compiled from C or FORTRAN code)  \n",
        "1. a file called `__init__.py` that specifies what will be executed when we type `import package_name`  \n",
        "\n",
        "\n",
        "In fact, you can find and explore the directory for NumPy on your computer\n",
        "easily enough if you look around.\n",
        "\n",
        "On this machine, it’s located in"
      ]
    },
    {
      "cell_type": "markdown",
      "metadata": {
        "hide-output": false,
        "id": "jFg1ZO9rdBx4",
        "colab_type": "text"
      },
      "source": [
        "```ipython\n",
        "anaconda3/lib/python3.7/site-packages/numpy\n",
        "```\n"
      ]
    },
    {
      "cell_type": "markdown",
      "metadata": {
        "id": "NIcp7lPYdBx5",
        "colab_type": "text"
      },
      "source": [
        "#### Subpackages\n",
        "\n",
        "\n",
        "<a id='index-2'></a>\n",
        "Consider the line `ϵ_values = np.random.randn(100)`.\n",
        "\n",
        "Here `np` refers to the package NumPy, while `random` is a **subpackage** of NumPy.\n",
        "\n",
        "Subpackages are just packages that are subdirectories of another package."
      ]
    },
    {
      "cell_type": "markdown",
      "metadata": {
        "id": "EiE3JhbVdBx6",
        "colab_type": "text"
      },
      "source": [
        "### Importing Names Directly\n",
        "\n",
        "Recall this code that we saw above"
      ]
    },
    {
      "cell_type": "code",
      "metadata": {
        "hide-output": false,
        "id": "NqdVmb0BdBx7",
        "colab_type": "code",
        "colab": {}
      },
      "source": [
        "import numpy as np\n",
        "\n",
        "np.sqrt(4)"
      ],
      "execution_count": 0,
      "outputs": []
    },
    {
      "cell_type": "markdown",
      "metadata": {
        "id": "uNz3SZ-xdBx_",
        "colab_type": "text"
      },
      "source": [
        "Here’s another way to access NumPy’s square root function"
      ]
    },
    {
      "cell_type": "code",
      "metadata": {
        "hide-output": false,
        "id": "Sjt2WVwedBx_",
        "colab_type": "code",
        "colab": {}
      },
      "source": [
        "from numpy import sqrt\n",
        "\n",
        "sqrt(4)"
      ],
      "execution_count": 0,
      "outputs": []
    },
    {
      "cell_type": "markdown",
      "metadata": {
        "id": "dY08XFGpdByH",
        "colab_type": "text"
      },
      "source": [
        "This is also fine.\n",
        "\n",
        "The advantage is less typing if we use `sqrt` often in our code.\n",
        "\n",
        "The disadvantage is that, in a long program, these two lines might be\n",
        "separated by many other lines.\n",
        "\n",
        "Then it’s harder for readers to know where `sqrt` came from, should they wish to."
      ]
    },
    {
      "cell_type": "markdown",
      "metadata": {
        "id": "KXRzvV7QdByI",
        "colab_type": "text"
      },
      "source": [
        "### Random Draws\n",
        "\n",
        "Returning to our program that plots white noise, the remaining three lines\n",
        "after the import statements are"
      ]
    },
    {
      "cell_type": "code",
      "metadata": {
        "hide-output": false,
        "id": "ddvSd8BQdByJ",
        "colab_type": "code",
        "colab": {}
      },
      "source": [
        "ϵ_values = np.random.randn(100)\n",
        "plt.plot(ϵ_values)\n",
        "plt.show()"
      ],
      "execution_count": 0,
      "outputs": []
    },
    {
      "cell_type": "markdown",
      "metadata": {
        "id": "soX_rZ8IdByZ",
        "colab_type": "text"
      },
      "source": [
        "The first line generates 100 (quasi) independent standard normals and stores\n",
        "them in `ϵ_values`.\n",
        "\n",
        "The next two lines genererate the plot.\n",
        "\n",
        "We can and will look at various ways to configure and improve this plot below."
      ]
    },
    {
      "cell_type": "markdown",
      "metadata": {
        "id": "ic7Za-audBya",
        "colab_type": "text"
      },
      "source": [
        "## Alternative Implementations\n",
        "\n",
        "Let’s try writing some alternative versions of [our first program](#ourfirstprog), which plotted IID draws from the normal distribution.\n",
        "\n",
        "The programs below are less efficient than the original one, and hence\n",
        "somewhat artificial.\n",
        "\n",
        "But they do help us illustrate some important Python syntax and semantics in a familiar setting."
      ]
    },
    {
      "cell_type": "markdown",
      "metadata": {
        "id": "w3M8IG2YdByb",
        "colab_type": "text"
      },
      "source": [
        "### A Version with a For Loop\n",
        "\n",
        "Here’s a version that illustrates `for` loops and Python lists.\n",
        "\n",
        "\n",
        "<a id='firstloopprog'></a>"
      ]
    },
    {
      "cell_type": "code",
      "metadata": {
        "hide-output": false,
        "id": "hzIh8bpUdByd",
        "colab_type": "code",
        "colab": {}
      },
      "source": [
        "ts_length = 100\n",
        "ϵ_values = []   # empty list\n",
        "\n",
        "for i in range(ts_length):\n",
        "    e = np.random.randn()\n",
        "    ϵ_values.append(e)\n",
        "\n",
        "plt.plot(ϵ_values)\n",
        "plt.show()"
      ],
      "execution_count": 0,
      "outputs": []
    },
    {
      "cell_type": "markdown",
      "metadata": {
        "id": "-ct1lZZVdByg",
        "colab_type": "text"
      },
      "source": [
        "In brief,\n",
        "\n",
        "- The first line sets the desired length of the time series.  \n",
        "- The next line creates an empty *list* called `ϵ_values` that will store the $ \\epsilon_t $ values as we generate them.  \n",
        "- The statement `# empty list` is a *comment*, and is ignored by Python’s interpreter.  \n",
        "- The next three lines are the `for` loop, which repeatedly draws a new random number $ \\epsilon_t $ and appends it to the end of the list `ϵ_values`.  \n",
        "- The last two lines generate the plot and display it to the user.  \n",
        "\n",
        "\n",
        "Let’s study some parts of this program in more detail.\n",
        "\n",
        "\n",
        "<a id='lists-ref'></a>"
      ]
    },
    {
      "cell_type": "markdown",
      "metadata": {
        "id": "xJlS7mAGdByh",
        "colab_type": "text"
      },
      "source": [
        "### Lists\n",
        "\n",
        "\n",
        "<a id='index-3'></a>\n",
        "Consider the statement `ϵ_values = []`, which creates an empty list.\n",
        "\n",
        "Lists are a *native Python data structure* used to group a collection of objects.\n",
        "\n",
        "For example, try"
      ]
    },
    {
      "cell_type": "code",
      "metadata": {
        "hide-output": false,
        "id": "qE_HKcLcdByh",
        "colab_type": "code",
        "colab": {}
      },
      "source": [
        "x = [10, 'foo', False]\n",
        "type(x)"
      ],
      "execution_count": 0,
      "outputs": []
    },
    {
      "cell_type": "markdown",
      "metadata": {
        "id": "j_O9Exd6dByn",
        "colab_type": "text"
      },
      "source": [
        "The first element of `x` is an [integer](https://en.wikipedia.org/wiki/Integer_%28computer_science%29), the next is a [string](https://en.wikipedia.org/wiki/String_%28computer_science%29), and the third is a [Boolean value](https://en.wikipedia.org/wiki/Boolean_data_type).\n",
        "\n",
        "When adding a value to a list, we can use the syntax `list_name.append(some_value)`"
      ]
    },
    {
      "cell_type": "code",
      "metadata": {
        "hide-output": false,
        "id": "Ofh_eCDWdByn",
        "colab_type": "code",
        "colab": {}
      },
      "source": [
        "x"
      ],
      "execution_count": 0,
      "outputs": []
    },
    {
      "cell_type": "code",
      "metadata": {
        "hide-output": false,
        "id": "rTMHx2FqdByu",
        "colab_type": "code",
        "colab": {}
      },
      "source": [
        "x.append(2.5)\n",
        "x"
      ],
      "execution_count": 0,
      "outputs": []
    },
    {
      "cell_type": "markdown",
      "metadata": {
        "id": "PmInaWfYdByx",
        "colab_type": "text"
      },
      "source": [
        "Here `append()` is what’s called a *method*, which is a function “attached to” an object—in this case, the list `x`.\n",
        "\n",
        "We’ll learn all about methods later on, but just to give you some idea,\n",
        "\n",
        "- Python objects such as lists, strings, etc. all have methods that are used to manipulate the data contained in the object.  \n",
        "- String objects have [string methods](https://docs.python.org/3/library/stdtypes.html#string-methods), list objects have [list methods](https://docs.python.org/3/tutorial/datastructures.html#more-on-lists), etc.  \n",
        "\n",
        "\n",
        "Another useful list method is `pop()`"
      ]
    },
    {
      "cell_type": "code",
      "metadata": {
        "hide-output": false,
        "id": "td9bsFcndByy",
        "colab_type": "code",
        "colab": {}
      },
      "source": [
        "x"
      ],
      "execution_count": 0,
      "outputs": []
    },
    {
      "cell_type": "code",
      "metadata": {
        "hide-output": false,
        "id": "piv-mlBwdBzP",
        "colab_type": "code",
        "colab": {}
      },
      "source": [
        "x.pop()"
      ],
      "execution_count": 0,
      "outputs": []
    },
    {
      "cell_type": "code",
      "metadata": {
        "hide-output": false,
        "id": "9wu9dfc4dBzY",
        "colab_type": "code",
        "colab": {}
      },
      "source": [
        "x"
      ],
      "execution_count": 0,
      "outputs": []
    },
    {
      "cell_type": "markdown",
      "metadata": {
        "id": "-3UbILH3dBzd",
        "colab_type": "text"
      },
      "source": [
        "Lists in Python are zero-based (as in C, Java or Go), so the first element is referenced by `x[0]`"
      ]
    },
    {
      "cell_type": "code",
      "metadata": {
        "hide-output": false,
        "id": "WelhkWX3dBze",
        "colab_type": "code",
        "colab": {}
      },
      "source": [
        "x[0]   # first element of x"
      ],
      "execution_count": 0,
      "outputs": []
    },
    {
      "cell_type": "code",
      "metadata": {
        "hide-output": false,
        "id": "TxwRJM5RdBzj",
        "colab_type": "code",
        "colab": {}
      },
      "source": [
        "x[1]   # second element of x"
      ],
      "execution_count": 0,
      "outputs": []
    },
    {
      "cell_type": "markdown",
      "metadata": {
        "id": "vsc8fcr5dBzq",
        "colab_type": "text"
      },
      "source": [
        "### The For Loop\n",
        "\n",
        "\n",
        "<a id='index-4'></a>\n",
        "Now let’s consider the `for` loop from [the program above](#firstloopprog), which was"
      ]
    },
    {
      "cell_type": "code",
      "metadata": {
        "hide-output": false,
        "id": "DUDMnS2pdBzr",
        "colab_type": "code",
        "colab": {}
      },
      "source": [
        "for i in range(ts_length):\n",
        "    e = np.random.randn()\n",
        "    ϵ_values.append(e)"
      ],
      "execution_count": 0,
      "outputs": []
    },
    {
      "cell_type": "markdown",
      "metadata": {
        "id": "zfXLPoqqdBzv",
        "colab_type": "text"
      },
      "source": [
        "Python executes the two indented lines `ts_length` times before moving on.\n",
        "\n",
        "These two lines are called a `code block`, since they comprise the “block” of code that we are looping over.\n",
        "\n",
        "Unlike most other languages, Python knows the extent of the code block *only from indentation*.\n",
        "\n",
        "In our program, indentation decreases after line `ϵ_values.append(e)`, telling Python that this line marks the lower limit of the code block.\n",
        "\n",
        "More on indentation below—for now, let’s look at another example of a `for` loop"
      ]
    },
    {
      "cell_type": "code",
      "metadata": {
        "hide-output": false,
        "id": "YFTOy2QLdBzw",
        "colab_type": "code",
        "colab": {}
      },
      "source": [
        "animals = ['dog', 'cat', 'bird']\n",
        "for animal in animals:\n",
        "    print(\"The plural of \" + animal + \" is \" + animal + \"s\")"
      ],
      "execution_count": 0,
      "outputs": []
    },
    {
      "cell_type": "markdown",
      "metadata": {
        "id": "wXjpakYmdBz2",
        "colab_type": "text"
      },
      "source": [
        "This example helps to clarify how the `for` loop works:  When we execute a\n",
        "loop of the form"
      ]
    },
    {
      "cell_type": "markdown",
      "metadata": {
        "hide-output": false,
        "id": "fIR--nq8dBz2",
        "colab_type": "text"
      },
      "source": [
        "```python3\n",
        "for variable_name in sequence:\n",
        "    <code block>\n",
        "```\n"
      ]
    },
    {
      "cell_type": "markdown",
      "metadata": {
        "id": "WiRk1qD-dBz3",
        "colab_type": "text"
      },
      "source": [
        "The Python interpreter performs the following:\n",
        "\n",
        "- For each element of the `sequence`, it “binds” the name `variable_name` to that element and then executes the code block.  \n",
        "\n",
        "\n",
        "The `sequence` object can in fact be a very general object, as we’ll see\n",
        "soon enough."
      ]
    },
    {
      "cell_type": "markdown",
      "metadata": {
        "id": "LXLTMrsNdBz4",
        "colab_type": "text"
      },
      "source": [
        "### A Comment on Indentation\n",
        "\n",
        "\n",
        "<a id='index-5'></a>\n",
        "In discussing the `for` loop, we explained that the code blocks being looped over are delimited by indentation.\n",
        "\n",
        "In fact, in Python, **all** code blocks (i.e., those occurring inside loops, if clauses, function definitions, etc.) are delimited by indentation.\n",
        "\n",
        "Thus, unlike most other languages, whitespace in Python code affects the output of the program.\n",
        "\n",
        "Once you get used to it, this is a good thing: It\n",
        "\n",
        "- forces clean, consistent indentation, improving readability  \n",
        "- removes clutter, such as the brackets or end statements used in other languages  \n",
        "\n",
        "\n",
        "On the other hand, it takes a bit of care to get right, so please remember:\n",
        "\n",
        "- The line before the start of a code block always ends in a colon  \n",
        "  \n",
        "  - `for i in range(10):`  \n",
        "  - `if x > y:`  \n",
        "  - `while x < 100:`  \n",
        "  - etc., etc.  \n",
        "  \n",
        "- All lines in a code block **must have the same amount of indentation**.  \n",
        "- The Python standard is 4 spaces, and that’s what you should use.  "
      ]
    },
    {
      "cell_type": "markdown",
      "metadata": {
        "id": "8CLJbHttdBz5",
        "colab_type": "text"
      },
      "source": [
        "### While Loops\n",
        "\n",
        "\n",
        "<a id='index-6'></a>\n",
        "The `for` loop is the most common technique for iteration in Python.\n",
        "\n",
        "But, for the purpose of illustration, let’s modify [the program above](#firstloopprog) to use a `while` loop instead.\n",
        "\n",
        "\n",
        "<a id='whileloopprog'></a>"
      ]
    },
    {
      "cell_type": "code",
      "metadata": {
        "hide-output": false,
        "id": "C2RT1P-gdBz6",
        "colab_type": "code",
        "colab": {}
      },
      "source": [
        "ts_length = 100\n",
        "ϵ_values = []\n",
        "i = 0\n",
        "while i < ts_length:\n",
        "    e = np.random.randn()\n",
        "    ϵ_values.append(e)\n",
        "    i = i + 1\n",
        "plt.plot(ϵ_values)\n",
        "plt.show()"
      ],
      "execution_count": 0,
      "outputs": []
    },
    {
      "cell_type": "markdown",
      "metadata": {
        "id": "0Q-l6li3dBz_",
        "colab_type": "text"
      },
      "source": [
        "Note that\n",
        "\n",
        "- the code block for the `while` loop is again delimited only by indentation  \n",
        "- the statement  `i = i + 1` can be replaced by `i += 1`  "
      ]
    },
    {
      "cell_type": "markdown",
      "metadata": {
        "id": "342FsAtsdB0B",
        "colab_type": "text"
      },
      "source": [
        "## Another Application\n",
        "\n",
        "Let’s do one more application before we turn to exercises.\n",
        "\n",
        "In this application, we plot the balance of a bank account over time.\n",
        "\n",
        "There are no withdraws over the time period, the last date of which is denoted\n",
        "by $ T $.\n",
        "\n",
        "The initial balance is $ b_0 $ and the interest rate is $ r $.\n",
        "\n",
        "The balance updates from period $ t $ to $ t+1 $ according to $ b_{t+1} = (1 + r) b_t $.\n",
        "\n",
        "In the code below, we generate and plot the sequence $ b_0, b_1, \\ldots, b_T $.\n",
        "\n",
        "Instead of using a Python list to store this sequence, we will use a NumPy\n",
        "array."
      ]
    },
    {
      "cell_type": "code",
      "metadata": {
        "hide-output": false,
        "id": "SFzme9xKdB0B",
        "colab_type": "code",
        "outputId": "b6160164-3bd5-4b99-b58a-38d58fc8825d",
        "colab": {
          "base_uri": "https://localhost:8080/",
          "height": 265
        }
      },
      "source": [
        "r = 0.025         # interest rate\n",
        "T = 50            # end date\n",
        "b = np.empty(T+1) # an empty NumPy array, to store all b_t\n",
        "b[0] = 10         # initial balance\n",
        "\n",
        "for t in range(T):\n",
        "    b[t+1] = (1 + r) * b[t]\n",
        "\n",
        "plt.plot(b, label='bank balance')\n",
        "plt.legend()\n",
        "plt.show()"
      ],
      "execution_count": 0,
      "outputs": [
        {
          "output_type": "display_data",
          "data": {
            "image/png": "[encoded data removed]",
            "text/plain": [
              "<Figure size 432x288 with 1 Axes>"
            ]
          },
          "metadata": {
            "tags": []
          }
        }
      ]
    },
    {
      "cell_type": "markdown",
      "metadata": {
        "id": "CJ3gFEuxdB0F",
        "colab_type": "text"
      },
      "source": [
        "The statement `b = np.empty(T+1)` allocates storage in memory for `T+1`\n",
        "(floating point) numbers.\n",
        "\n",
        "These numbers are filled in by the `for` loop.\n",
        "\n",
        "Allocating memory at the start is more efficient than using a Python list and\n",
        "`append`, since the latter must repeatedly ask for storage space from the\n",
        "operating system.\n",
        "\n",
        "Notice that we added a legend to the plot — a feature you will be asked to\n",
        "use in the exercises."
      ]
    },
    {
      "cell_type": "markdown",
      "metadata": {
        "id": "722DMM6zdB0F",
        "colab_type": "text"
      },
      "source": [
        "## Exercises\n",
        "\n",
        "Now we turn to exercises.  It is important that you complete them before\n",
        "continuing, since they present new concepts we will need."
      ]
    },
    {
      "cell_type": "markdown",
      "metadata": {
        "id": "EKhFSuIZdB0G",
        "colab_type": "text"
      },
      "source": [
        "### Exercise 1\n",
        "\n",
        "Your first task is to simulate and plot the correlated time series\n",
        "\n",
        "$$\n",
        "x_{t+1} = \\alpha \\, x_t + \\epsilon_{t+1}\n",
        "\\quad \\text{where} \\quad\n",
        "x_0 = 0\n",
        "\\quad \\text{and} \\quad t = 0,\\ldots,T\n",
        "$$\n",
        "\n",
        "The sequence of shocks $ \\{\\epsilon_t\\} $ is assumed to be IID and standard normal.\n",
        "\n",
        "In your solution, restrict your import statements to"
      ]
    },
    {
      "cell_type": "code",
      "metadata": {
        "hide-output": false,
        "id": "rBw60jlQdB0H",
        "colab_type": "code",
        "outputId": "f916bdcd-5c31-46ef-92e6-04d27ab01be0",
        "colab": {
          "base_uri": "https://localhost:8080/",
          "height": 269
        }
      },
      "source": [
        ""
      ],
      "execution_count": 0,
      "outputs": [
        {
          "output_type": "display_data",
          "data": {
            "image/png": "[encoded data removed]",
            "text/plain": [
              "<Figure size 432x288 with 1 Axes>"
            ]
          },
          "metadata": {
            "tags": []
          }
        }
      ]
    },
    {
      "cell_type": "markdown",
      "metadata": {
        "id": "-kRTMxzkdB0K",
        "colab_type": "text"
      },
      "source": [
        "Set $ T=200 $ and $ \\alpha = 0.9 $."
      ]
    },
    {
      "cell_type": "markdown",
      "metadata": {
        "id": "o3o4q0r5dB0i",
        "colab_type": "text"
      },
      "source": [
        "### Exercise 2\n",
        "\n",
        "Starting with your solution to exercise 1, plot three simulated time series,\n",
        "one for each of the cases $ \\alpha=0 $, $ \\alpha=0.8 $ and $ \\alpha=0.98 $.\n",
        "\n",
        "Use a `for` loop to step through the $ \\alpha $ values.\n",
        "\n",
        "If you can, add a legend, to help distinguish between the three time series.\n",
        "\n",
        "Hints:\n",
        "\n",
        "- If you call the `plot()` function multiple times before calling `show()`, all of the lines you produce will end up on the same figure.  \n",
        "- For the legend, noted that the expression `'foo' + str(42)` evaluates to `'foo42'`.  "
      ]
    },
    {
      "cell_type": "code",
      "metadata": {
        "id": "2h-25bvPrVGO",
        "colab_type": "code",
        "outputId": "b3c1c1a4-9293-4347-afd5-5219d794d5c3",
        "colab": {
          "base_uri": "https://localhost:8080/",
          "height": 282
        }
      },
      "source": [
        "T = 200\n",
        "α= [0,0.8,0.98]\n",
        "#ϵ = np.random.randn(T+1)\n",
        "\n",
        "for i in (α):\n",
        "  x = np.zeros(T+1)\n",
        "  for j in range(T):\n",
        "    x[j+1] = i*x[j] + np.random.randn()\n",
        "  plt.plot(x, label = f\"$\\\\alpha = {i}$\")\n",
        "  plt.legend()\n",
        "plt.show()\n",
        "plt.close()"
      ],
      "execution_count": 0,
      "outputs": [
        {
          "output_type": "stream",
          "text": [
            "ERROR! Session/line number was not unique in database. History logging moved to new session 66\n"
          ],
          "name": "stdout"
        },
        {
          "output_type": "display_data",
          "data": {
            "image/png": "[encoded data removed]",
            "text/plain": [
              "<Figure size 432x288 with 1 Axes>"
            ]
          },
          "metadata": {
            "tags": []
          }
        }
      ]
    },
    {
      "cell_type": "markdown",
      "metadata": {
        "id": "L42k72GDdB0l",
        "colab_type": "text"
      },
      "source": [
        "### Exercise 3\n",
        "\n",
        "Similar to the previous exercises, plot the time series\n",
        "\n",
        "$$\n",
        "x_{t+1} = \\alpha \\, |x_t| + \\epsilon_{t+1}\n",
        "\\quad \\text{where} \\quad\n",
        "x_0 = 0\n",
        "\\quad \\text{and} \\quad t = 0,\\ldots,T\n",
        "$$\n",
        "\n",
        "Use $ T=200 $, $ \\alpha = 0.9 $ and $ \\{\\epsilon_t\\} $ as before.\n",
        "\n",
        "Search online for a function that can be used to compute the absolute value $ |x_t| $."
      ]
    },
    {
      "cell_type": "code",
      "metadata": {
        "id": "8QvlaSFvtod0",
        "colab_type": "code",
        "outputId": "8e9a446c-dc50-4ee8-edc7-fc9d76dac621",
        "colab": {
          "base_uri": "https://localhost:8080/",
          "height": 265
        }
      },
      "source": [
        "T = 200\n",
        "a = 0.9\n",
        "x = np.zeros(T+1)\n",
        "\n",
        "for i in range(T):\n",
        "  x[i+1] = a*np.abs(x[i]) + np.random.randn()\n",
        "\n",
        "plt.plot(x)\n",
        "plt.show()\n",
        "plt.close()\n"
      ],
      "execution_count": 0,
      "outputs": [
        {
          "output_type": "display_data",
          "data": {
            "image/png": "[encoded data removed]",
            "text/plain": [
              "<Figure size 432x288 with 1 Axes>"
            ]
          },
          "metadata": {
            "tags": []
          }
        }
      ]
    },
    {
      "cell_type": "markdown",
      "metadata": {
        "id": "4iTAs7M2dB0m",
        "colab_type": "text"
      },
      "source": [
        "### Exercise 4\n",
        "\n",
        "One important aspect of essentially all programming languages is branching and\n",
        "conditions.\n",
        "\n",
        "In Python, conditions are usually implemented with if–else syntax.\n",
        "\n",
        "Here’s an example, that prints -1 for each negative number in an array and 1\n",
        "for each nonnegative number"
      ]
    },
    {
      "cell_type": "code",
      "metadata": {
        "hide-output": false,
        "id": "e5hPZefCdB0n",
        "colab_type": "code",
        "colab": {}
      },
      "source": [
        "numbers = [-9, 2.3, -11, 0]"
      ],
      "execution_count": 0,
      "outputs": []
    },
    {
      "cell_type": "code",
      "metadata": {
        "hide-output": false,
        "id": "iZDFSQVcdB0r",
        "colab_type": "code",
        "outputId": "b5983245-db2d-4e0a-8e5d-1dc6451852cf",
        "colab": {
          "base_uri": "https://localhost:8080/",
          "height": 85
        }
      },
      "source": [
        "for x in numbers:\n",
        "    if x < 0:\n",
        "        print(-1)\n",
        "    else:\n",
        "        print(1)"
      ],
      "execution_count": 0,
      "outputs": [
        {
          "output_type": "stream",
          "text": [
            "-1\n",
            "1\n",
            "-1\n",
            "1\n"
          ],
          "name": "stdout"
        }
      ]
    },
    {
      "cell_type": "markdown",
      "metadata": {
        "id": "HKsldxBbdB0u",
        "colab_type": "text"
      },
      "source": [
        "Now, write a new solution to Exercise 3 that does not use an existing function\n",
        "to compute the absolute value.\n",
        "\n",
        "Replace this existing function with an if–else condition.\n",
        "\n",
        "\n",
        "<a id='pbe-ex3'></a>"
      ]
    },
    {
      "cell_type": "code",
      "metadata": {
        "id": "j1JzFIHjuYAv",
        "colab_type": "code",
        "outputId": "1193013f-d049-4293-cadb-435e48fcefa1",
        "colab": {
          "base_uri": "https://localhost:8080/",
          "height": 265
        }
      },
      "source": [
        "T = 200\n",
        "a = 0.9\n",
        "x = np.zeros(T+1)\n",
        "\n",
        "def absolute(y):\n",
        "  if y>0: return y\n",
        "  else: return -y\n",
        "\n",
        "\n",
        "for i in range(T):\n",
        "  x[i+1] = a*np.absolute(x[i]) + np.random.randn()\n",
        "\n",
        "plt.plot(x)\n",
        "plt.show()\n",
        "plt.close()"
      ],
      "execution_count": 0,
      "outputs": [
        {
          "output_type": "display_data",
          "data": {
            "image/png": "[encoded data removed]",
            "text/plain": [
              "<Figure size 432x288 with 1 Axes>"
            ]
          },
          "metadata": {
            "tags": []
          }
        }
      ]
    },
    {
      "cell_type": "markdown",
      "metadata": {
        "id": "tX7CuiUMdB0v",
        "colab_type": "text"
      },
      "source": [
        "### Exercise 5\n",
        "\n",
        "Here’s a harder exercise, that takes some thought and planning.\n",
        "\n",
        "The task is to compute an approximation to $ \\pi $ using [Monte Carlo](https://en.wikipedia.org/wiki/Monte_Carlo_method).\n",
        "\n",
        "Use no imports besides"
      ]
    },
    {
      "cell_type": "code",
      "metadata": {
        "hide-output": false,
        "id": "vpGX37l_dB0w",
        "colab_type": "code",
        "colab": {}
      },
      "source": [
        "import numpy as np"
      ],
      "execution_count": 0,
      "outputs": []
    },
    {
      "cell_type": "markdown",
      "metadata": {
        "id": "nGHWRccNdB0y",
        "colab_type": "text"
      },
      "source": [
        "Your hints are as follows:\n",
        "\n",
        "- If $ U $ is a bivariate uniform random variable on the unit square $ (0, 1)^2 $, then the probability that $ U $ lies in a subset $ B $ of $ (0,1)^2 $ is equal to the area of $ B $.  \n",
        "- If $ U_1,\\ldots,U_n $ are IID copies of $ U $, then, as $ n $ gets large, the fraction that falls in $ B $, converges to the probability of landing in $ B $.  \n",
        "- For a circle, $ area = \\pi * radius^2 $.  "
      ]
    },
    {
      "cell_type": "code",
      "metadata": {
        "id": "Cpo5Hr7L1t1T",
        "colab_type": "code",
        "outputId": "cb289421-a860-49fb-e478-e87029eaa487",
        "colab": {
          "base_uri": "https://localhost:8080/",
          "height": 34
        }
      },
      "source": [
        "x = np.random.uniform(low=0,high=1,size=10**5)\n",
        "y = np.random.uniform(low=0,high=1,size=10**5)\n",
        "z = (x-0.5)**2 + (y-0.5)**2\n",
        "\n",
        "count = sum(z<0.25)\n",
        "print(4*count/10**5)\n",
        "\n",
        "#a = z[z<1] #incorrect"
      ],
      "execution_count": 0,
      "outputs": [
        {
          "output_type": "stream",
          "text": [
            "3.13936\n"
          ],
          "name": "stdout"
        }
      ]
    },
    {
      "cell_type": "markdown",
      "metadata": {
        "id": "XAdWx5nydB0z",
        "colab_type": "text"
      },
      "source": [
        "## Solutions"
      ]
    },
    {
      "cell_type": "markdown",
      "metadata": {
        "id": "ngeSsCj_dB0z",
        "colab_type": "text"
      },
      "source": [
        "### Exercise 1\n",
        "\n",
        "Here’s one solution."
      ]
    },
    {
      "cell_type": "code",
      "metadata": {
        "hide-output": false,
        "id": "gP0K1-5QdB00",
        "colab_type": "code",
        "outputId": "0a2db871-b42a-4eeb-9efb-feeacbbea633",
        "colab": {
          "base_uri": "https://localhost:8080/",
          "height": 282
        }
      },
      "source": [
        "α = 0.9\n",
        "T = 200\n",
        "x = np.empty(T+1)\n",
        "x[0] = 0\n",
        "\n",
        "for t in range(T):\n",
        "    x[t+1] = α * x[t] + np.random.randn()\n",
        "\n",
        "plt.plot(x)\n",
        "plt.show()"
      ],
      "execution_count": 0,
      "outputs": [
        {
          "output_type": "stream",
          "text": [
            "ERROR! Session/line number was not unique in database. History logging moved to new session 64\n"
          ],
          "name": "stdout"
        },
        {
          "output_type": "display_data",
          "data": {
            "image/png": "[encoded data removed]",
            "text/plain": [
              "<Figure size 432x288 with 1 Axes>"
            ]
          },
          "metadata": {
            "tags": []
          }
        }
      ]
    },
    {
      "cell_type": "markdown",
      "metadata": {
        "id": "kUU5aP1FdB03",
        "colab_type": "text"
      },
      "source": [
        "### Exercise 2"
      ]
    },
    {
      "cell_type": "code",
      "metadata": {
        "hide-output": false,
        "id": "cnrFivuRdB03",
        "colab_type": "code",
        "colab": {}
      },
      "source": [
        "α_values = [0.0, 0.8, 0.98]\n",
        "T = 200\n",
        "x = np.empty(T+1)\n",
        "\n",
        "for α in α_values:\n",
        "    x[0] = 0\n",
        "    for t in range(T):\n",
        "        x[t+1] = α * x[t] + np.random.randn()\n",
        "    plt.plot(x, label=f'$\\\\alpha = {α}$')\n",
        "\n",
        "plt.legend()\n",
        "plt.show()"
      ],
      "execution_count": 0,
      "outputs": []
    },
    {
      "cell_type": "markdown",
      "metadata": {
        "id": "jv8CUZcndB07",
        "colab_type": "text"
      },
      "source": [
        "### Exercise 3\n",
        "\n",
        "Here’s one solution:"
      ]
    },
    {
      "cell_type": "code",
      "metadata": {
        "hide-output": false,
        "id": "qL5GzkFrdB08",
        "colab_type": "code",
        "outputId": "7eeca595-f986-44f8-dace-aa047e441180",
        "colab": {
          "base_uri": "https://localhost:8080/",
          "height": 265
        }
      },
      "source": [
        "α = 0.9\n",
        "T = 200\n",
        "x = np.empty(T+1)\n",
        "x[0] = 0\n",
        "\n",
        "for t in range(T):\n",
        "    x[t+1] = α * np.abs(x[t]) + np.random.randn()\n",
        "\n",
        "plt.plot(x)\n",
        "plt.show()"
      ],
      "execution_count": 0,
      "outputs": [
        {
          "output_type": "display_data",
          "data": {
            "image/png": "[encoded data removed]",
            "text/plain": [
              "<Figure size 432x288 with 1 Axes>"
            ]
          },
          "metadata": {
            "tags": []
          }
        }
      ]
    },
    {
      "cell_type": "markdown",
      "metadata": {
        "id": "iLAkRyG1dB0-",
        "colab_type": "text"
      },
      "source": [
        "### Exercise 4\n",
        "\n",
        "Here’s one way:"
      ]
    },
    {
      "cell_type": "code",
      "metadata": {
        "hide-output": false,
        "id": "TYaHpHaNdB1A",
        "colab_type": "code",
        "colab": {}
      },
      "source": [
        "α = 0.9\n",
        "T = 200\n",
        "x = np.empty(T+1)\n",
        "x[0] = 0\n",
        "\n",
        "for t in range(T):\n",
        "    if x[t] < 0:\n",
        "        abs_x = - x[t]\n",
        "    else:\n",
        "        abs_x = x[t]\n",
        "    x[t+1] = α * abs_x + np.random.randn()\n",
        "\n",
        "plt.plot(x)\n",
        "plt.show()"
      ],
      "execution_count": 0,
      "outputs": []
    },
    {
      "cell_type": "markdown",
      "metadata": {
        "id": "K-s9lUIZdB1I",
        "colab_type": "text"
      },
      "source": [
        "Here’s a shorter way to write the same thing:"
      ]
    },
    {
      "cell_type": "code",
      "metadata": {
        "hide-output": false,
        "id": "lAMuDUWHdB1J",
        "colab_type": "code",
        "colab": {}
      },
      "source": [
        "α = 0.9\n",
        "T = 200\n",
        "x = np.empty(T+1)\n",
        "x[0] = 0\n",
        "\n",
        "for t in range(T):\n",
        "    abs_x = - x[t] if x[t] < 0 else x[t]\n",
        "    x[t+1] = α * abs_x + np.random.randn()\n",
        "\n",
        "plt.plot(x)\n",
        "plt.show()"
      ],
      "execution_count": 0,
      "outputs": []
    },
    {
      "cell_type": "markdown",
      "metadata": {
        "id": "BFvp4irDdB1P",
        "colab_type": "text"
      },
      "source": [
        "### Exercise 5\n",
        "\n",
        "Consider the circle of diameter 1 embedded in the unit square.\n",
        "\n",
        "Let $ A $ be its area and let $ r=1/2 $ be its radius.\n",
        "\n",
        "If we know $ \\pi $ then we can compute $ A $ via\n",
        "$ A = \\pi r^2 $.\n",
        "\n",
        "But here the point is to compute $ \\pi $, which we can do by\n",
        "$ \\pi = A / r^2 $.\n",
        "\n",
        "Summary: If we can estimate the area of a circle with diameter 1, then dividing\n",
        "by $ r^2 = (1/2)^2 = 1/4 $ gives an estimate of $ \\pi $.\n",
        "\n",
        "We estimate the area by sampling bivariate uniforms and looking at the\n",
        "fraction that falls into the circle."
      ]
    },
    {
      "cell_type": "code",
      "metadata": {
        "hide-output": false,
        "id": "YU28yRwmdB1P",
        "colab_type": "code",
        "colab": {}
      },
      "source": [
        "n = 100000\n",
        "\n",
        "count = 0\n",
        "for i in range(n):\n",
        "    u, v = np.random.uniform(), np.random.uniform()\n",
        "    d = np.sqrt((u - 0.5)**2 + (v - 0.5)**2)\n",
        "    if d < 0.5:\n",
        "        count += 1\n",
        "\n",
        "area_estimate = count / n\n",
        "\n",
        "print(area_estimate * 4)  # dividing by radius**2"
      ],
      "execution_count": 0,
      "outputs": []
    }
  ]
}