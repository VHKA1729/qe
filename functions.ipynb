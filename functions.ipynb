{
  "nbformat": 4,
  "nbformat_minor": 0,
  "metadata": {
    "date": 1585541035.092389,
    "filename": "functions.rst",
    "kernelspec": {
      "display_name": "Python",
      "language": "python3",
      "name": "python3"
    },
    "title": "Functions",
    "colab": {
      "name": "functions.ipynb",
      "provenance": []
    }
  },
  "cells": [
    {
      "cell_type": "markdown",
      "metadata": {
        "id": "sZ8-mv5X_Rge",
        "colab_type": "text"
      },
      "source": [
        "\n",
        "<a id='functions'></a>\n",
        "<div id=\"qe-notebook-header\" align=\"right\" style=\"text-align:right;\">\n",
        "        <a href=\"https://quantecon.org/\" title=\"quantecon.org\">\n",
        "                <img style=\"width:250px;display:inline;\" width=\"250px\" src=\"https://assets.quantecon.org/img/qe-menubar-logo.svg\" alt=\"QuantEcon\">\n",
        "        </a>\n",
        "</div>"
      ]
    },
    {
      "cell_type": "markdown",
      "metadata": {
        "id": "017j03x7_Rgg",
        "colab_type": "text"
      },
      "source": [
        "# Functions\n",
        "\n",
        "\n",
        "<a id='index-0'></a>"
      ]
    },
    {
      "cell_type": "markdown",
      "metadata": {
        "id": "mLbeWakQ_Rgh",
        "colab_type": "text"
      },
      "source": [
        "## Contents\n",
        "\n",
        "- [Functions](#Functions)  \n",
        "  - [Overview](#Overview)  \n",
        "  - [Function Basics](#Function-Basics)  \n",
        "  - [Defining Functions](#Defining-Functions)  \n",
        "  - [Applications](#Applications)  \n",
        "  - [Exercises](#Exercises)  \n",
        "  - [Solutions](#Solutions)  "
      ]
    },
    {
      "cell_type": "markdown",
      "metadata": {
        "id": "_5rGw8C6_Rgl",
        "colab_type": "text"
      },
      "source": [
        "## Overview\n",
        "\n",
        "One construct that’s extremely useful and provided by almost all programming\n",
        "languages is **functions**.\n",
        "\n",
        "We have already met several functions, such as\n",
        "\n",
        "- the `sqrt()` function from NumPy and  \n",
        "- the built-in `print()` function  \n",
        "\n",
        "\n",
        "In this lecture we’ll treat functions systematically and begin to learn just how\n",
        "useful and important they are.\n",
        "\n",
        "One of the things we will learn to do is build our own user-defined functions\n",
        "\n",
        "We will use the following imports."
      ]
    },
    {
      "cell_type": "code",
      "metadata": {
        "hide-output": false,
        "id": "L9S32Nuy_Rgq",
        "colab_type": "code",
        "colab": {}
      },
      "source": [
        "import numpy as np\n",
        "import matplotlib.pyplot as plt\n",
        "%matplotlib inline"
      ],
      "execution_count": 0,
      "outputs": []
    },
    {
      "cell_type": "markdown",
      "metadata": {
        "id": "k57LVHiD_Rgx",
        "colab_type": "text"
      },
      "source": [
        "## Function Basics\n",
        "\n",
        "A function is a named section of a program that implements a specific task.\n",
        "\n",
        "Many functions exist already and we can use them off the shelf.\n",
        "\n",
        "First we review these functions and then discuss how we can build our own."
      ]
    },
    {
      "cell_type": "markdown",
      "metadata": {
        "id": "4fJm37Ob_Rgy",
        "colab_type": "text"
      },
      "source": [
        "### Built-In Functions\n",
        "\n",
        "Python has a number of *built-in* functions that are available without `import`.\n",
        "\n",
        "We have already met some"
      ]
    },
    {
      "cell_type": "code",
      "metadata": {
        "hide-output": false,
        "id": "cuMFNshJ_Rgz",
        "colab_type": "code",
        "colab": {}
      },
      "source": [
        "max(19, 20)"
      ],
      "execution_count": 0,
      "outputs": []
    },
    {
      "cell_type": "code",
      "metadata": {
        "hide-output": false,
        "id": "JuGpbh4c_Rg8",
        "colab_type": "code",
        "colab": {}
      },
      "source": [
        "print('foobar')"
      ],
      "execution_count": 0,
      "outputs": []
    },
    {
      "cell_type": "code",
      "metadata": {
        "hide-output": false,
        "id": "bpf73PED_RhA",
        "colab_type": "code",
        "colab": {}
      },
      "source": [
        "str(22)"
      ],
      "execution_count": 0,
      "outputs": []
    },
    {
      "cell_type": "code",
      "metadata": {
        "hide-output": false,
        "id": "OxOIZL5O_RhD",
        "colab_type": "code",
        "colab": {}
      },
      "source": [
        "type(22)"
      ],
      "execution_count": 0,
      "outputs": []
    },
    {
      "cell_type": "markdown",
      "metadata": {
        "id": "B1JX95Zo_RhI",
        "colab_type": "text"
      },
      "source": [
        "Two more useful built-in functions are `any()` and `all()`"
      ]
    },
    {
      "cell_type": "code",
      "metadata": {
        "hide-output": false,
        "id": "JTDo-clm_RhJ",
        "colab_type": "code",
        "colab": {
          "base_uri": "https://localhost:8080/",
          "height": 34
        },
        "outputId": "7e3bb799-cb85-47c7-ed99-78ce8ead609b"
      },
      "source": [
        "bools = False, True, True\n",
        "all(bools)  # True if all are True and False otherwise"
      ],
      "execution_count": 2,
      "outputs": [
        {
          "output_type": "execute_result",
          "data": {
            "text/plain": [
              "False"
            ]
          },
          "metadata": {
            "tags": []
          },
          "execution_count": 2
        }
      ]
    },
    {
      "cell_type": "code",
      "metadata": {
        "hide-output": false,
        "id": "QT5ptl-1_RhO",
        "colab_type": "code",
        "colab": {
          "base_uri": "https://localhost:8080/",
          "height": 34
        },
        "outputId": "fbf09e0d-f201-4cec-d5f9-33c4c0399d51"
      },
      "source": [
        "any(bools)  # False if all are False and True otherwise"
      ],
      "execution_count": 3,
      "outputs": [
        {
          "output_type": "execute_result",
          "data": {
            "text/plain": [
              "True"
            ]
          },
          "metadata": {
            "tags": []
          },
          "execution_count": 3
        }
      ]
    },
    {
      "cell_type": "markdown",
      "metadata": {
        "id": "CZVi5Aa-_RhT",
        "colab_type": "text"
      },
      "source": [
        "The full list of Python built-ins is [here](https://docs.python.org/library/functions.html)."
      ]
    },
    {
      "cell_type": "markdown",
      "metadata": {
        "id": "spqnPRs8_RhU",
        "colab_type": "text"
      },
      "source": [
        "### Third Party Functions\n",
        "\n",
        "If the built-in functions don’t cover what we need, we either need to import\n",
        "functions or create our own.\n",
        "\n",
        "Examples of importing and using functions\n",
        "were given in the [previous lecture](https://python-programming.quantecon.org/python_by_example.html)\n",
        "\n",
        "Here’s another one, which tests whether a given year is a leap year:"
      ]
    },
    {
      "cell_type": "code",
      "metadata": {
        "hide-output": false,
        "id": "jaiVT3-w_RhV",
        "colab_type": "code",
        "colab": {}
      },
      "source": [
        "import calendar\n",
        "\n",
        "calendar.isleap(2020)"
      ],
      "execution_count": 0,
      "outputs": []
    },
    {
      "cell_type": "markdown",
      "metadata": {
        "id": "JAoju0K__RhY",
        "colab_type": "text"
      },
      "source": [
        "## Defining Functions\n",
        "\n",
        "In many instances, it is useful to be able to define our own functions.\n",
        "\n",
        "This will become clearer as you see more examples.\n",
        "\n",
        "Let’s start by discussing how it’s done."
      ]
    },
    {
      "cell_type": "markdown",
      "metadata": {
        "id": "RYcjaK0S_RhZ",
        "colab_type": "text"
      },
      "source": [
        "### Syntax\n",
        "\n",
        "Here’s a very simple Python function, that implements the mathematical function\n",
        "$ f(x) = 2 x + 1 $"
      ]
    },
    {
      "cell_type": "code",
      "metadata": {
        "hide-output": false,
        "id": "C4O8P0bs_Rhb",
        "colab_type": "code",
        "colab": {}
      },
      "source": [
        "def f(x):\n",
        "    return 2 * x + 1"
      ],
      "execution_count": 0,
      "outputs": []
    },
    {
      "cell_type": "markdown",
      "metadata": {
        "id": "IpGp_uFu_Rhh",
        "colab_type": "text"
      },
      "source": [
        "Now that we’ve *defined* this function, let’s *call* it and check whether it\n",
        "does what we expect:"
      ]
    },
    {
      "cell_type": "code",
      "metadata": {
        "hide-output": false,
        "id": "wpbuQ-kM_Rhi",
        "colab_type": "code",
        "colab": {}
      },
      "source": [
        "f(1)"
      ],
      "execution_count": 0,
      "outputs": []
    },
    {
      "cell_type": "code",
      "metadata": {
        "hide-output": false,
        "id": "ootYvHW8_Rhl",
        "colab_type": "code",
        "colab": {}
      },
      "source": [
        "f(10)"
      ],
      "execution_count": 0,
      "outputs": []
    },
    {
      "cell_type": "markdown",
      "metadata": {
        "id": "32fBXVhX_Rht",
        "colab_type": "text"
      },
      "source": [
        "Here’s a longer function, that computes the absolute value of a given number.\n",
        "\n",
        "(Such a function already exists as a built-in, but let’s write our own for the\n",
        "exercise.)"
      ]
    },
    {
      "cell_type": "code",
      "metadata": {
        "hide-output": false,
        "id": "KRS8-SUG_Rhu",
        "colab_type": "code",
        "colab": {}
      },
      "source": [
        "def new_abs_function(x):\n",
        "\n",
        "    if x < 0:\n",
        "        abs_value = -x\n",
        "    else:\n",
        "        abs_value = x\n",
        "\n",
        "    return abs_value"
      ],
      "execution_count": 0,
      "outputs": []
    },
    {
      "cell_type": "markdown",
      "metadata": {
        "id": "2BZ5fMzN_Rhw",
        "colab_type": "text"
      },
      "source": [
        "Let’s review the syntax here.\n",
        "\n",
        "- `def` is a Python keyword used to start function definitions.  \n",
        "- `def new_abs_function(x):` indicates that the function is called `new_abs_function` and that it has a single argument `x`.  \n",
        "- The indented code is a code block called the *function body*.  \n",
        "- The `return` keyword indicates that `abs_value` is the object that should be returned to the calling code.  \n",
        "\n",
        "\n",
        "This whole function definition is read by the Python interpreter and stored in memory.\n",
        "\n",
        "Let’s call it to check that it works:"
      ]
    },
    {
      "cell_type": "code",
      "metadata": {
        "hide-output": false,
        "id": "tfAk5zTN_Rhx",
        "colab_type": "code",
        "colab": {}
      },
      "source": [
        "print(new_abs_function(3))\n",
        "print(new_abs_function(-3))"
      ],
      "execution_count": 0,
      "outputs": []
    },
    {
      "cell_type": "markdown",
      "metadata": {
        "id": "8GT8o5c8_Rh1",
        "colab_type": "text"
      },
      "source": [
        "### Why Write Functions?\n",
        "\n",
        "User-defined functions are important for improving the clarity of your code by\n",
        "\n",
        "- separating different strands of logic  \n",
        "- facilitating code reuse  \n",
        "\n",
        "\n",
        "(Writing the same thing twice is [almost always a bad idea](https://en.wikipedia.org/wiki/Don%27t_repeat_yourself))\n",
        "\n",
        "We will say more about this [later](https://python-programming.quantecon.org/writing_good_code.html)."
      ]
    },
    {
      "cell_type": "markdown",
      "metadata": {
        "id": "CnoNvUOT_Rh2",
        "colab_type": "text"
      },
      "source": [
        "## Applications"
      ]
    },
    {
      "cell_type": "markdown",
      "metadata": {
        "id": "F5xY53Fy_Rh3",
        "colab_type": "text"
      },
      "source": [
        "### Random Draws\n",
        "\n",
        "Consider again this code from the [previous lecture](https://python-programming.quantecon.org/python_by_example.html)"
      ]
    },
    {
      "cell_type": "code",
      "metadata": {
        "hide-output": false,
        "id": "ayKq-mIb_Rh7",
        "colab_type": "code",
        "colab": {}
      },
      "source": [
        "ts_length = 100\n",
        "ϵ_values = []   # empty list\n",
        "\n",
        "for i in range(ts_length):\n",
        "    e = np.random.randn()\n",
        "    ϵ_values.append(e)\n",
        "\n",
        "plt.plot(ϵ_values)\n",
        "plt.show()"
      ],
      "execution_count": 0,
      "outputs": []
    },
    {
      "cell_type": "markdown",
      "metadata": {
        "id": "2tJPGbx5_RiC",
        "colab_type": "text"
      },
      "source": [
        "We will break this program into two parts:\n",
        "\n",
        "1. A user-defined function that generates a list of random variables.  \n",
        "1. The main part of the program that  \n",
        "  \n",
        "  1. calls this function to get data  \n",
        "  1. plots the data  \n",
        "  \n",
        "\n",
        "\n",
        "This is accomplished in the next program\n",
        "\n",
        "\n",
        "<a id='funcloopprog'></a>"
      ]
    },
    {
      "cell_type": "code",
      "metadata": {
        "hide-output": false,
        "id": "cfCM271z_RiE",
        "colab_type": "code",
        "colab": {}
      },
      "source": [
        "def generate_data(n):\n",
        "    ϵ_values = []\n",
        "    for i in range(n):\n",
        "        e = np.random.randn()\n",
        "        ϵ_values.append(e)\n",
        "    return ϵ_values\n",
        "\n",
        "data = generate_data(100)\n",
        "plt.plot(data)\n",
        "plt.show()"
      ],
      "execution_count": 0,
      "outputs": []
    },
    {
      "cell_type": "markdown",
      "metadata": {
        "id": "yGIbvko0_RiL",
        "colab_type": "text"
      },
      "source": [
        "When the interpreter gets to the expression `generate_data(100)`, it executes the function body with `n` set equal to 100.\n",
        "\n",
        "The net result is that the name `data` is *bound* to the list `ϵ_values` returned by the function."
      ]
    },
    {
      "cell_type": "markdown",
      "metadata": {
        "id": "8zucCATd_RiN",
        "colab_type": "text"
      },
      "source": [
        "### Adding Conditions\n",
        "\n",
        "\n",
        "<a id='index-1'></a>\n",
        "Our function `generate_data()` is rather limited.\n",
        "\n",
        "Let’s make it slightly more useful by giving it the ability to return either standard normals or uniform random variables on $ (0, 1) $ as required.\n",
        "\n",
        "This is achieved in the next piece of code.\n",
        "\n",
        "\n",
        "<a id='funcloopprog2'></a>"
      ]
    },
    {
      "cell_type": "code",
      "metadata": {
        "hide-output": false,
        "id": "BqQeox-T_RiO",
        "colab_type": "code",
        "colab": {}
      },
      "source": [
        "def generate_data(n, generator_type):\n",
        "    ϵ_values = []\n",
        "    for i in range(n):\n",
        "        if generator_type == 'U':\n",
        "            e = np.random.uniform(0, 1)\n",
        "        else:\n",
        "            e = np.random.randn()\n",
        "        ϵ_values.append(e)\n",
        "    return ϵ_values\n",
        "\n",
        "data = generate_data(100, 'U')\n",
        "plt.plot(data)\n",
        "plt.show()"
      ],
      "execution_count": 0,
      "outputs": []
    },
    {
      "cell_type": "markdown",
      "metadata": {
        "id": "MDbuSgkk_RiW",
        "colab_type": "text"
      },
      "source": [
        "Hopefully, the syntax of the if/else clause is self-explanatory, with indentation again delimiting the extent of the code blocks.\n",
        "\n",
        "Notes\n",
        "\n",
        "- We are passing the argument `U` as a string, which is why we write it as `'U'`.  \n",
        "- Notice that equality is tested with the `==` syntax, not `=`.  \n",
        "  \n",
        "  - For example, the statement `a = 10` assigns the name `a` to the value `10`.  \n",
        "  - The expression `a == 10` evaluates to either `True` or `False`, depending on the value of `a`.  \n",
        "  \n",
        "\n",
        "\n",
        "Now, there are several ways that we can simplify the code above.\n",
        "\n",
        "For example, we can get rid of the conditionals all together by just passing the desired generator type *as a function*.\n",
        "\n",
        "To understand this, consider the following version.\n",
        "\n",
        "\n",
        "<a id='test-program-6'></a>"
      ]
    },
    {
      "cell_type": "code",
      "metadata": {
        "hide-output": false,
        "id": "E72otkSC_RiX",
        "colab_type": "code",
        "colab": {}
      },
      "source": [
        "def generate_data(n, generator_type):\n",
        "    ϵ_values = []\n",
        "    for i in range(n):\n",
        "        e = generator_type()\n",
        "        ϵ_values.append(e)\n",
        "    return ϵ_values\n",
        "\n",
        "data = generate_data(100, np.random.uniform)\n",
        "plt.plot(data)\n",
        "plt.show()"
      ],
      "execution_count": 0,
      "outputs": []
    },
    {
      "cell_type": "markdown",
      "metadata": {
        "id": "XcPupBvb_Rig",
        "colab_type": "text"
      },
      "source": [
        "Now, when we call the function `generate_data()`, we pass `np.random.uniform`\n",
        "as the second argument.\n",
        "\n",
        "This object is a *function*.\n",
        "\n",
        "When the function call  `generate_data(100, np.random.uniform)` is executed, Python runs the function code block with `n` equal to 100 and the name `generator_type` “bound” to the function `np.random.uniform`.\n",
        "\n",
        "- While these lines are executed, the names `generator_type` and `np.random.uniform` are “synonyms”, and can be used in identical ways.  \n",
        "\n",
        "\n",
        "This principle works more generally—for example, consider the following piece of code"
      ]
    },
    {
      "cell_type": "code",
      "metadata": {
        "hide-output": false,
        "id": "JvGya9Jg_Rih",
        "colab_type": "code",
        "colab": {}
      },
      "source": [
        "max(7, 2, 4)   # max() is a built-in Python function"
      ],
      "execution_count": 0,
      "outputs": []
    },
    {
      "cell_type": "code",
      "metadata": {
        "hide-output": false,
        "id": "z5MxbyL5_Rin",
        "colab_type": "code",
        "colab": {}
      },
      "source": [
        "m = max\n",
        "m(7, 2, 4)"
      ],
      "execution_count": 0,
      "outputs": []
    },
    {
      "cell_type": "markdown",
      "metadata": {
        "id": "EnVteZZI_Riw",
        "colab_type": "text"
      },
      "source": [
        "Here we created another name for the built-in function `max()`, which could\n",
        "then be used in identical ways.\n",
        "\n",
        "In the context of our program, the ability to bind new names to functions\n",
        "means that there is no problem *passing a function as an argument to another\n",
        "function*—as we did above."
      ]
    },
    {
      "cell_type": "markdown",
      "metadata": {
        "id": "8JeD5Amy_Riw",
        "colab_type": "text"
      },
      "source": [
        "## Exercises"
      ]
    },
    {
      "cell_type": "markdown",
      "metadata": {
        "id": "s3LdENJF_Rix",
        "colab_type": "text"
      },
      "source": [
        "### Exercise 1\n",
        "\n",
        "Recall that $ n! $ is read as “$ n $ factorial” and defined as\n",
        "$ n! = n \\times (n - 1) \\times \\cdots \\times 2 \\times 1 $.\n",
        "\n",
        "There are functions to compute this in various modules, but let’s\n",
        "write our own version as an exercise.\n",
        "\n",
        "In particular, write a function `factorial` such that `factorial(n)` returns $ n! $\n",
        "for any positive integer $ n $."
      ]
    },
    {
      "cell_type": "code",
      "metadata": {
        "id": "ajqY_YcxAmdw",
        "colab_type": "code",
        "colab": {
          "base_uri": "https://localhost:8080/",
          "height": 34
        },
        "outputId": "38981e65-c7bf-45cf-f282-93a00ec4e36f"
      },
      "source": [
        "def factorial(n):\n",
        "  temp = 1\n",
        "  for i in range(n):\n",
        "    temp = temp*(i+1)\n",
        "  return temp\n",
        "\n",
        "factorial(5)"
      ],
      "execution_count": 4,
      "outputs": [
        {
          "output_type": "execute_result",
          "data": {
            "text/plain": [
              "120"
            ]
          },
          "metadata": {
            "tags": []
          },
          "execution_count": 4
        }
      ]
    },
    {
      "cell_type": "markdown",
      "metadata": {
        "id": "YKjKBbsy_Riz",
        "colab_type": "text"
      },
      "source": [
        "### Exercise 2\n",
        "\n",
        "The [binomial random variable](https://en.wikipedia.org/wiki/Binomial_distribution) $ Y \\sim Bin(n, p) $ represents the number of successes in $ n $ binary trials, where each trial succeeds with probability $ p $.\n",
        "\n",
        "Without any import besides `from numpy.random import uniform`, write a function\n",
        "`binomial_rv` such that `binomial_rv(n, p)` generates one draw of $ Y $.\n",
        "\n",
        "Hint: If $ U $ is uniform on $ (0, 1) $ and $ p \\in (0,1) $, then the expression `U < p` evaluates to `True` with probability $ p $."
      ]
    },
    {
      "cell_type": "code",
      "metadata": {
        "id": "QfyGzDClBbX3",
        "colab_type": "code",
        "colab": {
          "base_uri": "https://localhost:8080/",
          "height": 34
        },
        "outputId": "7c8061c0-3e40-48db-de5c-288b5ca74831"
      },
      "source": [
        "from numpy.random import uniform\n",
        "\n",
        "def binomial_rv(n,p):\n",
        "    y=0\n",
        "    for i in range(n):\n",
        "      u = uniform()\n",
        "      if (u<p): y+=1\n",
        "\n",
        "    return (y)\n",
        "\n",
        "binomial_rv(1, 0.5)"
      ],
      "execution_count": 24,
      "outputs": [
        {
          "output_type": "execute_result",
          "data": {
            "text/plain": [
              "0"
            ]
          },
          "metadata": {
            "tags": []
          },
          "execution_count": 24
        }
      ]
    },
    {
      "cell_type": "markdown",
      "metadata": {
        "id": "0JM2bEUA_Ri0",
        "colab_type": "text"
      },
      "source": [
        "### Exercise 3\n",
        "\n",
        "First, write a function that returns one realization of the following random device\n",
        "\n",
        "1. Flip an unbiased coin 10 times.  \n",
        "1. If a head occurs `k` or more times consecutively within this sequence at least once, pay one dollar.  \n",
        "1. If not, pay nothing.  \n",
        "\n",
        "\n",
        "Second, write another function that does the same task except that the second rule of the above random device becomes\n",
        "\n",
        "- If a head occurs `k` or more times within this sequence, pay one dollar.  \n",
        "\n",
        "\n",
        "Use no import besides `from numpy.random import uniform`."
      ]
    },
    {
      "cell_type": "code",
      "metadata": {
        "id": "DGOsuCNdDAQZ",
        "colab_type": "code",
        "colab": {
          "base_uri": "https://localhost:8080/",
          "height": 34
        },
        "outputId": "19d20272-82fd-470d-f010-f5b391ba22f9"
      },
      "source": [
        "from numpy.random import uniform, seed\n",
        "\n",
        "def func1(k):\n",
        "  c=0\n",
        "  s=0\n",
        "  for i in range(10):\n",
        "    u = uniform()\n",
        "    if (u>0.5):\n",
        "      c+=1\n",
        "      if (c>=k): s+=1\n",
        "    else: c=0\n",
        "  return(s)\n",
        "\n",
        "func1(3)"
      ],
      "execution_count": 33,
      "outputs": [
        {
          "output_type": "execute_result",
          "data": {
            "text/plain": [
              "1"
            ]
          },
          "metadata": {
            "tags": []
          },
          "execution_count": 33
        }
      ]
    },
    {
      "cell_type": "code",
      "metadata": {
        "id": "UUHvgPW1D0yP",
        "colab_type": "code",
        "colab": {
          "base_uri": "https://localhost:8080/",
          "height": 34
        },
        "outputId": "f4e8425f-20ed-4eb0-f661-92d692ce0463"
      },
      "source": [
        "def func2(k):\n",
        "  c=0\n",
        "  s=0\n",
        "  for i in range(10):\n",
        "    u = uniform()\n",
        "    if (u>0.5):\n",
        "      c+=1\n",
        "  if (c>=k): return (1)\n",
        "\n",
        "func2(3)"
      ],
      "execution_count": 39,
      "outputs": [
        {
          "output_type": "execute_result",
          "data": {
            "text/plain": [
              "1"
            ]
          },
          "metadata": {
            "tags": []
          },
          "execution_count": 39
        }
      ]
    },
    {
      "cell_type": "markdown",
      "metadata": {
        "id": "uttttQJI_Ri2",
        "colab_type": "text"
      },
      "source": [
        "## Solutions"
      ]
    },
    {
      "cell_type": "markdown",
      "metadata": {
        "id": "0AJ2ISUv_Ri3",
        "colab_type": "text"
      },
      "source": [
        "### Exercise 1\n",
        "\n",
        "Here’s one solution."
      ]
    },
    {
      "cell_type": "code",
      "metadata": {
        "hide-output": false,
        "id": "TjbBFuOj_Ri4",
        "colab_type": "code",
        "colab": {}
      },
      "source": [
        "def factorial(n):\n",
        "    k = 1\n",
        "    for i in range(n):\n",
        "        k = k * (i + 1)\n",
        "    return k\n",
        "\n",
        "factorial(4)"
      ],
      "execution_count": 0,
      "outputs": []
    },
    {
      "cell_type": "markdown",
      "metadata": {
        "id": "JZZUO5yX_RjC",
        "colab_type": "text"
      },
      "source": [
        "### Exercise 2"
      ]
    },
    {
      "cell_type": "code",
      "metadata": {
        "hide-output": false,
        "id": "m-HtDLNU_RjD",
        "colab_type": "code",
        "colab": {
          "base_uri": "https://localhost:8080/",
          "height": 34
        },
        "outputId": "55549e7e-f13a-4f2f-9f86-6e3aafebba75"
      },
      "source": [
        "from numpy.random import uniform\n",
        "\n",
        "def binomial_rv(n, p):\n",
        "    count = 0\n",
        "    for i in range(n):\n",
        "        U = uniform()\n",
        "        if U < p:\n",
        "            count = count + 1    # Or count += 1\n",
        "    return count\n",
        "\n",
        "binomial_rv(10, 0.5)"
      ],
      "execution_count": 14,
      "outputs": [
        {
          "output_type": "execute_result",
          "data": {
            "text/plain": [
              "5"
            ]
          },
          "metadata": {
            "tags": []
          },
          "execution_count": 14
        }
      ]
    },
    {
      "cell_type": "markdown",
      "metadata": {
        "id": "NkqGnmsi_RjL",
        "colab_type": "text"
      },
      "source": [
        "### Exercise 3\n",
        "\n",
        "Here’s a function for the first random device."
      ]
    },
    {
      "cell_type": "code",
      "metadata": {
        "hide-output": false,
        "id": "TkL0Cvjq_RjM",
        "colab_type": "code",
        "colab": {
          "base_uri": "https://localhost:8080/",
          "height": 34
        },
        "outputId": "f5762130-b91d-4fbc-ec67-b8dab5bb0a17"
      },
      "source": [
        "from numpy.random import uniform\n",
        "\n",
        "def draw(k):  # pays if k consecutive successes in a sequence\n",
        "\n",
        "    payoff = 0\n",
        "    count = 0\n",
        "\n",
        "    for i in range(10):\n",
        "        U = uniform()\n",
        "        count = count + 1 if U < 0.5 else 0\n",
        "        #print(count)    # print counts for clarity\n",
        "        if count == k:\n",
        "            payoff = 1\n",
        "\n",
        "    return payoff\n",
        "\n",
        "draw(3)"
      ],
      "execution_count": 36,
      "outputs": [
        {
          "output_type": "execute_result",
          "data": {
            "text/plain": [
              "1"
            ]
          },
          "metadata": {
            "tags": []
          },
          "execution_count": 36
        }
      ]
    },
    {
      "cell_type": "markdown",
      "metadata": {
        "id": "5qOqqxmr_RjR",
        "colab_type": "text"
      },
      "source": [
        "Here’s another function for the second random device."
      ]
    },
    {
      "cell_type": "code",
      "metadata": {
        "hide-output": false,
        "id": "ocKdgztW_RjS",
        "colab_type": "code",
        "colab": {
          "base_uri": "https://localhost:8080/",
          "height": 34
        },
        "outputId": "4223ac09-43e0-46b8-ccbc-92a0997c84d8"
      },
      "source": [
        "def draw_new(k):  # pays if k successes in a sequence\n",
        "\n",
        "    payoff = 0\n",
        "    count = 0\n",
        "\n",
        "    for i in range(10):\n",
        "        U = uniform()\n",
        "        count = count + ( 1 if U < 0.5 else 0 )\n",
        "        #print(count)\n",
        "        if count == k:\n",
        "            payoff = 1\n",
        "\n",
        "    return payoff\n",
        "\n",
        "draw_new(3)\n",
        "\n",
        "# this solution is doubtful"
      ],
      "execution_count": 37,
      "outputs": [
        {
          "output_type": "execute_result",
          "data": {
            "text/plain": [
              "1"
            ]
          },
          "metadata": {
            "tags": []
          },
          "execution_count": 37
        }
      ]
    },
    {
      "cell_type": "code",
      "metadata": {
        "id": "Nsakf5A6E60g",
        "colab_type": "code",
        "colab": {}
      },
      "source": [
        ""
      ],
      "execution_count": 0,
      "outputs": []
    }
  ]
}