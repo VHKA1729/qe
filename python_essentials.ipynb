{
  "nbformat": 4,
  "nbformat_minor": 0,
  "metadata": {
    "date": 1585541040.3957355,
    "filename": "python_essentials.rst",
    "kernelspec": {
      "display_name": "Python",
      "language": "python3",
      "name": "python3"
    },
    "title": "Python Essentials",
    "colab": {
      "name": "python_essentials.ipynb",
      "provenance": []
    }
  },
  "cells": [
    {
      "cell_type": "markdown",
      "metadata": {
        "id": "TMQWNgb1GSYt",
        "colab_type": "text"
      },
      "source": [
        "\n",
        "<a id='python-done-right'></a>\n",
        "<div id=\"qe-notebook-header\" align=\"right\" style=\"text-align:right;\">\n",
        "        <a href=\"https://quantecon.org/\" title=\"quantecon.org\">\n",
        "                <img style=\"width:250px;display:inline;\" width=\"250px\" src=\"https://assets.quantecon.org/img/qe-menubar-logo.svg\" alt=\"QuantEcon\">\n",
        "        </a>\n",
        "</div>"
      ]
    },
    {
      "cell_type": "markdown",
      "metadata": {
        "id": "0zRbb5iWGSYv",
        "colab_type": "text"
      },
      "source": [
        "# Python Essentials"
      ]
    },
    {
      "cell_type": "markdown",
      "metadata": {
        "id": "y5JE0InUGSYw",
        "colab_type": "text"
      },
      "source": [
        "## Contents\n",
        "\n",
        "- [Python Essentials](#Python-Essentials)  \n",
        "  - [Overview](#Overview)  \n",
        "  - [Data Types](#Data-Types)  \n",
        "  - [Input and Output](#Input-and-Output)  \n",
        "  - [Iterating](#Iterating)  \n",
        "  - [Comparisons and Logical Operators](#Comparisons-and-Logical-Operators)  \n",
        "  - [More Functions](#More-Functions)  \n",
        "  - [Coding Style and PEP8](#Coding-Style-and-PEP8)  \n",
        "  - [Exercises](#Exercises)  \n",
        "  - [Solutions](#Solutions)  "
      ]
    },
    {
      "cell_type": "markdown",
      "metadata": {
        "id": "yjiOQvnrGSYx",
        "colab_type": "text"
      },
      "source": [
        "## Overview\n",
        "\n",
        "We have covered a lot of material quite quickly, with a focus on examples.\n",
        "\n",
        "Now let’s cover some core features of Python in a more systematic way.\n",
        "\n",
        "This approach is less exciting but helps clear up some details."
      ]
    },
    {
      "cell_type": "markdown",
      "metadata": {
        "id": "lMHpF7ZcGSYy",
        "colab_type": "text"
      },
      "source": [
        "## Data Types\n",
        "\n",
        "\n",
        "<a id='index-0'></a>\n",
        "Computer programs typically keep track of a range of data types.\n",
        "\n",
        "For example, `1.5` is a floating point number, while `1` is an integer.\n",
        "\n",
        "Programs need to distinguish between these two types for various reasons.\n",
        "\n",
        "One is that they are stored in memory differently.\n",
        "\n",
        "Another is that arithmetic operations are different\n",
        "\n",
        "- For example, floating point arithmetic is implemented on most machines by a\n",
        "  specialized Floating Point Unit (FPU).  \n",
        "\n",
        "\n",
        "In general, floats are more informative but arithmetic operations on integers\n",
        "are faster and more accurate.\n",
        "\n",
        "Python provides numerous other built-in Python data types, some of which we’ve already met\n",
        "\n",
        "- strings, lists, etc.  \n",
        "\n",
        "\n",
        "Let’s learn a bit more about them."
      ]
    },
    {
      "cell_type": "markdown",
      "metadata": {
        "id": "if8-lg_5GSYy",
        "colab_type": "text"
      },
      "source": [
        "### Primitive Data Types\n",
        "\n",
        "One simple data type is **Boolean values**, which can be either `True` or `False`"
      ]
    },
    {
      "cell_type": "code",
      "metadata": {
        "hide-output": false,
        "id": "NYgx-5wDGSYz",
        "colab_type": "code",
        "colab": {}
      },
      "source": [
        "x = True\n",
        "x"
      ],
      "execution_count": 0,
      "outputs": []
    },
    {
      "cell_type": "markdown",
      "metadata": {
        "id": "X_BxK6UaGSY3",
        "colab_type": "text"
      },
      "source": [
        "We can check the type of any object in memory using the `type()` function."
      ]
    },
    {
      "cell_type": "code",
      "metadata": {
        "hide-output": false,
        "id": "SP_t1e8EGSY4",
        "colab_type": "code",
        "colab": {}
      },
      "source": [
        "type(x)"
      ],
      "execution_count": 0,
      "outputs": []
    },
    {
      "cell_type": "markdown",
      "metadata": {
        "id": "y4w7OdV1GSY-",
        "colab_type": "text"
      },
      "source": [
        "In the next line of code, the interpreter evaluates the expression on the right of = and binds y to this value"
      ]
    },
    {
      "cell_type": "code",
      "metadata": {
        "hide-output": false,
        "id": "n3UCVDYLGSY-",
        "colab_type": "code",
        "colab": {}
      },
      "source": [
        "y = 100 < 10\n",
        "y"
      ],
      "execution_count": 0,
      "outputs": []
    },
    {
      "cell_type": "code",
      "metadata": {
        "hide-output": false,
        "id": "OWq6ALzfGSZC",
        "colab_type": "code",
        "colab": {}
      },
      "source": [
        "type(y)"
      ],
      "execution_count": 0,
      "outputs": []
    },
    {
      "cell_type": "markdown",
      "metadata": {
        "id": "Z-jjI6O4GSZG",
        "colab_type": "text"
      },
      "source": [
        "In arithmetic expressions, `True` is converted to `1` and `False` is converted `0`.\n",
        "\n",
        "This is called **Boolean arithmetic** and is often useful in programming.\n",
        "\n",
        "Here are some examples"
      ]
    },
    {
      "cell_type": "code",
      "metadata": {
        "hide-output": false,
        "id": "9WPjdcf3GSZG",
        "colab_type": "code",
        "colab": {}
      },
      "source": [
        "x + y"
      ],
      "execution_count": 0,
      "outputs": []
    },
    {
      "cell_type": "code",
      "metadata": {
        "hide-output": false,
        "id": "om0JlBB7GSZK",
        "colab_type": "code",
        "colab": {}
      },
      "source": [
        "x * y"
      ],
      "execution_count": 0,
      "outputs": []
    },
    {
      "cell_type": "code",
      "metadata": {
        "hide-output": false,
        "id": "czlt7RVXGSZP",
        "colab_type": "code",
        "colab": {
          "base_uri": "https://localhost:8080/",
          "height": 34
        },
        "outputId": "b7078602-898f-4143-d20f-851dc1b98292"
      },
      "source": [
        "True + True"
      ],
      "execution_count": 1,
      "outputs": [
        {
          "output_type": "execute_result",
          "data": {
            "text/plain": [
              "2"
            ]
          },
          "metadata": {
            "tags": []
          },
          "execution_count": 1
        }
      ]
    },
    {
      "cell_type": "code",
      "metadata": {
        "hide-output": false,
        "id": "vrUCqKusGSZT",
        "colab_type": "code",
        "colab": {}
      },
      "source": [
        "bools = [True, True, False, True]  # List of Boolean values\n",
        "\n",
        "sum(bools)"
      ],
      "execution_count": 0,
      "outputs": []
    },
    {
      "cell_type": "markdown",
      "metadata": {
        "id": "OJm9Yc07GSZW",
        "colab_type": "text"
      },
      "source": [
        "Complex numbers are another primitive data type in Python"
      ]
    },
    {
      "cell_type": "code",
      "metadata": {
        "hide-output": false,
        "id": "SHNhgdRfGSZW",
        "colab_type": "code",
        "colab": {}
      },
      "source": [
        "x = complex(1, 2)\n",
        "y = complex(2, 1)\n",
        "print(x * y)\n",
        "\n",
        "type(x)"
      ],
      "execution_count": 0,
      "outputs": []
    },
    {
      "cell_type": "markdown",
      "metadata": {
        "id": "zbNjzPQCGSZa",
        "colab_type": "text"
      },
      "source": [
        "### Containers\n",
        "\n",
        "Python has several basic types for storing collections of (possibly heterogeneous) data.\n",
        "\n",
        "We’ve [already discussed lists](https://python-programming.quantecon.org/python_by_example.html#lists-ref).\n",
        "\n",
        "\n",
        "<a id='index-1'></a>\n",
        "A related data type is **tuples**, which are “immutable” lists"
      ]
    },
    {
      "cell_type": "code",
      "metadata": {
        "hide-output": false,
        "id": "X2LBKi-SGSZb",
        "colab_type": "code",
        "colab": {}
      },
      "source": [
        "x = ('a', 'b')  # Parentheses instead of the square brackets\n",
        "x = 'a', 'b'    # Or no brackets --- the meaning is identical\n",
        "x"
      ],
      "execution_count": 0,
      "outputs": []
    },
    {
      "cell_type": "code",
      "metadata": {
        "hide-output": false,
        "id": "vj-iVuzyGSZg",
        "colab_type": "code",
        "colab": {}
      },
      "source": [
        "type(x)"
      ],
      "execution_count": 0,
      "outputs": []
    },
    {
      "cell_type": "markdown",
      "metadata": {
        "id": "D34jG18dGSZk",
        "colab_type": "text"
      },
      "source": [
        "In Python, an object is called **immutable** if, once created, the object cannot be changed.\n",
        "\n",
        "Conversely, an object is **mutable** if it can still be altered after creation.\n",
        "\n",
        "Python lists are mutable"
      ]
    },
    {
      "cell_type": "code",
      "metadata": {
        "hide-output": false,
        "id": "tsosZmSuGSZl",
        "colab_type": "code",
        "colab": {}
      },
      "source": [
        "x = [1, 2]\n",
        "x[0] = 10\n",
        "x"
      ],
      "execution_count": 0,
      "outputs": []
    },
    {
      "cell_type": "markdown",
      "metadata": {
        "id": "1BCZ9bHXGSZn",
        "colab_type": "text"
      },
      "source": [
        "But tuples are not"
      ]
    },
    {
      "cell_type": "code",
      "metadata": {
        "hide-output": false,
        "id": "gxFLvbrIGSZo",
        "colab_type": "code",
        "colab": {}
      },
      "source": [
        "x = (1, 2)\n",
        "x[0] = 10"
      ],
      "execution_count": 0,
      "outputs": []
    },
    {
      "cell_type": "markdown",
      "metadata": {
        "id": "WzJ80YC3GSZr",
        "colab_type": "text"
      },
      "source": [
        "We’ll say more about the role of mutable and immutable data a bit later.\n",
        "\n",
        "Tuples (and lists) can be “unpacked” as follows"
      ]
    },
    {
      "cell_type": "code",
      "metadata": {
        "hide-output": false,
        "id": "2K8652AdGSZr",
        "colab_type": "code",
        "colab": {}
      },
      "source": [
        "integers = (10, 20, 30)\n",
        "x, y, z = integers\n",
        "x"
      ],
      "execution_count": 0,
      "outputs": []
    },
    {
      "cell_type": "code",
      "metadata": {
        "hide-output": false,
        "id": "-sHn3HFCGSZx",
        "colab_type": "code",
        "colab": {}
      },
      "source": [
        "y"
      ],
      "execution_count": 0,
      "outputs": []
    },
    {
      "cell_type": "markdown",
      "metadata": {
        "id": "HILUqNygGSZ2",
        "colab_type": "text"
      },
      "source": [
        "You’ve actually [seen an example of this](https://python-programming.quantecon.org/about_py.html#tuple-unpacking-example) already.\n",
        "\n",
        "Tuple unpacking is convenient and we’ll use it often."
      ]
    },
    {
      "cell_type": "markdown",
      "metadata": {
        "id": "XkNEcCxWGSZ3",
        "colab_type": "text"
      },
      "source": [
        "#### Slice Notation\n",
        "\n",
        "\n",
        "<a id='index-2'></a>\n",
        "To access multiple elements of a list or tuple, you can use Python’s slice\n",
        "notation.\n",
        "\n",
        "For example,"
      ]
    },
    {
      "cell_type": "code",
      "metadata": {
        "hide-output": false,
        "id": "FZScLAWPGSZ3",
        "colab_type": "code",
        "colab": {}
      },
      "source": [
        "a = [2, 4, 6, 8]\n",
        "a[1:]"
      ],
      "execution_count": 0,
      "outputs": []
    },
    {
      "cell_type": "code",
      "metadata": {
        "hide-output": false,
        "id": "EMtGj5T9GSaB",
        "colab_type": "code",
        "colab": {}
      },
      "source": [
        "a[1:3]"
      ],
      "execution_count": 0,
      "outputs": []
    },
    {
      "cell_type": "markdown",
      "metadata": {
        "id": "4SCV8UelGSaF",
        "colab_type": "text"
      },
      "source": [
        "The general rule is that `a[m:n]` returns `n - m` elements, starting at `a[m]`.\n",
        "\n",
        "Negative numbers are also permissible"
      ]
    },
    {
      "cell_type": "code",
      "metadata": {
        "hide-output": false,
        "id": "45kCiuG3GSaG",
        "colab_type": "code",
        "colab": {}
      },
      "source": [
        "a[-2:]  # Last two elements of the list"
      ],
      "execution_count": 0,
      "outputs": []
    },
    {
      "cell_type": "markdown",
      "metadata": {
        "id": "ypgqjGucGSaK",
        "colab_type": "text"
      },
      "source": [
        "The same slice notation works on tuples and strings"
      ]
    },
    {
      "cell_type": "code",
      "metadata": {
        "hide-output": false,
        "id": "AMZV4noOGSaL",
        "colab_type": "code",
        "colab": {}
      },
      "source": [
        "s = 'foobar'\n",
        "s[-3:]  # Select the last three elements"
      ],
      "execution_count": 0,
      "outputs": []
    },
    {
      "cell_type": "markdown",
      "metadata": {
        "id": "rRDMOt5zGSaQ",
        "colab_type": "text"
      },
      "source": [
        "#### Sets and Dictionaries\n",
        "\n",
        "\n",
        "<a id='index-4'></a>\n",
        "Two other container types we should mention before moving on are [sets](https://docs.python.org/3/tutorial/datastructures.html#sets) and [dictionaries](https://docs.python.org/3/tutorial/datastructures.html#dictionaries).\n",
        "\n",
        "Dictionaries are much like lists, except that the items are named instead of\n",
        "numbered"
      ]
    },
    {
      "cell_type": "code",
      "metadata": {
        "hide-output": false,
        "id": "dQkYIW4VGSaR",
        "colab_type": "code",
        "colab": {}
      },
      "source": [
        "d = {'name': 'Frodo', 'age': 33}\n",
        "type(d)"
      ],
      "execution_count": 0,
      "outputs": []
    },
    {
      "cell_type": "code",
      "metadata": {
        "hide-output": false,
        "id": "dQif0W5SGSaW",
        "colab_type": "code",
        "colab": {}
      },
      "source": [
        "d['age']"
      ],
      "execution_count": 0,
      "outputs": []
    },
    {
      "cell_type": "markdown",
      "metadata": {
        "id": "XNT5mDcTGSac",
        "colab_type": "text"
      },
      "source": [
        "The names `'name'` and `'age'` are called the *keys*.\n",
        "\n",
        "The objects that the keys are mapped to (`'Frodo'` and `33`) are called the `values`.\n",
        "\n",
        "Sets are unordered collections without duplicates, and set methods provide the\n",
        "usual set-theoretic operations"
      ]
    },
    {
      "cell_type": "code",
      "metadata": {
        "hide-output": false,
        "id": "wQ_4OEagGSad",
        "colab_type": "code",
        "colab": {}
      },
      "source": [
        "s1 = {'a', 'b'}\n",
        "type(s1)"
      ],
      "execution_count": 0,
      "outputs": []
    },
    {
      "cell_type": "code",
      "metadata": {
        "hide-output": false,
        "id": "I_nCThGZGSam",
        "colab_type": "code",
        "colab": {}
      },
      "source": [
        "s2 = {'b', 'c'}\n",
        "s1.issubset(s2)"
      ],
      "execution_count": 0,
      "outputs": []
    },
    {
      "cell_type": "code",
      "metadata": {
        "hide-output": false,
        "id": "XbQWUH9DGSap",
        "colab_type": "code",
        "colab": {}
      },
      "source": [
        "s1.intersection(s2)"
      ],
      "execution_count": 0,
      "outputs": []
    },
    {
      "cell_type": "markdown",
      "metadata": {
        "id": "5_-5yBhNGSat",
        "colab_type": "text"
      },
      "source": [
        "The `set()` function creates sets from sequences"
      ]
    },
    {
      "cell_type": "code",
      "metadata": {
        "hide-output": false,
        "id": "1Yp_oQC1GSau",
        "colab_type": "code",
        "colab": {
          "base_uri": "https://localhost:8080/",
          "height": 34
        },
        "outputId": "a85efc39-4213-4296-c152-f92285234c28"
      },
      "source": [
        "s3 = set(('foo', 'bar', 'foo'))\n",
        "s3"
      ],
      "execution_count": 1,
      "outputs": [
        {
          "output_type": "execute_result",
          "data": {
            "text/plain": [
              "{'bar', 'foo'}"
            ]
          },
          "metadata": {
            "tags": []
          },
          "execution_count": 1
        }
      ]
    },
    {
      "cell_type": "markdown",
      "metadata": {
        "id": "6e4G6N6qGSaz",
        "colab_type": "text"
      },
      "source": [
        "## Input and Output\n",
        "\n",
        "\n",
        "<a id='index-5'></a>\n",
        "Let’s briefly review reading and writing to text files, starting with writing"
      ]
    },
    {
      "cell_type": "code",
      "metadata": {
        "hide-output": false,
        "id": "8-fJpo71GSa0",
        "colab_type": "code",
        "colab": {}
      },
      "source": [
        "f = open('newfile.txt', 'w')   # Open 'newfile.txt' for writing\n",
        "f.write('Testing\\n')           # Here '\\n' means new line\n",
        "f.write('Testing again')\n",
        "f.close()"
      ],
      "execution_count": 0,
      "outputs": []
    },
    {
      "cell_type": "markdown",
      "metadata": {
        "id": "6T0PR7gTGSa4",
        "colab_type": "text"
      },
      "source": [
        "Here\n",
        "\n",
        "- The built-in function `open()` creates a file object for writing to.  \n",
        "- Both `write()` and `close()` are methods of file objects.  \n",
        "\n",
        "\n",
        "Where is this file that we’ve created?\n",
        "\n",
        "Recall that Python maintains a concept of the present working directory (pwd) that can be located from with Jupyter or IPython via"
      ]
    },
    {
      "cell_type": "code",
      "metadata": {
        "hide-output": false,
        "id": "7f9P9MSgGSa5",
        "colab_type": "code",
        "colab": {}
      },
      "source": [
        "%pwd"
      ],
      "execution_count": 0,
      "outputs": []
    },
    {
      "cell_type": "markdown",
      "metadata": {
        "id": "Kt2xyLLDGSa8",
        "colab_type": "text"
      },
      "source": [
        "If a path is not specified, then this is where Python writes to.\n",
        "\n",
        "We can also use Python to read the contents of `newline.txt` as follows"
      ]
    },
    {
      "cell_type": "code",
      "metadata": {
        "hide-output": false,
        "id": "mZ9tnNcWGSa8",
        "colab_type": "code",
        "colab": {}
      },
      "source": [
        "f = open('newfile.txt', 'r')\n",
        "out = f.read()\n",
        "out"
      ],
      "execution_count": 0,
      "outputs": []
    },
    {
      "cell_type": "code",
      "metadata": {
        "hide-output": false,
        "id": "z0nAVkQeGSbO",
        "colab_type": "code",
        "colab": {}
      },
      "source": [
        "print(out)"
      ],
      "execution_count": 0,
      "outputs": []
    },
    {
      "cell_type": "markdown",
      "metadata": {
        "id": "zAIceabYGSbW",
        "colab_type": "text"
      },
      "source": [
        "### Paths\n",
        "\n",
        "\n",
        "<a id='index-6'></a>\n",
        "Note that if `newfile.txt` is not in the present working directory then this call to `open()` fails.\n",
        "\n",
        "In this case, you can shift the file to the pwd or specify the [full path](https://en.wikipedia.org/wiki/Path_%28computing%29) to the file"
      ]
    },
    {
      "cell_type": "markdown",
      "metadata": {
        "hide-output": false,
        "id": "A2FsNrflGSbW",
        "colab_type": "text"
      },
      "source": [
        "```python3\n",
        "f = open('insert_full_path_to_file/newfile.txt', 'r')\n",
        "```\n"
      ]
    },
    {
      "cell_type": "markdown",
      "metadata": {
        "id": "0pNqWBoUGSbX",
        "colab_type": "text"
      },
      "source": [
        "\n",
        "<a id='iterating-version-1'></a>"
      ]
    },
    {
      "cell_type": "markdown",
      "metadata": {
        "id": "b-PgzFahGSbY",
        "colab_type": "text"
      },
      "source": [
        "## Iterating\n",
        "\n",
        "\n",
        "<a id='index-7'></a>\n",
        "One of the most important tasks in computing is stepping through a\n",
        "sequence of data and performing a given action.\n",
        "\n",
        "One of Python’s strengths is its simple, flexible interface to this kind of iteration via\n",
        "the `for` loop."
      ]
    },
    {
      "cell_type": "markdown",
      "metadata": {
        "id": "CFXQGy9ZGSbY",
        "colab_type": "text"
      },
      "source": [
        "### Looping over Different Objects\n",
        "\n",
        "Many Python objects are “iterable”, in the sense that they can be looped over.\n",
        "\n",
        "To give an example, let’s write the file us_cities.txt, which lists US cities and their population, to the present working directory.\n",
        "\n",
        "\n",
        "<a id='us-cities-data'></a>"
      ]
    },
    {
      "cell_type": "code",
      "metadata": {
        "hide-output": false,
        "id": "33Gnrh2GGSbZ",
        "colab_type": "code",
        "colab": {}
      },
      "source": [
        "%%file us_cities.txt\n",
        "new york: 8244910\n",
        "los angeles: 3819702\n",
        "chicago: 2707120\n",
        "houston: 2145146\n",
        "philadelphia: 1536471\n",
        "phoenix: 1469471\n",
        "san antonio: 1359758\n",
        "san diego: 1326179\n",
        "dallas: 1223229"
      ],
      "execution_count": 0,
      "outputs": []
    },
    {
      "cell_type": "markdown",
      "metadata": {
        "id": "_ZJWu6dwGSbd",
        "colab_type": "text"
      },
      "source": [
        "Here %%file is an [IPython cell magic](https://ipython.readthedocs.io/en/stable/interactive/magics.html#cell-magics).\n",
        "\n",
        "Suppose that we want to make the information more readable, by capitalizing names and adding commas to mark thousands.\n",
        "\n",
        "The program below reads the data in and makes the conversion:"
      ]
    },
    {
      "cell_type": "code",
      "metadata": {
        "hide-output": false,
        "id": "nPO4Dwe0GSbe",
        "colab_type": "code",
        "colab": {}
      },
      "source": [
        "data_file = open('us_cities.txt', 'r')\n",
        "for line in data_file:\n",
        "    city, population = line.split(':')         # Tuple unpacking\n",
        "    city = city.title()                        # Capitalize city names\n",
        "    population = f'{int(population):,}'        # Add commas to numbers\n",
        "    print(city.ljust(15) + population)\n",
        "data_file.close()"
      ],
      "execution_count": 0,
      "outputs": []
    },
    {
      "cell_type": "markdown",
      "metadata": {
        "id": "N4UddceZGSbh",
        "colab_type": "text"
      },
      "source": [
        "Here `format()` is a string method [used for inserting variables into strings](https://docs.python.org/3/library/string.html#formatspec).\n",
        "\n",
        "The reformatting of each line is the result of three different string methods,\n",
        "the details of which can be left till later.\n",
        "\n",
        "The interesting part of this program for us is line 2, which shows that\n",
        "\n",
        "1. The file object `data_file` is iterable, in the sense that it can be placed to the right of `in` within a `for` loop.  \n",
        "1. Iteration steps through each line in the file.  \n",
        "\n",
        "\n",
        "This leads to the clean, convenient syntax shown in our program.\n",
        "\n",
        "Many other kinds of objects are iterable, and we’ll discuss some of them later on."
      ]
    },
    {
      "cell_type": "markdown",
      "metadata": {
        "id": "qAF9cCQhGSbj",
        "colab_type": "text"
      },
      "source": [
        "### Looping without Indices\n",
        "\n",
        "One thing you might have noticed is that Python tends to favor looping without explicit indexing.\n",
        "\n",
        "For example,"
      ]
    },
    {
      "cell_type": "code",
      "metadata": {
        "hide-output": false,
        "id": "fuipNcRAGSbk",
        "colab_type": "code",
        "colab": {}
      },
      "source": [
        "x_values = [1, 2, 3]  # Some iterable x\n",
        "for x in x_values:\n",
        "    print(x * x)"
      ],
      "execution_count": 0,
      "outputs": []
    },
    {
      "cell_type": "markdown",
      "metadata": {
        "id": "TJOrZT7UGSbn",
        "colab_type": "text"
      },
      "source": [
        "is preferred to"
      ]
    },
    {
      "cell_type": "code",
      "metadata": {
        "hide-output": false,
        "id": "znCkvDi8GSbp",
        "colab_type": "code",
        "colab": {}
      },
      "source": [
        "for i in range(len(x_values)):\n",
        "    print(x_values[i] * x_values[i])"
      ],
      "execution_count": 0,
      "outputs": []
    },
    {
      "cell_type": "markdown",
      "metadata": {
        "id": "CX9HyRKXGSbt",
        "colab_type": "text"
      },
      "source": [
        "When you compare these two alternatives, you can see why the first one is preferred.\n",
        "\n",
        "Python provides some facilities to simplify looping without indices.\n",
        "\n",
        "One is `zip()`, which is used for stepping through pairs from two sequences.\n",
        "\n",
        "For example, try running the following code"
      ]
    },
    {
      "cell_type": "code",
      "metadata": {
        "hide-output": false,
        "id": "lFy-uxV-GSbt",
        "colab_type": "code",
        "colab": {}
      },
      "source": [
        "countries = ('Japan', 'Korea', 'China')\n",
        "cities = ('Tokyo', 'Seoul', 'Beijing')\n",
        "for country, city in zip(countries, cities):\n",
        "    print(f'The capital of {country} is {city}')"
      ],
      "execution_count": 0,
      "outputs": []
    },
    {
      "cell_type": "markdown",
      "metadata": {
        "id": "7Zvvd_fPGSbw",
        "colab_type": "text"
      },
      "source": [
        "The `zip()` function is also useful for creating dictionaries — for\n",
        "example"
      ]
    },
    {
      "cell_type": "code",
      "metadata": {
        "hide-output": false,
        "id": "XaOxUQSFGSbw",
        "colab_type": "code",
        "colab": {}
      },
      "source": [
        "names = ['Tom', 'John']\n",
        "marks = ['E', 'F']\n",
        "dict(zip(names, marks))"
      ],
      "execution_count": 0,
      "outputs": []
    },
    {
      "cell_type": "markdown",
      "metadata": {
        "id": "jjheEsl5GSb2",
        "colab_type": "text"
      },
      "source": [
        "If we actually need the index from a list, one option is to use `enumerate()`.\n",
        "\n",
        "To understand what `enumerate()` does, consider the following example"
      ]
    },
    {
      "cell_type": "code",
      "metadata": {
        "hide-output": false,
        "id": "BfY6daGaGSb3",
        "colab_type": "code",
        "colab": {}
      },
      "source": [
        "letter_list = ['a', 'b', 'c']\n",
        "for index, letter in enumerate(letter_list):\n",
        "    print(f\"letter_list[{index}] = '{letter}'\")"
      ],
      "execution_count": 0,
      "outputs": []
    },
    {
      "cell_type": "markdown",
      "metadata": {
        "id": "UnbiP3RmGScB",
        "colab_type": "text"
      },
      "source": [
        "### List Comprehensions\n",
        "\n",
        "\n",
        "<a id='index-8'></a>\n",
        "We can also simplify the code for generating the list of random draws considerably by using something called a *list comprehension*.\n",
        "\n",
        "[List comprehensions](https://en.wikipedia.org/wiki/List_comprehension) are an elegant Python tool for creating lists.\n",
        "\n",
        "Consider the following example, where the list comprehension is on the\n",
        "right-hand side of the second line"
      ]
    },
    {
      "cell_type": "code",
      "metadata": {
        "hide-output": false,
        "id": "hv0fOyIoGScB",
        "colab_type": "code",
        "colab": {}
      },
      "source": [
        "animals = ['dog', 'cat', 'bird']\n",
        "plurals = [animal + 's' for animal in animals]\n",
        "plurals"
      ],
      "execution_count": 0,
      "outputs": []
    },
    {
      "cell_type": "markdown",
      "metadata": {
        "id": "siu8DuY_GScE",
        "colab_type": "text"
      },
      "source": [
        "Here’s another example"
      ]
    },
    {
      "cell_type": "code",
      "metadata": {
        "hide-output": false,
        "id": "0v3aHBYQGScE",
        "colab_type": "code",
        "colab": {}
      },
      "source": [
        "range(8)"
      ],
      "execution_count": 0,
      "outputs": []
    },
    {
      "cell_type": "code",
      "metadata": {
        "hide-output": false,
        "id": "wVe4fLCQGScH",
        "colab_type": "code",
        "colab": {}
      },
      "source": [
        "doubles = [2 * x for x in range(8)]\n",
        "doubles"
      ],
      "execution_count": 0,
      "outputs": []
    },
    {
      "cell_type": "markdown",
      "metadata": {
        "id": "NTV3v0TBGScK",
        "colab_type": "text"
      },
      "source": [
        "## Comparisons and Logical Operators"
      ]
    },
    {
      "cell_type": "markdown",
      "metadata": {
        "id": "FRcl48_sGScL",
        "colab_type": "text"
      },
      "source": [
        "### Comparisons\n",
        "\n",
        "\n",
        "<a id='index-9'></a>\n",
        "Many different kinds of expressions evaluate to one of the Boolean values (i.e., `True` or `False`).\n",
        "\n",
        "A common type is comparisons, such as"
      ]
    },
    {
      "cell_type": "code",
      "metadata": {
        "hide-output": false,
        "id": "CDFGaP2oGScM",
        "colab_type": "code",
        "colab": {}
      },
      "source": [
        "x, y = 1, 2\n",
        "x < y"
      ],
      "execution_count": 0,
      "outputs": []
    },
    {
      "cell_type": "code",
      "metadata": {
        "hide-output": false,
        "id": "tLMu9hkNGScO",
        "colab_type": "code",
        "colab": {}
      },
      "source": [
        "x > y"
      ],
      "execution_count": 0,
      "outputs": []
    },
    {
      "cell_type": "markdown",
      "metadata": {
        "id": "2bJQRYpCGScR",
        "colab_type": "text"
      },
      "source": [
        "One of the nice features of Python is that we can *chain* inequalities"
      ]
    },
    {
      "cell_type": "code",
      "metadata": {
        "hide-output": false,
        "id": "AQ_jc8hXGScR",
        "colab_type": "code",
        "colab": {}
      },
      "source": [
        "1 < 2 < 3"
      ],
      "execution_count": 0,
      "outputs": []
    },
    {
      "cell_type": "code",
      "metadata": {
        "hide-output": false,
        "id": "gLbWzRQ3GScZ",
        "colab_type": "code",
        "colab": {}
      },
      "source": [
        "1 <= 2 <= 3"
      ],
      "execution_count": 0,
      "outputs": []
    },
    {
      "cell_type": "markdown",
      "metadata": {
        "id": "_nTOPjCWGScd",
        "colab_type": "text"
      },
      "source": [
        "As we saw earlier, when testing for equality we use `==`"
      ]
    },
    {
      "cell_type": "code",
      "metadata": {
        "hide-output": false,
        "id": "HhdQ83BiGSce",
        "colab_type": "code",
        "colab": {}
      },
      "source": [
        "x = 1    # Assignment\n",
        "x == 2   # Comparison"
      ],
      "execution_count": 0,
      "outputs": []
    },
    {
      "cell_type": "markdown",
      "metadata": {
        "id": "Ymu2jy51GScj",
        "colab_type": "text"
      },
      "source": [
        "For “not equal” use `!=`"
      ]
    },
    {
      "cell_type": "code",
      "metadata": {
        "hide-output": false,
        "id": "vSIPkc-bGSco",
        "colab_type": "code",
        "colab": {}
      },
      "source": [
        "1 != 2"
      ],
      "execution_count": 0,
      "outputs": []
    },
    {
      "cell_type": "markdown",
      "metadata": {
        "id": "XRLrV2XbGScr",
        "colab_type": "text"
      },
      "source": [
        "Note that when testing conditions, we can use **any** valid Python expression"
      ]
    },
    {
      "cell_type": "code",
      "metadata": {
        "hide-output": false,
        "id": "ogMLycyBGScr",
        "colab_type": "code",
        "colab": {}
      },
      "source": [
        "x = 'yes' if 42 else 'no'\n",
        "x"
      ],
      "execution_count": 0,
      "outputs": []
    },
    {
      "cell_type": "code",
      "metadata": {
        "hide-output": false,
        "id": "3yHpCFcXGSc0",
        "colab_type": "code",
        "colab": {}
      },
      "source": [
        "x = 'yes' if [] else 'no'\n",
        "x"
      ],
      "execution_count": 0,
      "outputs": []
    },
    {
      "cell_type": "markdown",
      "metadata": {
        "id": "lXcMF9hhGSc4",
        "colab_type": "text"
      },
      "source": [
        "What’s going on here?\n",
        "\n",
        "The rule is:\n",
        "\n",
        "- Expressions that evaluate to zero, empty sequences or containers (strings, lists, etc.) and `None` are all equivalent to `False`.  \n",
        "  \n",
        "  - for example, `[]` and `()` are equivalent to `False` in an `if` clause  \n",
        "  \n",
        "- All other values are equivalent to `True`.  \n",
        "  \n",
        "  - for example, `42` is equivalent to `True` in an `if` clause  "
      ]
    },
    {
      "cell_type": "markdown",
      "metadata": {
        "id": "QGpd-BtNGSc4",
        "colab_type": "text"
      },
      "source": [
        "### Combining Expressions\n",
        "\n",
        "\n",
        "<a id='index-10'></a>\n",
        "We can combine expressions using `and`, `or` and `not`.\n",
        "\n",
        "These are the standard logical connectives (conjunction, disjunction and denial)"
      ]
    },
    {
      "cell_type": "code",
      "metadata": {
        "hide-output": false,
        "id": "2r4GDwnWGSc4",
        "colab_type": "code",
        "colab": {}
      },
      "source": [
        "1 < 2 and 'f' in 'foo'"
      ],
      "execution_count": 0,
      "outputs": []
    },
    {
      "cell_type": "code",
      "metadata": {
        "hide-output": false,
        "id": "7YE56i5zGSc6",
        "colab_type": "code",
        "colab": {}
      },
      "source": [
        "1 < 2 and 'g' in 'foo'"
      ],
      "execution_count": 0,
      "outputs": []
    },
    {
      "cell_type": "code",
      "metadata": {
        "hide-output": false,
        "id": "x2qrHfzEGSc-",
        "colab_type": "code",
        "colab": {}
      },
      "source": [
        "1 < 2 or 'g' in 'foo'"
      ],
      "execution_count": 0,
      "outputs": []
    },
    {
      "cell_type": "code",
      "metadata": {
        "hide-output": false,
        "id": "7fczcJpuGSdB",
        "colab_type": "code",
        "colab": {}
      },
      "source": [
        "not True"
      ],
      "execution_count": 0,
      "outputs": []
    },
    {
      "cell_type": "code",
      "metadata": {
        "hide-output": false,
        "id": "NTjaw2EYGSdF",
        "colab_type": "code",
        "colab": {}
      },
      "source": [
        "not not True"
      ],
      "execution_count": 0,
      "outputs": []
    },
    {
      "cell_type": "markdown",
      "metadata": {
        "id": "BiE6qJg9GSdL",
        "colab_type": "text"
      },
      "source": [
        "Remember\n",
        "\n",
        "- `P and Q` is `True` if both are `True`, else `False`  \n",
        "- `P or Q` is `False` if both are `False`, else `True`  "
      ]
    },
    {
      "cell_type": "markdown",
      "metadata": {
        "id": "BW8PI7-8GSdM",
        "colab_type": "text"
      },
      "source": [
        "## More Functions\n",
        "\n",
        "\n",
        "<a id='index-11'></a>\n",
        "Let’s talk a bit more about functions, which are all important for good programming style."
      ]
    },
    {
      "cell_type": "markdown",
      "metadata": {
        "id": "M3t4qn6mGSdO",
        "colab_type": "text"
      },
      "source": [
        "### The Flexibility of Python Functions\n",
        "\n",
        "As we discussed in the [previous lecture](https://python-programming.quantecon.org/python_by_example.html#python-by-example), Python functions are very flexible.\n",
        "\n",
        "In particular\n",
        "\n",
        "- Any number of functions can be defined in a given file.  \n",
        "- Functions can be (and often are) defined inside other functions.  \n",
        "- Any object can be passed to a function as an argument, including other functions.  \n",
        "- A function can return any kind of object, including functions.  \n",
        "\n",
        "\n",
        "We already [gave an example](https://python-programming.quantecon.org/functions.html#test-program-6) of how straightforward it is to pass a function to\n",
        "a function.\n",
        "\n",
        "Note that a function can have arbitrarily many `return` statements (including zero).\n",
        "\n",
        "Execution of the function terminates when the first return is hit, allowing\n",
        "code like the following example"
      ]
    },
    {
      "cell_type": "code",
      "metadata": {
        "hide-output": false,
        "id": "SCfkK5TdGSdO",
        "colab_type": "code",
        "colab": {}
      },
      "source": [
        "def f(x):\n",
        "    if x < 0:\n",
        "        return 'negative'\n",
        "    return 'nonnegative'"
      ],
      "execution_count": 0,
      "outputs": []
    },
    {
      "cell_type": "markdown",
      "metadata": {
        "id": "laX86rIDGSdS",
        "colab_type": "text"
      },
      "source": [
        "Functions without a return statement automatically return the special Python object `None`."
      ]
    },
    {
      "cell_type": "markdown",
      "metadata": {
        "id": "Mb-xa3B7GSdT",
        "colab_type": "text"
      },
      "source": [
        "### Docstrings\n",
        "\n",
        "\n",
        "<a id='index-12'></a>\n",
        "Python has a system for adding comments to functions, modules, etc. called *docstrings*.\n",
        "\n",
        "The nice thing about docstrings is that they are available at run-time.\n",
        "\n",
        "Try running this"
      ]
    },
    {
      "cell_type": "code",
      "metadata": {
        "hide-output": false,
        "id": "lIR8HJH2GSdT",
        "colab_type": "code",
        "colab": {}
      },
      "source": [
        "def f(x):\n",
        "    \"\"\"\n",
        "    This function squares its argument\n",
        "    \"\"\"\n",
        "    return x**2"
      ],
      "execution_count": 0,
      "outputs": []
    },
    {
      "cell_type": "markdown",
      "metadata": {
        "id": "FMkZKbVkGSdW",
        "colab_type": "text"
      },
      "source": [
        "After running this code, the docstring is available"
      ]
    },
    {
      "cell_type": "code",
      "metadata": {
        "hide-output": false,
        "id": "2M1JuCGIGSdZ",
        "colab_type": "code",
        "colab": {}
      },
      "source": [
        "f?"
      ],
      "execution_count": 0,
      "outputs": []
    },
    {
      "cell_type": "markdown",
      "metadata": {
        "hide-output": false,
        "id": "_BZ5OW7XGSdh",
        "colab_type": "text"
      },
      "source": [
        "```ipython\n",
        "Type:       function\n",
        "String Form:<function f at 0x2223320>\n",
        "File:       /home/john/temp/temp.py\n",
        "Definition: f(x)\n",
        "Docstring:  This function squares its argument\n",
        "```\n"
      ]
    },
    {
      "cell_type": "code",
      "metadata": {
        "hide-output": false,
        "id": "feW1OQThGSdh",
        "colab_type": "code",
        "colab": {}
      },
      "source": [
        "f??"
      ],
      "execution_count": 0,
      "outputs": []
    },
    {
      "cell_type": "markdown",
      "metadata": {
        "hide-output": false,
        "id": "TIkLfUjfGSdj",
        "colab_type": "text"
      },
      "source": [
        "```ipython\n",
        "Type:       function\n",
        "String Form:<function f at 0x2223320>\n",
        "File:       /home/john/temp/temp.py\n",
        "Definition: f(x)\n",
        "Source:\n",
        "def f(x):\n",
        "    \"\"\"\n",
        "    This function squares its argument\n",
        "    \"\"\"\n",
        "    return x**2\n",
        "```\n"
      ]
    },
    {
      "cell_type": "markdown",
      "metadata": {
        "id": "hM1ULPGgGSdj",
        "colab_type": "text"
      },
      "source": [
        "With one question mark we bring up the docstring, and with two we get the source code as well."
      ]
    },
    {
      "cell_type": "markdown",
      "metadata": {
        "id": "IXVjhKJKGSdk",
        "colab_type": "text"
      },
      "source": [
        "### One-Line Functions: `lambda`\n",
        "\n",
        "\n",
        "<a id='index-13'></a>\n",
        "The `lambda` keyword is used to create simple functions on one line.\n",
        "\n",
        "For example, the definitions"
      ]
    },
    {
      "cell_type": "code",
      "metadata": {
        "hide-output": false,
        "id": "x2j8S7vWGSdl",
        "colab_type": "code",
        "colab": {}
      },
      "source": [
        "def f(x):\n",
        "    return x**3"
      ],
      "execution_count": 0,
      "outputs": []
    },
    {
      "cell_type": "markdown",
      "metadata": {
        "id": "z7MSWuYbGSdr",
        "colab_type": "text"
      },
      "source": [
        "and"
      ]
    },
    {
      "cell_type": "code",
      "metadata": {
        "hide-output": false,
        "id": "18JXVxTSGSds",
        "colab_type": "code",
        "colab": {}
      },
      "source": [
        "f = lambda x: x**3"
      ],
      "execution_count": 0,
      "outputs": []
    },
    {
      "cell_type": "markdown",
      "metadata": {
        "id": "HNWxPIw4GSdw",
        "colab_type": "text"
      },
      "source": [
        "are entirely equivalent.\n",
        "\n",
        "To see why `lambda` is useful, suppose that we want to calculate $ \\int_0^2 x^3 dx $ (and have forgotten our high-school calculus).\n",
        "\n",
        "The SciPy library has a function called `quad` that will do this calculation for us.\n",
        "\n",
        "The syntax of the `quad` function is `quad(f, a, b)` where `f` is a function and `a` and `b` are numbers.\n",
        "\n",
        "To create the function $ f(x) = x^3 $ we can use `lambda` as follows"
      ]
    },
    {
      "cell_type": "code",
      "metadata": {
        "hide-output": false,
        "id": "hBw-GBB4GSdw",
        "colab_type": "code",
        "colab": {}
      },
      "source": [
        "from scipy.integrate import quad\n",
        "\n",
        "quad(lambda x: x**3, 0, 2)"
      ],
      "execution_count": 0,
      "outputs": []
    },
    {
      "cell_type": "markdown",
      "metadata": {
        "id": "SNd9DtzuGSdz",
        "colab_type": "text"
      },
      "source": [
        "Here the function created by `lambda` is said to be *anonymous* because it was never given a name."
      ]
    },
    {
      "cell_type": "markdown",
      "metadata": {
        "id": "OE8CPCx-GSd0",
        "colab_type": "text"
      },
      "source": [
        "### Keyword Arguments\n",
        "\n",
        "\n",
        "<a id='index-14'></a>\n",
        "In a [previous lecture](https://python-programming.quantecon.org/python_by_example.html#python-by-example), you came across the statement"
      ]
    },
    {
      "cell_type": "markdown",
      "metadata": {
        "hide-output": false,
        "id": "OwSfPFeVGSd0",
        "colab_type": "text"
      },
      "source": [
        "```python3\n",
        "plt.plot(x, 'b-', label=\"white noise\")\n",
        "```\n"
      ]
    },
    {
      "cell_type": "markdown",
      "metadata": {
        "id": "yIjTPwYqGSd1",
        "colab_type": "text"
      },
      "source": [
        "In this call to Matplotlib’s `plot` function, notice that the last argument is passed in `name=argument` syntax.\n",
        "\n",
        "This is called a *keyword argument*, with `label` being the keyword.\n",
        "\n",
        "Non-keyword arguments are called *positional arguments*, since their meaning\n",
        "is determined by order\n",
        "\n",
        "- `plot(x, 'b-', label=\"white noise\")` is different from `plot('b-', x, label=\"white noise\")`  \n",
        "\n",
        "\n",
        "Keyword arguments are particularly useful when a function has a lot of arguments, in which case it’s hard to remember the right order.\n",
        "\n",
        "You can adopt keyword arguments in user-defined functions with no difficulty.\n",
        "\n",
        "The next example illustrates the syntax"
      ]
    },
    {
      "cell_type": "code",
      "metadata": {
        "hide-output": false,
        "id": "_arX1Tz_GSd1",
        "colab_type": "code",
        "colab": {}
      },
      "source": [
        "def f(x, a=1, b=1):\n",
        "    return a + b * x"
      ],
      "execution_count": 0,
      "outputs": []
    },
    {
      "cell_type": "markdown",
      "metadata": {
        "id": "E0quSPL3GSeB",
        "colab_type": "text"
      },
      "source": [
        "The keyword argument values we supplied in the definition of `f` become the default values"
      ]
    },
    {
      "cell_type": "code",
      "metadata": {
        "hide-output": false,
        "id": "A8BzA5qyGSeD",
        "colab_type": "code",
        "colab": {}
      },
      "source": [
        "f(2)"
      ],
      "execution_count": 0,
      "outputs": []
    },
    {
      "cell_type": "markdown",
      "metadata": {
        "id": "JbIHDjbgGSeG",
        "colab_type": "text"
      },
      "source": [
        "They can be modified as follows"
      ]
    },
    {
      "cell_type": "code",
      "metadata": {
        "hide-output": false,
        "id": "YLUwWrn1GSeI",
        "colab_type": "code",
        "colab": {}
      },
      "source": [
        "f(2, a=4, b=5)"
      ],
      "execution_count": 0,
      "outputs": []
    },
    {
      "cell_type": "markdown",
      "metadata": {
        "id": "3KtRVTV3GSeR",
        "colab_type": "text"
      },
      "source": [
        "## Coding Style and PEP8\n",
        "\n",
        "\n",
        "<a id='index-15'></a>\n",
        "To learn more about the Python programming philosophy type `import this` at the prompt.\n",
        "\n",
        "Among other things, Python strongly favors consistency in programming style.\n",
        "\n",
        "We’ve all heard the saying about consistency and little minds.\n",
        "\n",
        "In programming, as in mathematics, the opposite is true\n",
        "\n",
        "- A mathematical paper where the symbols $ \\cup $ and $ \\cap $ were\n",
        "  reversed would be very hard to read, even if the author told you so on the\n",
        "  first page.  \n",
        "\n",
        "\n",
        "In Python, the standard style is set out in [PEP8](https://www.python.org/dev/peps/pep-0008/).\n",
        "\n",
        "(Occasionally we’ll deviate from PEP8 in these lectures to better match mathematical notation)"
      ]
    },
    {
      "cell_type": "markdown",
      "metadata": {
        "id": "XmKfeAtFGSeS",
        "colab_type": "text"
      },
      "source": [
        "## Exercises\n",
        "\n",
        "Solve the following exercises.\n",
        "\n",
        "(For some, the built-in function `sum()` comes in handy).\n",
        "\n",
        "\n",
        "<a id='pyess-ex1'></a>"
      ]
    },
    {
      "cell_type": "markdown",
      "metadata": {
        "id": "V8UskHjbGSeS",
        "colab_type": "text"
      },
      "source": [
        "### Exercise 1\n",
        "\n",
        "Part 1: Given two numeric lists or tuples `x_vals` and `y_vals` of equal length, compute\n",
        "their inner product using `zip()`.\n",
        "\n",
        "Part 2: In one line, count the number of even numbers in 0,…,99.\n",
        "\n",
        "- Hint: `x % 2` returns 0 if `x` is even, 1 otherwise.  \n",
        "\n",
        "\n",
        "Part 3: Given `pairs = ((2, 5), (4, 2), (9, 8), (12, 10))`, count the number of pairs `(a, b)`\n",
        "such that both `a` and `b` are even.\n",
        "\n",
        "\n",
        "<a id='pyess-ex2'></a>"
      ]
    },
    {
      "cell_type": "markdown",
      "metadata": {
        "id": "-PyKmR5FLWOS",
        "colab_type": "text"
      },
      "source": [
        "#### Part 1"
      ]
    },
    {
      "cell_type": "code",
      "metadata": {
        "id": "AtjI2kctFIKm",
        "colab_type": "code",
        "colab": {
          "base_uri": "https://localhost:8080/",
          "height": 34
        },
        "outputId": "a1305299-11e6-42c8-aca8-4ad6a2ad4a4b"
      },
      "source": [
        "x_vals = [1,2]\n",
        "y_vals = [3,4]\n",
        "z=sum([i*j for i,j in zip(x_vals,y_vals)])\n",
        "\n",
        "print(z)"
      ],
      "execution_count": 8,
      "outputs": [
        {
          "output_type": "stream",
          "text": [
            "11\n"
          ],
          "name": "stdout"
        }
      ]
    },
    {
      "cell_type": "markdown",
      "metadata": {
        "id": "zjGplT-4MIDD",
        "colab_type": "text"
      },
      "source": [
        "#### Part 2"
      ]
    },
    {
      "cell_type": "code",
      "metadata": {
        "id": "XkbiElS4MNTS",
        "colab_type": "code",
        "colab": {
          "base_uri": "https://localhost:8080/",
          "height": 34
        },
        "outputId": "29becbdd-f956-42a4-c298-cf292b3dc776"
      },
      "source": [
        "sum([x%2==0 for x in range(100)])"
      ],
      "execution_count": 21,
      "outputs": [
        {
          "output_type": "execute_result",
          "data": {
            "text/plain": [
              "50"
            ]
          },
          "metadata": {
            "tags": []
          },
          "execution_count": 21
        }
      ]
    },
    {
      "cell_type": "markdown",
      "metadata": {
        "id": "1kk_kFfINZrK",
        "colab_type": "text"
      },
      "source": [
        "#### Part 3"
      ]
    },
    {
      "cell_type": "code",
      "metadata": {
        "id": "Ulfo1NQwNbFS",
        "colab_type": "code",
        "colab": {
          "base_uri": "https://localhost:8080/",
          "height": 34
        },
        "outputId": "467641a0-0fb0-444b-f0d2-f9a15eb0d22f"
      },
      "source": [
        "pairs = ((2, 5), (4, 2), (9, 8), (12, 10))\n",
        "sum([1 for x,y in pairs if x%2==0 and y%2==0])"
      ],
      "execution_count": 23,
      "outputs": [
        {
          "output_type": "execute_result",
          "data": {
            "text/plain": [
              "2"
            ]
          },
          "metadata": {
            "tags": []
          },
          "execution_count": 23
        }
      ]
    },
    {
      "cell_type": "markdown",
      "metadata": {
        "id": "byVDD93wGSeT",
        "colab_type": "text"
      },
      "source": [
        "### Exercise 2\n",
        "\n",
        "Consider the polynomial\n",
        "\n",
        "\n",
        "<a id='equation-polynom0'></a>\n",
        "$$\n",
        "p(x)\n",
        "= a_0 + a_1 x + a_2 x^2 + \\cdots a_n x^n\n",
        "= \\sum_{i=0}^n a_i x^i \\tag{1}\n",
        "$$\n",
        "\n",
        "Write a function `p` such that `p(x, coeff)` that computes the value in [(1)](#equation-polynom0) given a point `x` and a list of coefficients `coeff`.\n",
        "\n",
        "Try to use `enumerate()` in your loop.\n",
        "\n",
        "\n",
        "<a id='pyess-ex3'></a>"
      ]
    },
    {
      "cell_type": "code",
      "metadata": {
        "id": "MeHopx3KOOoI",
        "colab_type": "code",
        "colab": {
          "base_uri": "https://localhost:8080/",
          "height": 34
        },
        "outputId": "39b3eff9-5f5f-4a76-bf33-52cae8f0a417"
      },
      "source": [
        "def p(x,coeff):\n",
        "  x_values = [x**i for i in range(len(coeff))]\n",
        "  p = sum([a*j for a,j in zip(coeff,x_values)])\n",
        "  print(p)\n",
        "\n",
        "p(1, (2, 4))"
      ],
      "execution_count": 37,
      "outputs": [
        {
          "output_type": "stream",
          "text": [
            "6\n"
          ],
          "name": "stdout"
        }
      ]
    },
    {
      "cell_type": "code",
      "metadata": {
        "id": "aVbB4t1KPGpW",
        "colab_type": "code",
        "colab": {
          "base_uri": "https://localhost:8080/",
          "height": 34
        },
        "outputId": "41696515-a630-4e0b-f955-a69c45732eb8"
      },
      "source": [
        "def p(x,coeff):\n",
        "  print(sum(j*x**i for i,j in enumerate(coeff)))\n",
        "  \n",
        "p(1, (2, 4))"
      ],
      "execution_count": 33,
      "outputs": [
        {
          "output_type": "stream",
          "text": [
            "6\n"
          ],
          "name": "stdout"
        }
      ]
    },
    {
      "cell_type": "markdown",
      "metadata": {
        "id": "atsWADMZGSeT",
        "colab_type": "text"
      },
      "source": [
        "### Exercise 3\n",
        "\n",
        "Write a function that takes a string as an argument and returns the number of capital letters in the string.\n",
        "\n",
        "Hint: `'foo'.upper()` returns `'FOO'`.\n",
        "\n",
        "\n",
        "<a id='pyess-ex4'></a>"
      ]
    },
    {
      "cell_type": "code",
      "metadata": {
        "id": "hAqBMCd_QZen",
        "colab_type": "code",
        "colab": {
          "base_uri": "https://localhost:8080/",
          "height": 34
        },
        "outputId": "63b11a37-b389-452d-8e48-9d077a86337c"
      },
      "source": [
        "def f(s):\n",
        "\n",
        "  temp1 = set([i for i in s if i.isalpha()])\n",
        "  temp2 = set([i.upper() for i in s if i.isalpha()])\n",
        "  return len(temp1.intersection(temp2))\n",
        "\n",
        "f('The Rain in Spain  jkfhhs99192Q__++')"
      ],
      "execution_count": 67,
      "outputs": [
        {
          "output_type": "execute_result",
          "data": {
            "text/plain": [
              "4"
            ]
          },
          "metadata": {
            "tags": []
          },
          "execution_count": 67
        }
      ]
    },
    {
      "cell_type": "markdown",
      "metadata": {
        "id": "7IwDYqk3GSeT",
        "colab_type": "text"
      },
      "source": [
        "### Exercise 4\n",
        "\n",
        "Write a function that takes two sequences `seq_a` and `seq_b` as arguments and\n",
        "returns `True` if every element in `seq_a` is also an element of `seq_b`, else\n",
        "`False`.\n",
        "\n",
        "- By “sequence” we mean a list, a tuple or a string.  \n",
        "- Do the exercise without using [sets](https://docs.python.org/3/tutorial/datastructures.html#sets) and set methods.  \n",
        "\n",
        "\n",
        "\n",
        "<a id='pyess-ex5'></a>"
      ]
    },
    {
      "cell_type": "code",
      "metadata": {
        "id": "TXt9KfN3ZWc_",
        "colab_type": "code",
        "colab": {
          "base_uri": "https://localhost:8080/",
          "height": 51
        },
        "outputId": "ba93936e-913c-4ece-ef8d-b614403613f4"
      },
      "source": [
        "def f(seq_a,seq_b):\n",
        "  if set(seq_a).issubset(seq_b): return True\n",
        "  return False\n",
        "\n",
        "print(f([1, 2], [1, 2, 3]))\n",
        "print(f([1, 2, 3], [1, 2]))"
      ],
      "execution_count": 70,
      "outputs": [
        {
          "output_type": "stream",
          "text": [
            "True\n",
            "False\n"
          ],
          "name": "stdout"
        }
      ]
    },
    {
      "cell_type": "code",
      "metadata": {
        "id": "z8KmX0kTZr1V",
        "colab_type": "code",
        "colab": {
          "base_uri": "https://localhost:8080/",
          "height": 51
        },
        "outputId": "ef677787-17c5-4a90-9e7c-e856d8987465"
      },
      "source": [
        "def f(seq_a,seq_b):\n",
        "  \n",
        "  for i in seq_a:\n",
        "    if (i not in seq_b): return False\n",
        "\n",
        "  return True\n",
        "\n",
        "print(f([1, 2], [1, 2, 3]))\n",
        "print(f([1, 2, 3], [1, 2]))"
      ],
      "execution_count": 71,
      "outputs": [
        {
          "output_type": "stream",
          "text": [
            "True\n",
            "False\n"
          ],
          "name": "stdout"
        }
      ]
    },
    {
      "cell_type": "markdown",
      "metadata": {
        "id": "HbsJ9ChHGSeU",
        "colab_type": "text"
      },
      "source": [
        "### Exercise 5\n",
        "\n",
        "When we cover the numerical libraries, we will see they include many\n",
        "alternatives for interpolation and function approximation.\n",
        "\n",
        "Nevertheless, let’s write our own function approximation routine as an exercise.\n",
        "\n",
        "In particular, without using any imports, write a function `linapprox` that takes as arguments\n",
        "\n",
        "- A function `f` mapping some interval $ [a, b] $ into $ \\mathbb R $.  \n",
        "- Two scalars `a` and `b` providing the limits of this interval.  \n",
        "- An integer `n` determining the number of grid points.  \n",
        "- A number `x` satisfying `a <= x <= b`.  \n",
        "\n",
        "\n",
        "and returns the [piecewise linear interpolation](https://en.wikipedia.org/wiki/Linear_interpolation) of `f` at `x`, based on `n` evenly spaced grid points `a = point[0] < point[1] < ... < point[n-1] = b`.\n",
        "\n",
        "Aim for clarity, not efficiency."
      ]
    },
    {
      "cell_type": "code",
      "metadata": {
        "id": "EvutLwe0bHKD",
        "colab_type": "code",
        "colab": {}
      },
      "source": [
        "def linapprox(f,a,b,n,x):\n",
        "  d= (b-a)/(n-1)\n",
        "  #points = [a+i*d for i in range(n)] #could have used masking had it been a numpy array\n",
        "  point = a\n",
        "  if (x>b): return (\"x out of range\")\n",
        "\n",
        "  while (point <=x): point+=step\n",
        "\n",
        "  u,v = point-step, point\n",
        "\n",
        "  return (f(u) + (x-u)*(f(v) -f(u))/(v-u))"
      ],
      "execution_count": 0,
      "outputs": []
    },
    {
      "cell_type": "markdown",
      "metadata": {
        "id": "3JFnlkfUGSeU",
        "colab_type": "text"
      },
      "source": [
        "### Exercise 6\n",
        "\n",
        "Using list comprehension syntax, we can simplify the loop in the following\n",
        "code."
      ]
    },
    {
      "cell_type": "code",
      "metadata": {
        "hide-output": false,
        "id": "RvUlrAI_GSeV",
        "colab_type": "code",
        "colab": {}
      },
      "source": [
        "import numpy as np\n",
        "\n",
        "n = 100\n",
        "ϵ_values = []\n",
        "for i in range(n):\n",
        "    e = np.random.randn()\n",
        "    ϵ_values.append(e)"
      ],
      "execution_count": 0,
      "outputs": []
    },
    {
      "cell_type": "code",
      "metadata": {
        "id": "yaxtEt2XdTpj",
        "colab_type": "code",
        "colab": {}
      },
      "source": [
        "ϵ_values = [np.random.randn() for i in range(n)]"
      ],
      "execution_count": 0,
      "outputs": []
    },
    {
      "cell_type": "markdown",
      "metadata": {
        "id": "T5JhmEA4GSeZ",
        "colab_type": "text"
      },
      "source": [
        "## Solutions"
      ]
    },
    {
      "cell_type": "markdown",
      "metadata": {
        "id": "LpfPPZwbGSea",
        "colab_type": "text"
      },
      "source": [
        "### Exercise 1"
      ]
    },
    {
      "cell_type": "markdown",
      "metadata": {
        "id": "H-_9K0rgGSec",
        "colab_type": "text"
      },
      "source": [
        "#### Part 1 Solution:\n",
        "\n",
        "Here’s one possible solution"
      ]
    },
    {
      "cell_type": "code",
      "metadata": {
        "hide-output": false,
        "id": "6exXDda-GSec",
        "colab_type": "code",
        "colab": {}
      },
      "source": [
        "x_vals = [1, 2, 3]\n",
        "y_vals = [1, 1, 1]\n",
        "sum([x * y for x, y in zip(x_vals, y_vals)])"
      ],
      "execution_count": 0,
      "outputs": []
    },
    {
      "cell_type": "markdown",
      "metadata": {
        "id": "GvZazb1-GSeh",
        "colab_type": "text"
      },
      "source": [
        "This also works"
      ]
    },
    {
      "cell_type": "code",
      "metadata": {
        "hide-output": false,
        "id": "Nb-wpqd2GSei",
        "colab_type": "code",
        "colab": {}
      },
      "source": [
        "sum(x * y for x, y in zip(x_vals, y_vals))"
      ],
      "execution_count": 0,
      "outputs": []
    },
    {
      "cell_type": "markdown",
      "metadata": {
        "id": "s2P4gaDOGSek",
        "colab_type": "text"
      },
      "source": [
        "#### Part 2 Solution:\n",
        "\n",
        "One solution is"
      ]
    },
    {
      "cell_type": "code",
      "metadata": {
        "hide-output": false,
        "id": "mdM-uEGVGSel",
        "colab_type": "code",
        "colab": {
          "base_uri": "https://localhost:8080/",
          "height": 34
        },
        "outputId": "1aca17e1-67c7-4808-e53e-f6d490926f93"
      },
      "source": [
        "sum([x % 2 == 0 for x in range(100)])"
      ],
      "execution_count": 16,
      "outputs": [
        {
          "output_type": "execute_result",
          "data": {
            "text/plain": [
              "50"
            ]
          },
          "metadata": {
            "tags": []
          },
          "execution_count": 16
        }
      ]
    },
    {
      "cell_type": "markdown",
      "metadata": {
        "id": "OWK8B9NNGSes",
        "colab_type": "text"
      },
      "source": [
        "This also works:"
      ]
    },
    {
      "cell_type": "code",
      "metadata": {
        "hide-output": false,
        "id": "wJ_VAyoSGSe0",
        "colab_type": "code",
        "colab": {}
      },
      "source": [
        "sum(x % 2 == 0 for x in range(100))"
      ],
      "execution_count": 0,
      "outputs": []
    },
    {
      "cell_type": "markdown",
      "metadata": {
        "id": "HMOE-9t_GSe4",
        "colab_type": "text"
      },
      "source": [
        "Some less natural alternatives that nonetheless help to illustrate the\n",
        "flexibility of list comprehensions are"
      ]
    },
    {
      "cell_type": "code",
      "metadata": {
        "hide-output": false,
        "id": "pbKuaeanGSe4",
        "colab_type": "code",
        "colab": {}
      },
      "source": [
        "len([x for x in range(100) if x % 2 == 0])"
      ],
      "execution_count": 0,
      "outputs": []
    },
    {
      "cell_type": "markdown",
      "metadata": {
        "id": "MuKi9oTLGSe-",
        "colab_type": "text"
      },
      "source": [
        "and"
      ]
    },
    {
      "cell_type": "code",
      "metadata": {
        "hide-output": false,
        "id": "KVe_FSlmGSe-",
        "colab_type": "code",
        "colab": {}
      },
      "source": [
        "sum([1 for x in range(100) if x % 2 == 0])"
      ],
      "execution_count": 0,
      "outputs": []
    },
    {
      "cell_type": "markdown",
      "metadata": {
        "id": "iTJ_ILs0GSfD",
        "colab_type": "text"
      },
      "source": [
        "#### Part 3 Solution\n",
        "\n",
        "Here’s one possibility"
      ]
    },
    {
      "cell_type": "code",
      "metadata": {
        "hide-output": false,
        "id": "nj1rwsv1GSfF",
        "colab_type": "code",
        "colab": {}
      },
      "source": [
        "pairs = ((2, 5), (4, 2), (9, 8), (12, 10))\n",
        "sum([x % 2 == 0 and y % 2 == 0 for x, y in pairs])"
      ],
      "execution_count": 0,
      "outputs": []
    },
    {
      "cell_type": "markdown",
      "metadata": {
        "id": "pgNItGPnGSfK",
        "colab_type": "text"
      },
      "source": [
        "### Exercise 2"
      ]
    },
    {
      "cell_type": "code",
      "metadata": {
        "hide-output": false,
        "id": "EfK56RhmGSfK",
        "colab_type": "code",
        "colab": {}
      },
      "source": [
        "def p(x, coeff):\n",
        "    return sum(a * x**i for i, a in enumerate(coeff))"
      ],
      "execution_count": 0,
      "outputs": []
    },
    {
      "cell_type": "code",
      "metadata": {
        "hide-output": false,
        "id": "UprrT1ZIGSfT",
        "colab_type": "code",
        "colab": {
          "base_uri": "https://localhost:8080/",
          "height": 34
        },
        "outputId": "6408ee56-a455-43f5-cd17-c53715c2f29c"
      },
      "source": [
        "p(1, (2, 4))"
      ],
      "execution_count": 27,
      "outputs": [
        {
          "output_type": "execute_result",
          "data": {
            "text/plain": [
              "6"
            ]
          },
          "metadata": {
            "tags": []
          },
          "execution_count": 27
        }
      ]
    },
    {
      "cell_type": "markdown",
      "metadata": {
        "id": "eY1lQkmiGSfV",
        "colab_type": "text"
      },
      "source": [
        "### Exercise 3\n",
        "\n",
        "Here’s one solution:"
      ]
    },
    {
      "cell_type": "code",
      "metadata": {
        "hide-output": false,
        "id": "0Y2ClAl2GSfW",
        "colab_type": "code",
        "colab": {
          "base_uri": "https://localhost:8080/",
          "height": 34
        },
        "outputId": "1c25764a-9924-41b2-973b-ba32a739ea0a"
      },
      "source": [
        "def f(string):\n",
        "    count = 0\n",
        "    for letter in string:\n",
        "        if letter == letter.upper() and letter.isalpha():\n",
        "            count += 1\n",
        "    return count\n",
        "\n",
        "f('The Rain in Spain')"
      ],
      "execution_count": 47,
      "outputs": [
        {
          "output_type": "execute_result",
          "data": {
            "text/plain": [
              "3"
            ]
          },
          "metadata": {
            "tags": []
          },
          "execution_count": 47
        }
      ]
    },
    {
      "cell_type": "markdown",
      "metadata": {
        "id": "RBEyDhdtGSfZ",
        "colab_type": "text"
      },
      "source": [
        "An alternative, more pythonic solution:"
      ]
    },
    {
      "cell_type": "code",
      "metadata": {
        "hide-output": false,
        "id": "W01alKBXGSfZ",
        "colab_type": "code",
        "colab": {
          "base_uri": "https://localhost:8080/",
          "height": 34
        },
        "outputId": "d78a07de-e137-4ecb-f5f3-e60e1f02b4a2"
      },
      "source": [
        "def count_uppercase_chars(s):\n",
        "    return sum([c.isupper() for c in s])\n",
        "\n",
        "count_uppercase_chars('The Rain in Spain')"
      ],
      "execution_count": 48,
      "outputs": [
        {
          "output_type": "execute_result",
          "data": {
            "text/plain": [
              "3"
            ]
          },
          "metadata": {
            "tags": []
          },
          "execution_count": 48
        }
      ]
    },
    {
      "cell_type": "markdown",
      "metadata": {
        "id": "VFOVGn0fGSfd",
        "colab_type": "text"
      },
      "source": [
        "### Exercise 4\n",
        "\n",
        "Here’s a solution:"
      ]
    },
    {
      "cell_type": "code",
      "metadata": {
        "hide-output": false,
        "id": "E53fMi_PGSfd",
        "colab_type": "code",
        "colab": {}
      },
      "source": [
        "def f(seq_a, seq_b):\n",
        "    is_subset = True\n",
        "    for a in seq_a:\n",
        "        if a not in seq_b:\n",
        "            is_subset = False\n",
        "    return is_subset\n",
        "\n",
        "# == test == #\n",
        "\n",
        "print(f([1, 2], [1, 2, 3]))\n",
        "print(f([1, 2, 3], [1, 2]))"
      ],
      "execution_count": 0,
      "outputs": []
    },
    {
      "cell_type": "markdown",
      "metadata": {
        "id": "5lTu3ZqKGSfi",
        "colab_type": "text"
      },
      "source": [
        "Of course, if we use the `sets` data type then the solution is easier"
      ]
    },
    {
      "cell_type": "code",
      "metadata": {
        "hide-output": false,
        "id": "Fcow4NmVGSfi",
        "colab_type": "code",
        "colab": {}
      },
      "source": [
        "def f(seq_a, seq_b):\n",
        "    return set(seq_a).issubset(set(seq_b))"
      ],
      "execution_count": 0,
      "outputs": []
    },
    {
      "cell_type": "markdown",
      "metadata": {
        "id": "ecaooePuGSfm",
        "colab_type": "text"
      },
      "source": [
        "### Exercise 5"
      ]
    },
    {
      "cell_type": "code",
      "metadata": {
        "hide-output": false,
        "id": "3lZzY3onGSfm",
        "colab_type": "code",
        "colab": {}
      },
      "source": [
        "def linapprox(f, a, b, n, x):\n",
        "    \"\"\"\n",
        "    Evaluates the piecewise linear interpolant of f at x on the interval\n",
        "    [a, b], with n evenly spaced grid points.\n",
        "\n",
        "    Parameters\n",
        "    ==========\n",
        "        f : function\n",
        "            The function to approximate\n",
        "\n",
        "        x, a, b : scalars (floats or integers)\n",
        "            Evaluation point and endpoints, with a <= x <= b\n",
        "\n",
        "        n : integer\n",
        "            Number of grid points\n",
        "\n",
        "    Returns\n",
        "    =======\n",
        "        A float. The interpolant evaluated at x\n",
        "\n",
        "    \"\"\"\n",
        "    length_of_interval = b - a\n",
        "    num_subintervals = n - 1\n",
        "    step = length_of_interval / num_subintervals\n",
        "\n",
        "    # === find first grid point larger than x === #\n",
        "    point = a\n",
        "    while point <= x:\n",
        "        point += step\n",
        "\n",
        "    # === x must lie between the gridpoints (point - step) and point === #\n",
        "    u, v = point - step, point\n",
        "\n",
        "    return f(u) + (x - u) * (f(v) - f(u)) / (v - u)"
      ],
      "execution_count": 0,
      "outputs": []
    },
    {
      "cell_type": "markdown",
      "metadata": {
        "id": "7QArd6moGSfp",
        "colab_type": "text"
      },
      "source": [
        "### Exercise 6\n",
        "\n",
        "Here’s one solution."
      ]
    },
    {
      "cell_type": "code",
      "metadata": {
        "hide-output": false,
        "id": "Ll_w_n7hGSfp",
        "colab_type": "code",
        "colab": {}
      },
      "source": [
        "n = 100\n",
        "ϵ_values = [np.random.randn() for i in range(n)]"
      ],
      "execution_count": 0,
      "outputs": []
    }
  ]
}