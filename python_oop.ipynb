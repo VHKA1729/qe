{
  "nbformat": 4,
  "nbformat_minor": 0,
  "metadata": {
    "date": 1585541041.0381906,
    "filename": "python_oop.rst",
    "kernelspec": {
      "display_name": "Python",
      "language": "python3",
      "name": "python3"
    },
    "title": "OOP II: Building Classes",
    "colab": {
      "name": "python_oop.ipynb",
      "provenance": []
    }
  },
  "cells": [
    {
      "cell_type": "markdown",
      "metadata": {
        "id": "HkOqyMLAlbXS",
        "colab_type": "text"
      },
      "source": [
        "\n",
        "<a id='python-oop'></a>\n",
        "<div id=\"qe-notebook-header\" align=\"right\" style=\"text-align:right;\">\n",
        "        <a href=\"https://quantecon.org/\" title=\"quantecon.org\">\n",
        "                <img style=\"width:250px;display:inline;\" width=\"250px\" src=\"https://assets.quantecon.org/img/qe-menubar-logo.svg\" alt=\"QuantEcon\">\n",
        "        </a>\n",
        "</div>"
      ]
    },
    {
      "cell_type": "markdown",
      "metadata": {
        "id": "mSFjWoudlbXU",
        "colab_type": "text"
      },
      "source": [
        "# OOP II: Building Classes\n",
        "\n",
        "\n",
        "<a id='index-1'></a>"
      ]
    },
    {
      "cell_type": "markdown",
      "metadata": {
        "id": "hthUs-OLlbXV",
        "colab_type": "text"
      },
      "source": [
        "## Contents\n",
        "\n",
        "- [OOP II: Building Classes](#OOP-II:-Building-Classes)  \n",
        "  - [Overview](#Overview)  \n",
        "  - [OOP Review](#OOP-Review)  \n",
        "  - [Defining Your Own Classes](#Defining-Your-Own-Classes)  \n",
        "  - [Special Methods](#Special-Methods)  \n",
        "  - [Exercises](#Exercises)  \n",
        "  - [Solutions](#Solutions)  "
      ]
    },
    {
      "cell_type": "markdown",
      "metadata": {
        "id": "-WJmCpKNlbXW",
        "colab_type": "text"
      },
      "source": [
        "## Overview\n",
        "\n",
        "In an [earlier lecture](https://python-programming.quantecon.org/oop_intro.html), we learned some foundations of object-oriented programming.\n",
        "\n",
        "The objectives of this lecture are\n",
        "\n",
        "- cover OOP in more depth  \n",
        "- learn how to build our own objects, specialized to our needs  \n",
        "\n",
        "\n",
        "For example, you already know how to\n",
        "\n",
        "- create lists, strings and other Python objects  \n",
        "- use their methods to modify their contents  \n",
        "\n",
        "\n",
        "So imagine now you want to write a program with consumers, who can\n",
        "\n",
        "- hold and spend cash  \n",
        "- consume goods  \n",
        "- work and earn cash  \n",
        "\n",
        "\n",
        "A natural solution in Python would be to create consumers as objects with\n",
        "\n",
        "- data, such as cash on hand  \n",
        "- methods, such as `buy` or `work` that affect this data  \n",
        "\n",
        "\n",
        "Python makes it easy to do this, by providing you with **class definitions**.\n",
        "\n",
        "Classes are blueprints that help you build objects according to your own specifications.\n",
        "\n",
        "It takes a little while to get used to the syntax so we’ll provide plenty of examples.\n",
        "\n",
        "We’ll use the following imports:"
      ]
    },
    {
      "cell_type": "code",
      "metadata": {
        "hide-output": false,
        "id": "ytDiQG6HlbXX",
        "colab_type": "code",
        "colab": {}
      },
      "source": [
        "import numpy as np\n",
        "import matplotlib.pyplot as plt\n",
        "%matplotlib inline"
      ],
      "execution_count": 0,
      "outputs": []
    },
    {
      "cell_type": "markdown",
      "metadata": {
        "id": "9Br7ecHUlbXe",
        "colab_type": "text"
      },
      "source": [
        "## OOP Review\n",
        "\n",
        "OOP is supported in many languages:\n",
        "\n",
        "- JAVA and Ruby are relatively pure OOP.  \n",
        "- Python supports both procedural and object-oriented programming.  \n",
        "- Fortran and MATLAB are mainly procedural, some OOP recently tacked on.  \n",
        "- C is a procedural language, while C++ is C with OOP added on top.  \n",
        "\n",
        "\n",
        "Let’s cover general OOP concepts before we specialize to Python."
      ]
    },
    {
      "cell_type": "markdown",
      "metadata": {
        "id": "YInoxlajlbXg",
        "colab_type": "text"
      },
      "source": [
        "### Key Concepts\n",
        "\n",
        "\n",
        "<a id='index-2'></a>\n",
        "As discussed an [earlier lecture](https://python-programming.quantecon.org/oop_intro.html), in the OOP paradigm, data and functions are **bundled together** into “objects”.\n",
        "\n",
        "An example is a Python list, which not only stores data but also knows how to sort itself, etc."
      ]
    },
    {
      "cell_type": "code",
      "metadata": {
        "hide-output": false,
        "id": "-Xs99nf3lbXh",
        "colab_type": "code",
        "colab": {
          "base_uri": "https://localhost:8080/",
          "height": 34
        },
        "outputId": "ec61ac47-2348-4153-e4ca-00894176750d"
      },
      "source": [
        "x = [1, 5, 4]\n",
        "x.sort()\n",
        "x"
      ],
      "execution_count": 2,
      "outputs": [
        {
          "output_type": "execute_result",
          "data": {
            "text/plain": [
              "[1, 4, 5]"
            ]
          },
          "metadata": {
            "tags": []
          },
          "execution_count": 2
        }
      ]
    },
    {
      "cell_type": "markdown",
      "metadata": {
        "id": "MrGY00rvlbXl",
        "colab_type": "text"
      },
      "source": [
        "As we now know, `sort` is a function that is “part of” the list object — and hence called a *method*.\n",
        "\n",
        "If we want to make our own types of objects we need to use class definitions.\n",
        "\n",
        "A *class definition* is a blueprint for a particular class of objects (e.g., lists, strings or complex numbers).\n",
        "\n",
        "It describes\n",
        "\n",
        "- What kind of data the class stores  \n",
        "- What methods it has for acting on these data  \n",
        "\n",
        "\n",
        "An  *object* or *instance* is a realization of the class, created from the blueprint\n",
        "\n",
        "- Each instance has its own unique data.  \n",
        "- Methods set out in the class definition act on this (and other) data.  \n",
        "\n",
        "\n",
        "In Python, the data and methods of an object are collectively referred to as *attributes*.\n",
        "\n",
        "Attributes are accessed via “dotted attribute notation”\n",
        "\n",
        "- `object_name.data`  \n",
        "- `object_name.method_name()`  \n",
        "\n",
        "\n",
        "In the example"
      ]
    },
    {
      "cell_type": "code",
      "metadata": {
        "hide-output": false,
        "id": "WNskbwEvlbXn",
        "colab_type": "code",
        "colab": {
          "base_uri": "https://localhost:8080/",
          "height": 34
        },
        "outputId": "bb1b4325-128c-44bb-fce2-176bf16f91d5"
      },
      "source": [
        "x = [1, 5, 4]\n",
        "x.sort()\n",
        "x.__class__"
      ],
      "execution_count": 3,
      "outputs": [
        {
          "output_type": "execute_result",
          "data": {
            "text/plain": [
              "list"
            ]
          },
          "metadata": {
            "tags": []
          },
          "execution_count": 3
        }
      ]
    },
    {
      "cell_type": "markdown",
      "metadata": {
        "id": "CEyhVjNblbXq",
        "colab_type": "text"
      },
      "source": [
        "- `x` is an object or instance, created from the definition for Python lists, but with its own particular data.  \n",
        "- `x.sort()` and `x.__class__` are two attributes of `x`.  \n",
        "- `dir(x)` can be used to view all the attributes of `x`.  \n",
        "\n",
        "\n",
        "\n",
        "<a id='why-oop'></a>"
      ]
    },
    {
      "cell_type": "markdown",
      "metadata": {
        "id": "VFdhY5ChlbXr",
        "colab_type": "text"
      },
      "source": [
        "### Why is OOP Useful?\n",
        "\n",
        "OOP is useful for the same reason that abstraction is useful: for recognizing and exploiting the common structure.\n",
        "\n",
        "For example,\n",
        "\n",
        "- *a Markov chain* consists of a set of states and a collection of transition probabilities for moving across states  \n",
        "- *a general equilibrium theory* consists of a commodity space, preferences, technologies, and an equilibrium definition  \n",
        "- *a game* consists of a list of players, lists of actions available to each player, player payoffs as functions of all players’ actions, and a timing protocol  \n",
        "\n",
        "\n",
        "These are all abstractions that collect together “objects” of the same “type”.\n",
        "\n",
        "Recognizing common structure allows us to employ common tools.\n",
        "\n",
        "In economic theory, this might be a proposition that applies to all games of a certain type.\n",
        "\n",
        "In Python, this might be a method that’s useful for all Markov chains (e.g., `simulate`).\n",
        "\n",
        "When we use OOP, the `simulate` method is conveniently bundled together with the Markov chain object."
      ]
    },
    {
      "cell_type": "markdown",
      "metadata": {
        "id": "n3OOXwddlbXr",
        "colab_type": "text"
      },
      "source": [
        "## Defining Your Own Classes\n",
        "\n",
        "\n",
        "<a id='index-3'></a>\n",
        "Let’s build some simple classes to start off.\n",
        "\n",
        "\n",
        "<a id='oop-consumer-class'></a>"
      ]
    },
    {
      "cell_type": "markdown",
      "metadata": {
        "id": "OtBE06L6lbXt",
        "colab_type": "text"
      },
      "source": [
        "### Example: A Consumer Class\n",
        "\n",
        "First, we’ll build a `Consumer` class with\n",
        "\n",
        "- a `wealth` attribute that stores the consumer’s wealth (data)  \n",
        "- an `earn` method, where `earn(y)` increments the consumer’s wealth by `y`  \n",
        "- a `spend` method, where `spend(x)` either decreases wealth by `x` or returns an error if insufficient funds exist  \n",
        "\n",
        "\n",
        "Admittedly a little contrived, this example of a class helps us internalize some new syntax.\n",
        "\n",
        "Here’s one implementation"
      ]
    },
    {
      "cell_type": "code",
      "metadata": {
        "hide-output": false,
        "id": "6gwu8PnklbXt",
        "colab_type": "code",
        "colab": {}
      },
      "source": [
        "class Consumer:\n",
        "\n",
        "    def __init__(self, w):\n",
        "        \"Initialize consumer with w dollars of wealth\"\n",
        "        self.wealth = w\n",
        "\n",
        "    def earn(self, y):\n",
        "        \"The consumer earns y dollars\"\n",
        "        self.wealth += y\n",
        "\n",
        "    def spend(self, x):\n",
        "        \"The consumer spends x dollars if feasible\"\n",
        "        new_wealth = self.wealth - x\n",
        "        if new_wealth < 0:\n",
        "            print(\"Insufficent funds\")\n",
        "        else:\n",
        "            self.wealth = new_wealth"
      ],
      "execution_count": 0,
      "outputs": []
    },
    {
      "cell_type": "markdown",
      "metadata": {
        "id": "r8mduR49lbX1",
        "colab_type": "text"
      },
      "source": [
        "There’s some special syntax here so let’s step through carefully\n",
        "\n",
        "- The `class` keyword indicates that we are building a class.  \n",
        "\n",
        "\n",
        "This class defines instance data `wealth` and three methods: `__init__`, `earn` and `spend`\n",
        "\n",
        "- `wealth` is *instance data* because each consumer we create (each instance of the `Consumer` class) will have its own separate wealth data.  \n",
        "\n",
        "\n",
        "The ideas behind the `earn` and `spend` methods were discussed above.\n",
        "\n",
        "Both of these act on the instance data `wealth`.\n",
        "\n",
        "The `__init__` method is a *constructor method*.\n",
        "\n",
        "Whenever we create an instance of the class, this method will be called automatically.\n",
        "\n",
        "Calling `__init__` sets up a “namespace” to hold the instance data — more on this soon.\n",
        "\n",
        "We’ll also discuss the role of `self` just below."
      ]
    },
    {
      "cell_type": "markdown",
      "metadata": {
        "id": "RtafMdmslbX3",
        "colab_type": "text"
      },
      "source": [
        "#### Usage\n",
        "\n",
        "Here’s an example of usage"
      ]
    },
    {
      "cell_type": "code",
      "metadata": {
        "hide-output": false,
        "id": "q9UeRQmOlbX3",
        "colab_type": "code",
        "colab": {
          "base_uri": "https://localhost:8080/",
          "height": 34
        },
        "outputId": "c2fa3a70-9b10-49d3-e9da-221d3d7829cf"
      },
      "source": [
        "c1 = Consumer(10)  # Create instance with initial wealth 10\n",
        "c1.spend(5)\n",
        "c1.wealth"
      ],
      "execution_count": 8,
      "outputs": [
        {
          "output_type": "execute_result",
          "data": {
            "text/plain": [
              "5"
            ]
          },
          "metadata": {
            "tags": []
          },
          "execution_count": 8
        }
      ]
    },
    {
      "cell_type": "code",
      "metadata": {
        "hide-output": false,
        "id": "-pVTwlcPlbX8",
        "colab_type": "code",
        "colab": {
          "base_uri": "https://localhost:8080/",
          "height": 34
        },
        "outputId": "4b36e6a4-1141-47d8-cf55-29504a49c7cf"
      },
      "source": [
        "c1.earn(15)\n",
        "c1.spend(100)"
      ],
      "execution_count": 9,
      "outputs": [
        {
          "output_type": "stream",
          "text": [
            "Insufficent funds\n"
          ],
          "name": "stdout"
        }
      ]
    },
    {
      "cell_type": "markdown",
      "metadata": {
        "id": "y9amarMnlbYE",
        "colab_type": "text"
      },
      "source": [
        "We can of course create multiple instances each with its own data"
      ]
    },
    {
      "cell_type": "code",
      "metadata": {
        "hide-output": false,
        "id": "pv2ZCZEplbYF",
        "colab_type": "code",
        "colab": {
          "base_uri": "https://localhost:8080/",
          "height": 34
        },
        "outputId": "d14ae542-4f3e-47b6-cb24-9d143606c53c"
      },
      "source": [
        "c1 = Consumer(10)\n",
        "c2 = Consumer(12)\n",
        "c2.spend(4)\n",
        "c2.wealth"
      ],
      "execution_count": 10,
      "outputs": [
        {
          "output_type": "execute_result",
          "data": {
            "text/plain": [
              "8"
            ]
          },
          "metadata": {
            "tags": []
          },
          "execution_count": 10
        }
      ]
    },
    {
      "cell_type": "code",
      "metadata": {
        "hide-output": false,
        "id": "u8sOK_rGlbYL",
        "colab_type": "code",
        "colab": {
          "base_uri": "https://localhost:8080/",
          "height": 34
        },
        "outputId": "9471ebd1-93b8-465a-dd17-0a1c5a247d86"
      },
      "source": [
        "c1.wealth"
      ],
      "execution_count": 11,
      "outputs": [
        {
          "output_type": "execute_result",
          "data": {
            "text/plain": [
              "10"
            ]
          },
          "metadata": {
            "tags": []
          },
          "execution_count": 11
        }
      ]
    },
    {
      "cell_type": "markdown",
      "metadata": {
        "id": "r0ulAc1MlbYT",
        "colab_type": "text"
      },
      "source": [
        "In fact, each instance stores its data in a separate namespace dictionary"
      ]
    },
    {
      "cell_type": "code",
      "metadata": {
        "hide-output": false,
        "id": "BO1GWkrxlbYW",
        "colab_type": "code",
        "colab": {
          "base_uri": "https://localhost:8080/",
          "height": 34
        },
        "outputId": "f1faad65-5088-4e12-dd50-c587f946f12e"
      },
      "source": [
        "c1.__dict__"
      ],
      "execution_count": 12,
      "outputs": [
        {
          "output_type": "execute_result",
          "data": {
            "text/plain": [
              "{'wealth': 10}"
            ]
          },
          "metadata": {
            "tags": []
          },
          "execution_count": 12
        }
      ]
    },
    {
      "cell_type": "code",
      "metadata": {
        "hide-output": false,
        "id": "NMmxwpPglbYd",
        "colab_type": "code",
        "colab": {
          "base_uri": "https://localhost:8080/",
          "height": 34
        },
        "outputId": "b81c60b4-9075-4c01-bb62-e5533d0f620f"
      },
      "source": [
        "c2.__dict__"
      ],
      "execution_count": 13,
      "outputs": [
        {
          "output_type": "execute_result",
          "data": {
            "text/plain": [
              "{'wealth': 8}"
            ]
          },
          "metadata": {
            "tags": []
          },
          "execution_count": 13
        }
      ]
    },
    {
      "cell_type": "markdown",
      "metadata": {
        "id": "Dvf9uQ4LlbYk",
        "colab_type": "text"
      },
      "source": [
        "When we access or set attributes we’re actually just modifying the dictionary\n",
        "maintained by the instance."
      ]
    },
    {
      "cell_type": "markdown",
      "metadata": {
        "id": "RJl8t8rQlbYl",
        "colab_type": "text"
      },
      "source": [
        "#### Self\n",
        "\n",
        "If you look at the `Consumer` class definition again you’ll see the word\n",
        "`self` throughout the code.\n",
        "\n",
        "The rules with `self` are that\n",
        "\n",
        "- Any instance data should be prepended with `self`  \n",
        "  \n",
        "  - e.g., the `earn` method references `self.wealth` rather than just `wealth`  \n",
        "  \n",
        "- Any method defined within the class should have `self` as its first argument  \n",
        "  \n",
        "  - e.g., `def earn(self, y)` rather than just `def earn(y)`  \n",
        "  \n",
        "- Any method referenced within the class should be called as  `self.method_name`  \n",
        "\n",
        "\n",
        "There are no examples of the last rule in the preceding code but we will see some shortly."
      ]
    },
    {
      "cell_type": "markdown",
      "metadata": {
        "id": "el08bKmxlbYm",
        "colab_type": "text"
      },
      "source": [
        "#### Details\n",
        "\n",
        "In this section, we look at some more formal details related to classes and `self`\n",
        "\n",
        "- You might wish to skip to [the next section](#oop-solow-growth) on first pass of this lecture.  \n",
        "- You can return to these details after you’ve familiarized yourself with more examples.  \n",
        "\n",
        "\n",
        "Methods actually live inside a **class object** formed when the interpreter reads\n",
        "the class definition"
      ]
    },
    {
      "cell_type": "code",
      "metadata": {
        "hide-output": false,
        "id": "u0IOv03BlbYn",
        "colab_type": "code",
        "colab": {
          "base_uri": "https://localhost:8080/",
          "height": 54
        },
        "outputId": "4af1227b-51cc-4f19-9057-6774ea066e87"
      },
      "source": [
        "print(Consumer.__dict__)  # Show __dict__ attribute of class object"
      ],
      "execution_count": 14,
      "outputs": [
        {
          "output_type": "stream",
          "text": [
            "{'__module__': '__main__', '__init__': <function Consumer.__init__ at 0x7f45ec169c80>, 'earn': <function Consumer.earn at 0x7f45ec169bf8>, 'spend': <function Consumer.spend at 0x7f45ec169d08>, '__dict__': <attribute '__dict__' of 'Consumer' objects>, '__weakref__': <attribute '__weakref__' of 'Consumer' objects>, '__doc__': None}\n"
          ],
          "name": "stdout"
        }
      ]
    },
    {
      "cell_type": "markdown",
      "metadata": {
        "id": "G5HvrlHnlbYr",
        "colab_type": "text"
      },
      "source": [
        "Note how the three methods `__init__`, `earn` and `spend` are stored in the class object.\n",
        "\n",
        "Consider the following code"
      ]
    },
    {
      "cell_type": "code",
      "metadata": {
        "hide-output": false,
        "id": "6a5pGxR6lbYr",
        "colab_type": "code",
        "colab": {}
      },
      "source": [
        "c1 = Consumer(10)\n",
        "c1.earn(10)\n",
        "c1.wealth"
      ],
      "execution_count": 0,
      "outputs": []
    },
    {
      "cell_type": "markdown",
      "metadata": {
        "id": "sb-4Aou2lbYu",
        "colab_type": "text"
      },
      "source": [
        "When you call `earn` via `c1.earn(10)` the interpreter passes the instance `c1` and the argument `10` to `Consumer.earn`.\n",
        "\n",
        "In fact, the following are equivalent\n",
        "\n",
        "- `c1.earn(10)`  \n",
        "- `Consumer.earn(c1, 10)`  \n",
        "\n",
        "\n",
        "In the function call `Consumer.earn(c1, 10)` note that `c1` is the first argument.\n",
        "\n",
        "Recall that in the definition of the `earn` method, `self` is the first parameter"
      ]
    },
    {
      "cell_type": "code",
      "metadata": {
        "hide-output": false,
        "id": "bm-pcwJ6lbYu",
        "colab_type": "code",
        "colab": {}
      },
      "source": [
        "def earn(self, y):\n",
        "     \"The consumer earns y dollars\"\n",
        "     self.wealth += y"
      ],
      "execution_count": 0,
      "outputs": []
    },
    {
      "cell_type": "markdown",
      "metadata": {
        "id": "508709lalbYy",
        "colab_type": "text"
      },
      "source": [
        "The end result is that `self` is bound to the instance `c1` inside the function call.\n",
        "\n",
        "That’s why the statement `self.wealth += y` inside `earn` ends up modifying `c1.wealth`.\n",
        "\n",
        "\n",
        "<a id='oop-solow-growth'></a>"
      ]
    },
    {
      "cell_type": "markdown",
      "metadata": {
        "id": "uKbvSfrxlbY0",
        "colab_type": "text"
      },
      "source": [
        "### Example: The Solow Growth Model\n",
        "\n",
        "\n",
        "<a id='index-4'></a>\n",
        "For our next example, let’s write a simple class to implement the Solow growth model.\n",
        "\n",
        "The Solow growth model is a neoclassical growth model where the amount of\n",
        "capital stock per capita $ k_t $ evolves according to the rule\n",
        "\n",
        "\n",
        "<a id='equation-solow-lom'></a>\n",
        "$$\n",
        "k_{t+1} = \\frac{s z k_t^{\\alpha} + (1 - \\delta) k_t}{1 + n} \\tag{1}\n",
        "$$\n",
        "\n",
        "Here\n",
        "\n",
        "- $ s $ is an exogenously given savings rate  \n",
        "- $ z $ is a productivity parameter  \n",
        "- $ \\alpha $ is capital’s share of income  \n",
        "- $ n $ is the population growth rate  \n",
        "- $ \\delta $ is the depreciation rate  \n",
        "\n",
        "\n",
        "The **steady state** of the model is the $ k $ that solves [(1)](#equation-solow-lom) when $ k_{t+1} = k_t = k $.\n",
        "\n",
        "Here’s a class that implements this model.\n",
        "\n",
        "Some points of interest in the code are\n",
        "\n",
        "- An instance maintains a record of its current capital stock in the variable `self.k`.  \n",
        "- The `h` method implements the right-hand side of [(1)](#equation-solow-lom).  \n",
        "- The `update` method uses `h` to update capital as per [(1)](#equation-solow-lom).  \n",
        "  \n",
        "  - Notice how inside `update` the reference to the local method `h` is `self.h`.  \n",
        "  \n",
        "\n",
        "\n",
        "The methods `steady_state` and `generate_sequence` are fairly self-explanatory"
      ]
    },
    {
      "cell_type": "code",
      "metadata": {
        "hide-output": false,
        "id": "IknBlpAYlbY0",
        "colab_type": "code",
        "colab": {}
      },
      "source": [
        "class Solow:\n",
        "    r\"\"\"\n",
        "    Implements the Solow growth model with the update rule\n",
        "\n",
        "        k_{t+1} = [(s z k^α_t) + (1 - δ)k_t] /(1 + n)\n",
        "\n",
        "    \"\"\"\n",
        "    def __init__(self, n=0.05,  # population growth rate\n",
        "                       s=0.25,  # savings rate\n",
        "                       δ=0.1,   # depreciation rate\n",
        "                       α=0.3,   # share of labor\n",
        "                       z=2.0,   # productivity\n",
        "                       k=1.0):  # current capital stock\n",
        "\n",
        "        self.n, self.s, self.δ, self.α, self.z = n, s, δ, α, z\n",
        "        self.k = k\n",
        "\n",
        "    def h(self):\n",
        "        \"Evaluate the h function\"\n",
        "        # Unpack parameters (get rid of self to simplify notation)\n",
        "        n, s, δ, α, z = self.n, self.s, self.δ, self.α, self.z\n",
        "        # Apply the update rule\n",
        "        return (s * z * self.k**α + (1 - δ) * self.k) / (1 + n)\n",
        "\n",
        "    def update(self):\n",
        "        \"Update the current state (i.e., the capital stock).\"\n",
        "        self.k =  self.h()\n",
        "\n",
        "    def steady_state(self):\n",
        "        \"Compute the steady state value of capital.\"\n",
        "        # Unpack parameters (get rid of self to simplify notation)\n",
        "        n, s, δ, α, z = self.n, self.s, self.δ, self.α, self.z\n",
        "        # Compute and return steady state\n",
        "        return ((s * z) / (n + δ))**(1 / (1 - α))\n",
        "\n",
        "    def generate_sequence(self, t):\n",
        "        \"Generate and return a time series of length t\"\n",
        "        path = []\n",
        "        for i in range(t):\n",
        "            path.append(self.k)\n",
        "            self.update()\n",
        "        return path"
      ],
      "execution_count": 0,
      "outputs": []
    },
    {
      "cell_type": "markdown",
      "metadata": {
        "id": "niEL7GJ9lbY3",
        "colab_type": "text"
      },
      "source": [
        "Here’s a little program that uses the class to compute  time series from two different initial conditions.\n",
        "\n",
        "The common steady state is also plotted for comparison"
      ]
    },
    {
      "cell_type": "code",
      "metadata": {
        "hide-output": false,
        "id": "7Qra2wOtlbY5",
        "colab_type": "code",
        "colab": {
          "base_uri": "https://localhost:8080/",
          "height": 395
        },
        "outputId": "226a9894-3553-4a92-8e4a-8e9db9a54f99"
      },
      "source": [
        "s1 = Solow()\n",
        "s2 = Solow(k=8.0)\n",
        "\n",
        "T = 60\n",
        "fig, ax = plt.subplots(figsize=(9, 6))\n",
        "\n",
        "# Plot the common steady state value of capital\n",
        "ax.plot([s1.steady_state()]*T, 'k-', label='steady state')\n",
        "\n",
        "# Plot time series for each economy\n",
        "for s in s1, s2:\n",
        "    lb = f'capital series from initial state {s.k}'\n",
        "    ax.plot(s.generate_sequence(T), 'o-', lw=2, alpha=0.6, label=lb)\n",
        "\n",
        "ax.set_xlabel('$k_{t+1}$', fontsize=14)\n",
        "ax.set_ylabel('$k_t$', fontsize=14)\n",
        "ax.legend()\n",
        "plt.show()"
      ],
      "execution_count": 16,
      "outputs": [
        {
          "output_type": "display_data",
          "data": {
            "image/png": "[encoded data removed]",
            "text/plain": [
              "<Figure size 648x432 with 1 Axes>"
            ]
          },
          "metadata": {
            "tags": []
          }
        }
      ]
    },
    {
      "cell_type": "markdown",
      "metadata": {
        "id": "PlvIoM7UlbY_",
        "colab_type": "text"
      },
      "source": [
        "### Example: A Market\n",
        "\n",
        "Next, let’s write a class for a simple one good market where agents are price takers.\n",
        "\n",
        "The market consists of the following objects:\n",
        "\n",
        "- A linear demand curve $ Q = a_d - b_d p $  \n",
        "- A linear supply curve $ Q = a_z + b_z (p - t) $  \n",
        "\n",
        "\n",
        "Here\n",
        "\n",
        "- $ p $ is price paid by the consumer,  $ Q $ is quantity and $ t $ is a per-unit tax.  \n",
        "- Other symbols are demand and supply parameters.  \n",
        "\n",
        "\n",
        "The class provides methods to compute various values of interest, including competitive equilibrium price and quantity, tax revenue raised, consumer surplus and producer surplus.\n",
        "\n",
        "Here’s our implementation.\n",
        "\n",
        "(It uses a function from SciPy called quad for numerical integration—a topic we will say more about later on.)"
      ]
    },
    {
      "cell_type": "code",
      "metadata": {
        "hide-output": false,
        "id": "i4GPC8wLlbY_",
        "colab_type": "code",
        "colab": {}
      },
      "source": [
        "from scipy.integrate import quad\n",
        "\n",
        "class Market:\n",
        "\n",
        "    def __init__(self, ad, bd, az, bz, tax):\n",
        "        \"\"\"\n",
        "        Set up market parameters.  All parameters are scalars.  See\n",
        "        https://lectures.quantecon.org/py/python_oop.html for interpretation.\n",
        "\n",
        "        \"\"\"\n",
        "        self.ad, self.bd, self.az, self.bz, self.tax = ad, bd, az, bz, tax\n",
        "        if ad < az:\n",
        "            raise ValueError('Insufficient demand.')\n",
        "\n",
        "    def price(self):\n",
        "        \"Return equilibrium price\"\n",
        "        return  (self.ad - self.az + self.bz * self.tax) / (self.bd + self.bz)\n",
        "\n",
        "    def quantity(self):\n",
        "        \"Compute equilibrium quantity\"\n",
        "        return  self.ad - self.bd * self.price()\n",
        "\n",
        "    def consumer_surp(self):\n",
        "        \"Compute consumer surplus\"\n",
        "        # == Compute area under inverse demand function == #\n",
        "        integrand = lambda x: (self.ad / self.bd) - (1 / self.bd) * x\n",
        "        area, error = quad(integrand, 0, self.quantity())\n",
        "        return area - self.price() * self.quantity()\n",
        "\n",
        "    def producer_surp(self):\n",
        "        \"Compute producer surplus\"\n",
        "        #  == Compute area above inverse supply curve, excluding tax == #\n",
        "        integrand = lambda x: -(self.az / self.bz) + (1 / self.bz) * x\n",
        "        area, error = quad(integrand, 0, self.quantity())\n",
        "        return (self.price() - self.tax) * self.quantity() - area\n",
        "\n",
        "    def taxrev(self):\n",
        "        \"Compute tax revenue\"\n",
        "        return self.tax * self.quantity()\n",
        "\n",
        "    def inverse_demand(self, x):\n",
        "        \"Compute inverse demand\"\n",
        "        return self.ad / self.bd - (1 / self.bd)* x\n",
        "\n",
        "    def inverse_supply(self, x):\n",
        "        \"Compute inverse supply curve\"\n",
        "        return -(self.az / self.bz) + (1 / self.bz) * x + self.tax\n",
        "\n",
        "    def inverse_supply_no_tax(self, x):\n",
        "        \"Compute inverse supply curve without tax\"\n",
        "        return -(self.az / self.bz) + (1 / self.bz) * x"
      ],
      "execution_count": 0,
      "outputs": []
    },
    {
      "cell_type": "markdown",
      "metadata": {
        "id": "GnYQqAColbZG",
        "colab_type": "text"
      },
      "source": [
        "Here’s a sample of usage"
      ]
    },
    {
      "cell_type": "code",
      "metadata": {
        "hide-output": false,
        "id": "TDbLkr7nlbZH",
        "colab_type": "code",
        "colab": {
          "base_uri": "https://localhost:8080/",
          "height": 34
        },
        "outputId": "4a9c4e04-c203-4b5f-f433-1006c1e739da"
      },
      "source": [
        "baseline_params = 15, .5, -2, .5, 3\n",
        "m = Market(*baseline_params)\n",
        "print(\"equilibrium price = \", m.price())"
      ],
      "execution_count": 18,
      "outputs": [
        {
          "output_type": "stream",
          "text": [
            "equilibrium price =  18.5\n"
          ],
          "name": "stdout"
        }
      ]
    },
    {
      "cell_type": "code",
      "metadata": {
        "hide-output": false,
        "id": "8_bBwacjlbZO",
        "colab_type": "code",
        "colab": {
          "base_uri": "https://localhost:8080/",
          "height": 34
        },
        "outputId": "ec60b54c-c223-4520-fa76-5c883d1265f0"
      },
      "source": [
        "print(\"consumer surplus = \", m.consumer_surp())"
      ],
      "execution_count": 19,
      "outputs": [
        {
          "output_type": "stream",
          "text": [
            "consumer surplus =  33.0625\n"
          ],
          "name": "stdout"
        }
      ]
    },
    {
      "cell_type": "markdown",
      "metadata": {
        "id": "CcKJZ4rQlbZS",
        "colab_type": "text"
      },
      "source": [
        "Here’s a short program that uses this class to plot an inverse demand curve together with inverse\n",
        "supply curves  with and without taxes"
      ]
    },
    {
      "cell_type": "code",
      "metadata": {
        "hide-output": false,
        "id": "FQuaDzB3lbZS",
        "colab_type": "code",
        "colab": {
          "base_uri": "https://localhost:8080/",
          "height": 283
        },
        "outputId": "2dcd4421-da3d-44c3-e382-f5a0b90c9569"
      },
      "source": [
        "# Baseline ad, bd, az, bz, tax\n",
        "baseline_params = 15, .5, -2, .5, 3\n",
        "m = Market(*baseline_params)\n",
        "\n",
        "q_max = m.quantity() * 2\n",
        "q_grid = np.linspace(0.0, q_max, 100)\n",
        "pd = m.inverse_demand(q_grid)\n",
        "ps = m.inverse_supply(q_grid)\n",
        "psno = m.inverse_supply_no_tax(q_grid)\n",
        "\n",
        "fig, ax = plt.subplots()\n",
        "ax.plot(q_grid, pd, lw=2, alpha=0.6, label='demand')\n",
        "ax.plot(q_grid, ps, lw=2, alpha=0.6, label='supply')\n",
        "ax.plot(q_grid, psno, '--k', lw=2, alpha=0.6, label='supply without tax')\n",
        "ax.set_xlabel('quantity', fontsize=14)\n",
        "ax.set_xlim(0, q_max)\n",
        "ax.set_ylabel('price', fontsize=14)\n",
        "ax.legend(loc='lower right', frameon=False, fontsize=14)\n",
        "plt.show()"
      ],
      "execution_count": 20,
      "outputs": [
        {
          "output_type": "display_data",
          "data": {
            "image/png": "[encoded data removed]",
            "text/plain": [
              "<Figure size 432x288 with 1 Axes>"
            ]
          },
          "metadata": {
            "tags": []
          }
        }
      ]
    },
    {
      "cell_type": "markdown",
      "metadata": {
        "id": "CtR8DBH2lbZZ",
        "colab_type": "text"
      },
      "source": [
        "The next program provides a function that\n",
        "\n",
        "- takes an instance of `Market` as a parameter  \n",
        "- computes dead weight loss from the imposition of the tax  "
      ]
    },
    {
      "cell_type": "code",
      "metadata": {
        "hide-output": false,
        "id": "mg0HHJEclbZc",
        "colab_type": "code",
        "colab": {}
      },
      "source": [
        "def deadw(m):\n",
        "    \"Computes deadweight loss for market m.\"\n",
        "    # == Create analogous market with no tax == #\n",
        "    m_no_tax = Market(m.ad, m.bd, m.az, m.bz, 0)\n",
        "    # == Compare surplus, return difference == #\n",
        "    surp1 = m_no_tax.consumer_surp() + m_no_tax.producer_surp()\n",
        "    surp2 = m.consumer_surp() + m.producer_surp() + m.taxrev()\n",
        "    return surp1 - surp2"
      ],
      "execution_count": 0,
      "outputs": []
    },
    {
      "cell_type": "markdown",
      "metadata": {
        "id": "3SOObt1VlbZf",
        "colab_type": "text"
      },
      "source": [
        "Here’s an example of usage"
      ]
    },
    {
      "cell_type": "code",
      "metadata": {
        "hide-output": false,
        "id": "nd-vxrrtlbZg",
        "colab_type": "code",
        "colab": {
          "base_uri": "https://localhost:8080/",
          "height": 34
        },
        "outputId": "ce855fef-c434-4ab9-e2b5-0c1c6d1d4281"
      },
      "source": [
        "baseline_params = 15, .5, -2, .5, 3\n",
        "m = Market(*baseline_params)\n",
        "deadw(m)  # Show deadweight loss"
      ],
      "execution_count": 22,
      "outputs": [
        {
          "output_type": "execute_result",
          "data": {
            "text/plain": [
              "1.125"
            ]
          },
          "metadata": {
            "tags": []
          },
          "execution_count": 22
        }
      ]
    },
    {
      "cell_type": "markdown",
      "metadata": {
        "id": "PS4NIIhAlbZq",
        "colab_type": "text"
      },
      "source": [
        "### Example: Chaos\n",
        "\n",
        "Let’s look at one more example, related to chaotic dynamics in nonlinear systems.\n",
        "\n",
        "One simple transition rule that can generate complex dynamics is the logistic map\n",
        "\n",
        "\n",
        "<a id='equation-quadmap2'></a>\n",
        "$$\n",
        "x_{t+1} = r x_t(1 - x_t) ,\n",
        "\\quad x_0 \\in [0, 1],\n",
        "\\quad r \\in [0, 4] \\tag{2}\n",
        "$$\n",
        "\n",
        "Let’s write a class for generating time series from this model.\n",
        "\n",
        "Here’s one implementation"
      ]
    },
    {
      "cell_type": "code",
      "metadata": {
        "hide-output": false,
        "id": "YhlO5JielbZr",
        "colab_type": "code",
        "colab": {}
      },
      "source": [
        "class Chaos:\n",
        "  \"\"\"\n",
        "  Models the dynamical system with :math:`x_{t+1} = r x_t (1 - x_t)`\n",
        "  \"\"\"\n",
        "  def __init__(self, x0, r):\n",
        "      \"\"\"\n",
        "      Initialize with state x0 and parameter r\n",
        "      \"\"\"\n",
        "      self.x, self.r = x0, r\n",
        "\n",
        "  def update(self):\n",
        "      \"Apply the map to update state.\"\n",
        "      self.x =  self.r * self.x *(1 - self.x)\n",
        "\n",
        "  def generate_sequence(self, n):\n",
        "      \"Generate and return a sequence of length n.\"\n",
        "      path = []\n",
        "      for i in range(n):\n",
        "          path.append(self.x)\n",
        "          self.update()\n",
        "      return path"
      ],
      "execution_count": 0,
      "outputs": []
    },
    {
      "cell_type": "markdown",
      "metadata": {
        "id": "l6cSH4g0lbZu",
        "colab_type": "text"
      },
      "source": [
        "Here’s an example of usage"
      ]
    },
    {
      "cell_type": "code",
      "metadata": {
        "hide-output": false,
        "id": "0BZkq4iRlbZv",
        "colab_type": "code",
        "colab": {
          "base_uri": "https://localhost:8080/",
          "height": 34
        },
        "outputId": "68a4a7de-abe3-4bfd-8958-5a3830613130"
      },
      "source": [
        "ch = Chaos(0.1, 4.0)     # x0 = 0.1 and r = 0.4\n",
        "ch.generate_sequence(5)  # First 5 iterates"
      ],
      "execution_count": 24,
      "outputs": [
        {
          "output_type": "execute_result",
          "data": {
            "text/plain": [
              "[0.1, 0.36000000000000004, 0.9216, 0.28901376000000006, 0.8219392261226498]"
            ]
          },
          "metadata": {
            "tags": []
          },
          "execution_count": 24
        }
      ]
    },
    {
      "cell_type": "markdown",
      "metadata": {
        "id": "eM9-6_djlbZz",
        "colab_type": "text"
      },
      "source": [
        "This piece of code plots a longer trajectory"
      ]
    },
    {
      "cell_type": "code",
      "metadata": {
        "hide-output": false,
        "id": "qVT5iP5glbZ0",
        "colab_type": "code",
        "colab": {
          "base_uri": "https://localhost:8080/",
          "height": 283
        },
        "outputId": "cb9240cf-54f2-4b78-cd49-a7efae5a212d"
      },
      "source": [
        "ch = Chaos(0.1, 4.0)\n",
        "ts_length = 250\n",
        "\n",
        "fig, ax = plt.subplots()\n",
        "ax.set_xlabel('$t$', fontsize=14)\n",
        "ax.set_ylabel('$x_t$', fontsize=14)\n",
        "x = ch.generate_sequence(ts_length)\n",
        "ax.plot(range(ts_length), x, 'bo-', alpha=0.5, lw=2, label='$x_t$')\n",
        "plt.show()"
      ],
      "execution_count": 25,
      "outputs": [
        {
          "output_type": "display_data",
          "data": {
            "image/png": "[encoded data removed]",
            "text/plain": [
              "<Figure size 432x288 with 1 Axes>"
            ]
          },
          "metadata": {
            "tags": []
          }
        }
      ]
    },
    {
      "cell_type": "markdown",
      "metadata": {
        "id": "oiWRPAanlbZ6",
        "colab_type": "text"
      },
      "source": [
        "The next piece of code provides a bifurcation diagram"
      ]
    },
    {
      "cell_type": "code",
      "metadata": {
        "hide-output": false,
        "id": "4wq210vhlbZ6",
        "colab_type": "code",
        "colab": {
          "base_uri": "https://localhost:8080/",
          "height": 284
        },
        "outputId": "5cc2058b-0250-415e-85d0-86abe5b286bd"
      },
      "source": [
        "fig, ax = plt.subplots()\n",
        "ch = Chaos(0.1, 4)\n",
        "r = 2.5\n",
        "while r < 4:\n",
        "    ch.r = r\n",
        "    t = ch.generate_sequence(1000)[950:]\n",
        "    ax.plot([r] * len(t), t, 'b.', ms=0.6)\n",
        "    r = r + 0.005\n",
        "\n",
        "ax.set_xlabel('$r$', fontsize=16)\n",
        "ax.set_ylabel('$x_t$', fontsize=16)\n",
        "plt.show()"
      ],
      "execution_count": 26,
      "outputs": [
        {
          "output_type": "display_data",
          "data": {
            "image/png": "[encoded data removed]",
            "text/plain": [
              "<Figure size 432x288 with 1 Axes>"
            ]
          },
          "metadata": {
            "tags": []
          }
        }
      ]
    },
    {
      "cell_type": "markdown",
      "metadata": {
        "id": "NFpHVM_rlbZ9",
        "colab_type": "text"
      },
      "source": [
        "On the horizontal axis is the parameter $ r $ in [(2)](#equation-quadmap2).\n",
        "\n",
        "The vertical axis is the state space $ [0, 1] $.\n",
        "\n",
        "For each $ r $ we compute a long time series and then plot the tail (the last 50 points).\n",
        "\n",
        "The tail of the sequence shows us where the trajectory concentrates after\n",
        "settling down to some kind of steady state, if a steady state exists.\n",
        "\n",
        "Whether it settles down, and the character of the steady state to which it does settle down, depend on the value of $ r $.\n",
        "\n",
        "For $ r $ between about 2.5 and 3, the time series settles into a single fixed point plotted on the vertical axis.\n",
        "\n",
        "For $ r $ between about 3 and 3.45, the time series settles down to oscillating between the two values plotted on the vertical\n",
        "axis.\n",
        "\n",
        "For $ r $ a little bit higher than 3.45, the time series settles down to oscillating among the four values plotted on the vertical axis.\n",
        "\n",
        "Notice that there is no value of $ r $ that leads to a steady state oscillating among three values."
      ]
    },
    {
      "cell_type": "markdown",
      "metadata": {
        "id": "L1-VSDdylbZ-",
        "colab_type": "text"
      },
      "source": [
        "## Special Methods\n",
        "\n",
        "\n",
        "<a id='index-5'></a>\n",
        "Python provides special methods with which some neat tricks can be performed.\n",
        "\n",
        "For example, recall that lists and tuples have a notion of length and that this length can be queried via the `len` function"
      ]
    },
    {
      "cell_type": "code",
      "metadata": {
        "hide-output": false,
        "id": "HhEegYralbZ-",
        "colab_type": "code",
        "colab": {
          "base_uri": "https://localhost:8080/",
          "height": 34
        },
        "outputId": "2900cab5-30a0-4d0a-c093-fd355fd77a89"
      },
      "source": [
        "x = (10, 20)\n",
        "len(x)"
      ],
      "execution_count": 27,
      "outputs": [
        {
          "output_type": "execute_result",
          "data": {
            "text/plain": [
              "2"
            ]
          },
          "metadata": {
            "tags": []
          },
          "execution_count": 27
        }
      ]
    },
    {
      "cell_type": "markdown",
      "metadata": {
        "id": "umyyOvm8lbaC",
        "colab_type": "text"
      },
      "source": [
        "If you want to provide a return value for the `len` function when applied to\n",
        "your user-defined object, use the `__len__` special method"
      ]
    },
    {
      "cell_type": "code",
      "metadata": {
        "hide-output": false,
        "id": "ATrLx1Y-lbaC",
        "colab_type": "code",
        "colab": {}
      },
      "source": [
        "class Foo:\n",
        "\n",
        "    def __len__(self):\n",
        "        return 42"
      ],
      "execution_count": 0,
      "outputs": []
    },
    {
      "cell_type": "markdown",
      "metadata": {
        "id": "-zpsVh1LlbaI",
        "colab_type": "text"
      },
      "source": [
        "Now we get"
      ]
    },
    {
      "cell_type": "code",
      "metadata": {
        "hide-output": false,
        "id": "Pg8tkiDllbaJ",
        "colab_type": "code",
        "colab": {
          "base_uri": "https://localhost:8080/",
          "height": 34
        },
        "outputId": "b5a7f2bf-c623-4ce5-b4a6-b59c7012f505"
      },
      "source": [
        "f = Foo()\n",
        "len(f)"
      ],
      "execution_count": 29,
      "outputs": [
        {
          "output_type": "execute_result",
          "data": {
            "text/plain": [
              "42"
            ]
          },
          "metadata": {
            "tags": []
          },
          "execution_count": 29
        }
      ]
    },
    {
      "cell_type": "markdown",
      "metadata": {
        "id": "H2Vb-QAulbaP",
        "colab_type": "text"
      },
      "source": [
        "\n",
        "<a id='call-method'></a>\n",
        "A special method we will use regularly is the `__call__` method.\n",
        "\n",
        "This method can be used to make your instances callable, just like functions"
      ]
    },
    {
      "cell_type": "code",
      "metadata": {
        "hide-output": false,
        "id": "tb--TVumlbaQ",
        "colab_type": "code",
        "colab": {}
      },
      "source": [
        "class Foo:\n",
        "\n",
        "    def __call__(self, x):\n",
        "        return x + 42"
      ],
      "execution_count": 0,
      "outputs": []
    },
    {
      "cell_type": "markdown",
      "metadata": {
        "id": "KELagxNPlbaT",
        "colab_type": "text"
      },
      "source": [
        "After running we get"
      ]
    },
    {
      "cell_type": "code",
      "metadata": {
        "hide-output": false,
        "id": "Th67wTIclbaU",
        "colab_type": "code",
        "colab": {
          "base_uri": "https://localhost:8080/",
          "height": 34
        },
        "outputId": "2b691dac-37ca-4d9e-f01e-0db28299d208"
      },
      "source": [
        "f = Foo()\n",
        "f(8)  # Exactly equivalent to f.__call__(8)"
      ],
      "execution_count": 54,
      "outputs": [
        {
          "output_type": "execute_result",
          "data": {
            "text/plain": [
              "50"
            ]
          },
          "metadata": {
            "tags": []
          },
          "execution_count": 54
        }
      ]
    },
    {
      "cell_type": "markdown",
      "metadata": {
        "id": "422GMfRdlbab",
        "colab_type": "text"
      },
      "source": [
        "Exercise 1 provides a more useful example."
      ]
    },
    {
      "cell_type": "markdown",
      "metadata": {
        "id": "c2nBR5cBlbab",
        "colab_type": "text"
      },
      "source": [
        "## Exercises\n",
        "\n",
        "\n",
        "<a id='oop-ex1'></a>"
      ]
    },
    {
      "cell_type": "markdown",
      "metadata": {
        "id": "r-eRswwIlbac",
        "colab_type": "text"
      },
      "source": [
        "### Exercise 1\n",
        "\n",
        "The [empirical cumulative distribution function (ecdf)](https://en.wikipedia.org/wiki/Empirical_distribution_function) corresponding to a sample $ \\{X_i\\}_{i=1}^n $ is defined as\n",
        "\n",
        "\n",
        "<a id='equation-emdist'></a>\n",
        "$$\n",
        "F_n(x) := \\frac{1}{n}  \\sum_{i=1}^n \\mathbf{1}\\{X_i \\leq x\\}\n",
        "  \\qquad (x \\in \\mathbb{R}) \\tag{3}\n",
        "$$\n",
        "\n",
        "Here $ \\mathbf{1}\\{X_i \\leq x\\} $ is an indicator function (one if $ X_i \\leq x $ and zero otherwise)\n",
        "and hence $ F_n(x) $ is the fraction of the sample that falls below $ x $.\n",
        "\n",
        "The **Glivenko–Cantelli Theorem** states that, provided that the sample is IID, the ecdf $ F_n $ converges to the true distribution function $ F $.\n",
        "\n",
        "Implement $ F_n $ as a class called `ECDF`, where\n",
        "\n",
        "- A given sample $ \\{X_i\\}_{i=1}^n $ are the instance data, stored as `self.observations`.  \n",
        "- The class implements a `__call__` method that returns $ F_n(x) $ for any $ x $.  \n",
        "\n",
        "\n",
        "Your code should work as follows (modulo randomness)"
      ]
    },
    {
      "cell_type": "markdown",
      "metadata": {
        "hide-output": false,
        "id": "y6TRBL0Albad",
        "colab_type": "text"
      },
      "source": [
        "```python3\n",
        "from random import uniform\n",
        "\n",
        "samples = [uniform(0, 1) for i in range(10)]\n",
        "F = ECDF(samples)\n",
        "F(0.5)  # Evaluate ecdf at x = 0.5\n",
        "```\n"
      ]
    },
    {
      "cell_type": "markdown",
      "metadata": {
        "hide-output": false,
        "id": "WQW1s5qvlbaf",
        "colab_type": "text"
      },
      "source": [
        "```python3\n",
        "F.observations = [uniform(0, 1) for i in range(1000)]\n",
        "F(0.5)\n",
        "```\n"
      ]
    },
    {
      "cell_type": "code",
      "metadata": {
        "id": "9o5qsbV7xU_-",
        "colab_type": "code",
        "colab": {}
      },
      "source": [
        "import numpy as np\n",
        "\n",
        "class ECDF:\n",
        "\n",
        "  def __init__(self,samples):\n",
        "   self.observations = samples\n",
        "    #self.t = t\n",
        "\n",
        "  def __call__(self,x):\n",
        "    X = np.array(self.observations)\n",
        "    s = len(X[X<=x])/len(X)\n",
        "    return s"
      ],
      "execution_count": 0,
      "outputs": []
    },
    {
      "cell_type": "code",
      "metadata": {
        "id": "h5D8FJYCzatu",
        "colab_type": "code",
        "colab": {
          "base_uri": "https://localhost:8080/",
          "height": 51
        },
        "outputId": "4b7c5d2b-32b0-43dc-8ff4-29c83e80e118"
      },
      "source": [
        "# == test == #\n",
        "from random import uniform #, seed\n",
        "#np.random.seed(1800)\n",
        "#seed(1800)\n",
        "\n",
        "samples = [uniform(0, 1) for i in range(10)]\n",
        "F = ECDF(samples)\n",
        "\n",
        "print(F(0.5))  # Evaluate ecdf at x = 0.5\n",
        "\n",
        "F.observations = [uniform(0, 1) for i in range(1000)]\n",
        "\n",
        "print(F(0.5))"
      ],
      "execution_count": 71,
      "outputs": [
        {
          "output_type": "stream",
          "text": [
            "0.6\n",
            "0.5\n"
          ],
          "name": "stdout"
        }
      ]
    },
    {
      "cell_type": "markdown",
      "metadata": {
        "id": "VeanRgvRlbag",
        "colab_type": "text"
      },
      "source": [
        "Aim for clarity, not efficiency.\n",
        "\n",
        "\n",
        "<a id='oop-ex2'></a>"
      ]
    },
    {
      "cell_type": "markdown",
      "metadata": {
        "id": "dedrk8j7lbag",
        "colab_type": "text"
      },
      "source": [
        "### Exercise 2\n",
        "\n",
        "In an [earlier exercise](https://python-programming.quantecon.org/python_essentials.html#pyess-ex2), you wrote a function for evaluating polynomials.\n",
        "\n",
        "This exercise is an extension, where the task is to build a simple class called `Polynomial` for representing and manipulating polynomial functions such as\n",
        "\n",
        "\n",
        "<a id='equation-polynom'></a>\n",
        "$$\n",
        "p(x) = a_0 + a_1 x + a_2 x^2 + \\cdots a_N x^N = \\sum_{n=0}^N a_n x^n\n",
        "    \\qquad (x \\in \\mathbb{R}) \\tag{4}\n",
        "$$\n",
        "\n",
        "The instance data for the class `Polynomial` will be the coefficients (in the case of [(4)](#equation-polynom), the numbers $ a_0, \\ldots, a_N $).\n",
        "\n",
        "Provide methods that\n",
        "\n",
        "1. Evaluate the polynomial [(4)](#equation-polynom), returning $ p(x) $ for any $ x $.  \n",
        "1. Differentiate the polynomial, replacing the original coefficients with those of its derivative $ p' $.  \n",
        "\n",
        "\n",
        "Avoid using any `import` statements."
      ]
    },
    {
      "cell_type": "code",
      "metadata": {
        "id": "1fAj_zkH1z3s",
        "colab_type": "code",
        "colab": {}
      },
      "source": [
        "class Polynomial:\n",
        "\n",
        "  def __init__(self,coeff,x):\n",
        "    self.coeff = coeff\n",
        "\n",
        "  def __call__(self,x):\n",
        "    return sum(a*self.x**i for i,a in enumerate(self.coeff))\n",
        "\n",
        "  def differentiate(self):\n",
        "    new_coeff = [a*i for i,a in enumerate(self.coeff)]\n",
        "    del new_coeff[0]\n",
        "    self.coeff = new_coeff\n",
        "    return new_coeff"
      ],
      "execution_count": 0,
      "outputs": []
    },
    {
      "cell_type": "markdown",
      "metadata": {
        "id": "d0lsBQCdlbah",
        "colab_type": "text"
      },
      "source": [
        "## Solutions"
      ]
    },
    {
      "cell_type": "markdown",
      "metadata": {
        "id": "g95VdZqNlbah",
        "colab_type": "text"
      },
      "source": [
        "### Exercise 1"
      ]
    },
    {
      "cell_type": "code",
      "metadata": {
        "hide-output": false,
        "id": "U6xL-zZKlbai",
        "colab_type": "code",
        "colab": {}
      },
      "source": [
        "class ECDF:\n",
        "\n",
        "    def __init__(self, observations):\n",
        "        self.observations = observations\n",
        "\n",
        "    def __call__(self, x):\n",
        "        counter = 0.0\n",
        "        for obs in self.observations:\n",
        "            if obs <= x:\n",
        "                counter += 1\n",
        "        return counter / len(self.observations)"
      ],
      "execution_count": 0,
      "outputs": []
    },
    {
      "cell_type": "code",
      "metadata": {
        "hide-output": false,
        "id": "cMtRrnKolbao",
        "colab_type": "code",
        "colab": {
          "base_uri": "https://localhost:8080/",
          "height": 51
        },
        "outputId": "814a7fe0-5f5b-4826-fadb-78b76aaae1a7"
      },
      "source": [
        "# == test == #\n",
        "\n",
        "from random import uniform #, seed\n",
        "#np.random.seed(1800)\n",
        "#seed(1800)\n",
        "\n",
        "samples = [uniform(0, 1) for i in range(10)]\n",
        "F = ECDF(samples)\n",
        "\n",
        "print(F(0.5))  # Evaluate ecdf at x = 0.5\n",
        "\n",
        "F.observations = [uniform(0, 1) for i in range(1000)]\n",
        "\n",
        "print(F(0.5))"
      ],
      "execution_count": 72,
      "outputs": [
        {
          "output_type": "stream",
          "text": [
            "0.6\n",
            "0.5\n"
          ],
          "name": "stdout"
        }
      ]
    },
    {
      "cell_type": "markdown",
      "metadata": {
        "id": "iWpN2cITlbar",
        "colab_type": "text"
      },
      "source": [
        "### Exercise 2"
      ]
    },
    {
      "cell_type": "code",
      "metadata": {
        "hide-output": false,
        "id": "AucI4p62lbar",
        "colab_type": "code",
        "colab": {}
      },
      "source": [
        "class Polynomial:\n",
        "\n",
        "    def __init__(self, coefficients):\n",
        "        \"\"\"\n",
        "        Creates an instance of the Polynomial class representing\n",
        "\n",
        "            p(x) = a_0 x^0 + ... + a_N x^N,\n",
        "\n",
        "        where a_i = coefficients[i].\n",
        "        \"\"\"\n",
        "        self.coefficients = coefficients\n",
        "\n",
        "    def __call__(self, x):\n",
        "        \"Evaluate the polynomial at x.\"\n",
        "        y = 0\n",
        "        for i, a in enumerate(self.coefficients):\n",
        "            y += a * x**i\n",
        "        return y\n",
        "\n",
        "    def differentiate(self):\n",
        "        \"Reset self.coefficients to those of p' instead of p.\"\n",
        "        new_coefficients = []\n",
        "        for i, a in enumerate(self.coefficients):\n",
        "            new_coefficients.append(i * a)\n",
        "        # Remove the first element, which is zero\n",
        "        del new_coefficients[0]\n",
        "        # And reset coefficients data to new values\n",
        "        self.coefficients = new_coefficients\n",
        "        return new_coefficients"
      ],
      "execution_count": 0,
      "outputs": []
    }
  ]
}